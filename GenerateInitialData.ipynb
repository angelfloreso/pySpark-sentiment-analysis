{
 "cells": [
  {
   "cell_type": "markdown",
   "id": "c790a9d2-6f34-4096-8ff0-7599d8c173c7",
   "metadata": {},
   "source": [
    "# Lyrics sentiment analysis and prediction using pyspark\n",
    "\n",
    "https://www.kaggle.com/datasets/cakiki/muse-the-musical-sentiment-dataset\n",
    "\n",
    "https://www.kaggle.com/datasets/carlosgdcj/genius-song-lyrics-with-language-information\n",
    "\n",
    "This notebook file reads 2 CSV files, one with Songs lyricss and other with Songs classified by sentiments\n"
   ]
  },
  {
   "cell_type": "markdown",
   "id": "8a9b071c-019f-43a6-88ed-e25fe37bfa30",
   "metadata": {},
   "source": [
    "## Adding dependencies"
   ]
  },
  {
   "cell_type": "code",
   "execution_count": 1,
   "id": "3ab0c1a8-17a4-4f93-bdd8-f77cb2fc58ff",
   "metadata": {},
   "outputs": [],
   "source": [
    "from IPython import display\n",
    "import math\n",
    "import pandas as pd\n",
    "import numpy as np\n",
    "\n",
    "from pyspark.sql import SQLContext\n",
    "from pyspark import SparkContext\n",
    "from pyspark.sql.types import *"
   ]
  },
  {
   "cell_type": "markdown",
   "id": "15b9c3fb-b83e-452d-9603-c1e492efbe31",
   "metadata": {},
   "source": [
    "## Creating Spark context"
   ]
  },
  {
   "cell_type": "code",
   "execution_count": 2,
   "id": "759151eb-c995-4f34-b646-5daa625853d6",
   "metadata": {},
   "outputs": [
    {
     "name": "stderr",
     "output_type": "stream",
     "text": [
      "24/03/21 12:36:45 WARN Utils: Your hostname, af-Inspiron-7566 resolves to a loopback address: 127.0.1.1; using 192.168.1.65 instead (on interface wlp3s0)\n",
      "24/03/21 12:36:45 WARN Utils: Set SPARK_LOCAL_IP if you need to bind to another address\n",
      "Setting default log level to \"WARN\".\n",
      "To adjust logging level use sc.setLogLevel(newLevel). For SparkR, use setLogLevel(newLevel).\n",
      "24/03/21 12:36:46 WARN NativeCodeLoader: Unable to load native-hadoop library for your platform... using builtin-java classes where applicable\n",
      "/home/af/.local/lib/python3.10/site-packages/pyspark/sql/context.py:113: FutureWarning: Deprecated in 3.0.0. Use SparkSession.builder.getOrCreate() instead.\n",
      "  warnings.warn(\n"
     ]
    }
   ],
   "source": [
    "sc =SparkContext()\n",
    "sqlContext = SQLContext(sc)"
   ]
  },
  {
   "cell_type": "markdown",
   "id": "93ad9eb8-ed43-48bf-af44-d6a6bf178318",
   "metadata": {},
   "source": [
    "## Creating Schema for Emotions file"
   ]
  },
  {
   "cell_type": "code",
   "execution_count": 3,
   "id": "4d7b3215-42f6-4f17-9205-d28a090df734",
   "metadata": {},
   "outputs": [],
   "source": [
    "shcemaEmotions = StructType([\n",
    "    StructField(\"lastfm_url\", StringType()),\n",
    "    StructField(\"title\", StringType()),\n",
    "    StructField(\"artist\", StringType()),\n",
    "    StructField(\"seeds\", StringType()),\n",
    "    StructField(\"number_of_emotion_tags\", StringType()),\n",
    "    StructField(\"valence_tags\", StringType()),\n",
    "    StructField(\"arousal_tags\", StringType()),\n",
    "    StructField(\"dominance_tags\", StringType()),\n",
    "    StructField(\"mbid\", StringType()),\n",
    "    StructField(\"spotify_id\", StringType()),\n",
    "    StructField(\"genre\", StringType())\n",
    "])"
   ]
  },
  {
   "cell_type": "markdown",
   "id": "ce7be240-25e3-4853-a64e-d81a48d8e05c",
   "metadata": {},
   "source": [
    "## Creating Schema for Lyrics file"
   ]
  },
  {
   "cell_type": "code",
   "execution_count": 4,
   "id": "463fbc03-af74-478e-b190-79005e582c0b",
   "metadata": {},
   "outputs": [],
   "source": [
    "schemaLyrics = StructType([\n",
    "    StructField(\"title\", StringType()),\n",
    "    StructField(\"tag\", StringType()),\n",
    "    StructField(\"artist\", StringType()),\n",
    "    StructField(\"year\", StringType()),\n",
    "    StructField(\"views\", StringType()),\n",
    "    StructField(\"features\", StringType()),\n",
    "    StructField(\"lyrics\", StringType()),\n",
    "    StructField(\"id\", StringType()),\n",
    "    StructField(\"language_cld3\", StringType()),\n",
    "    StructField(\"language_ft\", StringType()),\n",
    "    StructField(\"language\", StringType())\n",
    "])"
   ]
  },
  {
   "cell_type": "markdown",
   "id": "7054ee13-fd92-44d7-a2e5-36e15f2ae7b9",
   "metadata": {},
   "source": [
    "## Definition of files"
   ]
  },
  {
   "cell_type": "code",
   "execution_count": 5,
   "id": "57db7cd5-a0c0-4a66-90d5-cc6b921a05e4",
   "metadata": {},
   "outputs": [],
   "source": [
    "#song_lyrics.csv file contains 3093218 songs data\n",
    "classificationFile = '/home/af/Desktop/Spark/songs_clasification.csv'\n",
    "lyricsFile = '/home/af/Desktop/Spark/song_lyrics.csv'\n",
    "outputFile = '/home/af/Desktop/Spark/output.csv'"
   ]
  },
  {
   "cell_type": "markdown",
   "id": "4fcfcd01-a8ef-4bc0-af31-30eb8c18b030",
   "metadata": {},
   "source": [
    "Reading CSV files for Emotions and Lyrics"
   ]
  },
  {
   "cell_type": "code",
   "execution_count": 6,
   "id": "e9f8990b-49c6-4c70-8e54-6ed42131413e",
   "metadata": {},
   "outputs": [],
   "source": [
    "dfE = sqlContext.read.format(\"csv\").option(\"header\", \"true\").schema(shcemaEmotions).load(classificationFile)#.limit(2000)\n",
    "dfL = sqlContext.read.format(\"csv\").option(\"ignoreLeadingWhiteSpace\", \"true\").option(\"multiline\", \"true\").option('quote','\"').option('escape', '\"').option(\"header\", \"true\").schema(schemaLyrics).load(lyricsFile)#.limit(2000)"
   ]
  },
  {
   "cell_type": "code",
   "execution_count": 7,
   "id": "14e0afb5-e1e6-4007-902d-72c1bc9efc66",
   "metadata": {},
   "outputs": [
    {
     "name": "stdout",
     "output_type": "stream",
     "text": [
      "+----------------+---------+--------------------+----------------------+-----------------+------------------+-----------------+-------+\n",
      "|           title|   artist|               seeds|number_of_emotion_tags|     valence_tags|      arousal_tags|   dominance_tags|  genre|\n",
      "+----------------+---------+--------------------+----------------------+-----------------+------------------+-----------------+-------+\n",
      "|'Till I Collapse|   Eminem|      ['aggressive']|                     6|             4.55| 5.273124999999999|         5.690625|    rap|\n",
      "|       St. Anger|Metallica|      ['aggressive']|                     8|             3.71| 5.832999999999999|5.427250000000002|  metal|\n",
      "|        Speedin'|Rick Ross|      ['aggressive']|                     1|             3.08|              5.87|             5.49|    rap|\n",
      "|    Bamboo Banga|   M.I.A.|['aggressive', 'f...|                    13|6.555071428571428|5.5372142857142865|5.691357142857143|hip-hop|\n",
      "|      Die MF Die|     Dope|      ['aggressive']|                     7|3.771176470588235| 5.348235294117648|5.441764705882353|  metal|\n",
      "+----------------+---------+--------------------+----------------------+-----------------+------------------+-----------------+-------+\n",
      "only showing top 5 rows\n",
      "\n"
     ]
    },
    {
     "data": {
      "text/plain": [
       "90001"
      ]
     },
     "execution_count": 7,
     "metadata": {},
     "output_type": "execute_result"
    }
   ],
   "source": [
    "columns_to_drop = ['lastfm_url', 'mbid', 'spotify_id']\n",
    "dfE = dfE.drop(*columns_to_drop)\n",
    "dfE.show(5)\n",
    "dfE.count()"
   ]
  },
  {
   "cell_type": "code",
   "execution_count": 8,
   "id": "fc24aa33-0176-418a-b38d-63719e7e8563",
   "metadata": {},
   "outputs": [
    {
     "name": "stdout",
     "output_type": "stream",
     "text": [
      "+-----------------+---------+----+--------------------+\n",
      "|            title|   artist|year|              lyrics|\n",
      "+-----------------+---------+----+--------------------+\n",
      "|        Killa Cam|  Cam'ron|2004|[Chorus: Opera St...|\n",
      "|       Can I Live|    JAY-Z|1996|[Produced by Irv ...|\n",
      "|Forgive Me Father| Fabolous|2003|Maybe cause I'm e...|\n",
      "|     Down and Out|  Cam'ron|2004|[Produced by Kany...|\n",
      "|           Fly In|Lil Wayne|2005|[Intro]\\nSo they ...|\n",
      "+-----------------+---------+----+--------------------+\n",
      "only showing top 5 rows\n",
      "\n"
     ]
    },
    {
     "name": "stderr",
     "output_type": "stream",
     "text": [
      "                                                                                \r"
     ]
    },
    {
     "data": {
      "text/plain": [
       "3374198"
      ]
     },
     "execution_count": 8,
     "metadata": {},
     "output_type": "execute_result"
    }
   ],
   "source": [
    "dfL = dfL.where(dfL.language == \"en\")\n",
    "columns_to_drop = ['views', 'tag', 'features', 'id', 'language_cld3', 'language_ft', 'language']\n",
    "dfL = dfL.drop(*columns_to_drop)\n",
    "dfL.show(5)\n",
    "dfL.count()"
   ]
  },
  {
   "cell_type": "markdown",
   "id": "f5fbe00c-7d33-4c1a-92e8-8fb42071ff33",
   "metadata": {},
   "source": [
    "## Creating a combined list of both"
   ]
  },
  {
   "cell_type": "code",
   "execution_count": 9,
   "id": "67de694a-324b-4626-a5a7-c39cc35f3bbd",
   "metadata": {},
   "outputs": [
    {
     "name": "stderr",
     "output_type": "stream",
     "text": [
      "[Stage 9:>                                                          (0 + 1) / 1]\r"
     ]
    },
    {
     "name": "stdout",
     "output_type": "stream",
     "text": [
      "+------------+--------------------+------------+----------------------+-----------------+------------------+-----------------+-----------------+----+--------------------+\n",
      "|      artist|               title|       seeds|number_of_emotion_tags|     valence_tags|      arousal_tags|   dominance_tags|            genre|year|              lyrics|\n",
      "+------------+--------------------+------------+----------------------+-----------------+------------------+-----------------+-----------------+----+--------------------+\n",
      "|     Afroman|                Hush|['positive']|                     1|             7.57|               5.5|             7.26|          hip-hop|2000|[Hook] (Afroman t...|\n",
      "|  Aimee Mann|              You Do|  ['smooth']|                    15|5.512301587301589|3.2575396825396825|5.478571428571429|singer-songwriter|1999|[Verse 1]\\nYou st...|\n",
      "|  Air Supply|Even the Nights A...|['romantic']|                     4|7.420000000000001|            4.9625|5.911666666666666|        soft rock|1982|I, I was the lone...|\n",
      "|Alice Cooper|                DaDa|  ['spooky']|                     1|              4.4|               6.0|             4.48|     classic rock|1983|Da Da\\nDa Da\\nDa ...|\n",
      "| Alicia Keys|               Diary|  ['smooth']|                    14|6.613333333333333|3.9478787878787878|5.952727272727273|             soul|2004|[Verse 1: Alicia ...|\n",
      "+------------+--------------------+------------+----------------------+-----------------+------------------+-----------------+-----------------+----+--------------------+\n",
      "only showing top 5 rows\n",
      "\n"
     ]
    },
    {
     "name": "stderr",
     "output_type": "stream",
     "text": [
      "                                                                                \r"
     ]
    }
   ],
   "source": [
    "innerJoin = dfE.join(dfL, [\"artist\", \"title\"],\"inner\")\n",
    "innerJoin.show(5)"
   ]
  },
  {
   "cell_type": "code",
   "execution_count": 10,
   "id": "9e0aa634-159c-425e-ab90-beaadcfc716a",
   "metadata": {},
   "outputs": [
    {
     "name": "stderr",
     "output_type": "stream",
     "text": [
      "[Stage 14:>                                                         (0 + 1) / 1]\r"
     ]
    },
    {
     "name": "stdout",
     "output_type": "stream",
     "text": [
      "+--------------------+-----+\n",
      "|              artist|count|\n",
      "+--------------------+-----+\n",
      "|           Bob Dylan|   82|\n",
      "|        Warren Zevon|   76|\n",
      "|They Might Be Giants|   74|\n",
      "|     Robbie Williams|   73|\n",
      "|            The Cure|   73|\n",
      "|           Radiohead|   67|\n",
      "|         The Beatles|   67|\n",
      "|Manic Street Prea...|   63|\n",
      "|       Chelsea Wolfe|   59|\n",
      "|  The Mountain Goats|   59|\n",
      "|         of Montreal|   58|\n",
      "|           Kate Bush|   55|\n",
      "|           Tori Amos|   54|\n",
      "|       Elliott Smith|   53|\n",
      "|    Barenaked Ladies|   53|\n",
      "|         Bright Eyes|   52|\n",
      "|   Animal Collective|   51|\n",
      "|         Yo La Tengo|   51|\n",
      "|      Regina Spektor|   50|\n",
      "|       Kylie Minogue|   49|\n",
      "|           Tom Waits|   49|\n",
      "| The Magnetic Fields|   48|\n",
      "|           Cat Power|   47|\n",
      "|            Coldplay|   46|\n",
      "|                Cold|   46|\n",
      "|         David Bowie|   46|\n",
      "|        Jack Johnson|   45|\n",
      "|                Beck|   45|\n",
      "|      Sufjan Stevens|   45|\n",
      "|        The National|   43|\n",
      "|The Smashing Pump...|   42|\n",
      "|        Lana Del Rey|   42|\n",
      "|           Goldfrapp|   42|\n",
      "|    The Flaming Lips|   42|\n",
      "|           Lady Gaga|   41|\n",
      "|                 Low|   40|\n",
      "|     Jimmy Eat World|   40|\n",
      "|                Lush|   40|\n",
      "|          John Mayer|   39|\n",
      "|           PJ Harvey|   39|\n",
      "|       Janet Jackson|   39|\n",
      "|      Britney Spears|   39|\n",
      "|                Muse|   39|\n",
      "| Death Cab for Cutie|   38|\n",
      "|         Sonic Youth|   38|\n",
      "|             Garbage|   37|\n",
      "|        Modest Mouse|   36|\n",
      "|      Paul McCartney|   35|\n",
      "|  Dave Matthews Band|   35|\n",
      "|                Eels|   35|\n",
      "+--------------------+-----+\n",
      "only showing top 50 rows\n",
      "\n"
     ]
    },
    {
     "name": "stderr",
     "output_type": "stream",
     "text": [
      "                                                                                \r"
     ]
    }
   ],
   "source": [
    "from pyspark.sql.functions import col\n",
    "innerJoin.groupBy(\"artist\").count().orderBy(col(\"count\").desc()).show(50)"
   ]
  },
  {
   "cell_type": "code",
   "execution_count": 11,
   "id": "66a5d4e2-d7f0-409c-9d56-c0c22821df3e",
   "metadata": {},
   "outputs": [
    {
     "name": "stderr",
     "output_type": "stream",
     "text": [
      "                                                                                \r"
     ]
    },
    {
     "data": {
      "text/plain": [
       "27349"
      ]
     },
     "execution_count": 11,
     "metadata": {},
     "output_type": "execute_result"
    }
   ],
   "source": [
    "innerJoin.count()"
   ]
  },
  {
   "cell_type": "markdown",
   "id": "bfa9a218-6b4f-41b0-8bc1-3bc78f428161",
   "metadata": {},
   "source": [
    "## Generating file to train model"
   ]
  },
  {
   "cell_type": "code",
   "execution_count": 12,
   "id": "d6ecc7b5-1642-4b42-9643-0b5c204ef35d",
   "metadata": {},
   "outputs": [
    {
     "name": "stderr",
     "output_type": "stream",
     "text": [
      "                                                                                \r"
     ]
    }
   ],
   "source": [
    "innerJoin.toPandas().to_csv(outputFile, index=False)"
   ]
  },
  {
   "cell_type": "code",
   "execution_count": 13,
   "id": "20d5807e-efa4-4b2f-bdfe-ecb155948102",
   "metadata": {},
   "outputs": [
    {
     "name": "stdout",
     "output_type": "stream",
     "text": [
      "root\n",
      " |-- artist: string (nullable = true)\n",
      " |-- title: string (nullable = true)\n",
      " |-- seeds: string (nullable = true)\n",
      " |-- number_of_emotion_tags: string (nullable = true)\n",
      " |-- valence_tags: string (nullable = true)\n",
      " |-- arousal_tags: string (nullable = true)\n",
      " |-- dominance_tags: string (nullable = true)\n",
      " |-- genre: string (nullable = true)\n",
      " |-- year: string (nullable = true)\n",
      " |-- lyrics: string (nullable = true)\n",
      "\n"
     ]
    }
   ],
   "source": [
    "innerJoin.printSchema()"
   ]
  }
 ],
 "metadata": {
  "kernelspec": {
   "display_name": "Python 3 (ipykernel)",
   "language": "python",
   "name": "python3"
  },
  "language_info": {
   "codemirror_mode": {
    "name": "ipython",
    "version": 3
   },
   "file_extension": ".py",
   "mimetype": "text/x-python",
   "name": "python",
   "nbconvert_exporter": "python",
   "pygments_lexer": "ipython3",
   "version": "3.10.12"
  }
 },
 "nbformat": 4,
 "nbformat_minor": 5
}
