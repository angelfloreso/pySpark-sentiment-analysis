{
 "cells": [
  {
   "cell_type": "markdown",
   "id": "c790a9d2-6f34-4096-8ff0-7599d8c173c7",
   "metadata": {},
   "source": [
    "# Lyrics sentiment analysis and prediction using pyspark\n",
    "\n",
    "https://github.com/chaithanya21/Sentiment-Analysis-using-Pyspark-on-Multi-Social-Media-Data/blob/master/pyspark_ml_models.ipynb\n",
    "https://www.kaggle.com/datasets/cakiki/muse-the-musical-sentiment-dataset?select=muse_v3.csv\n",
    "https://spark.apache.org/docs/latest/api/python/reference/api/pyspark.ml.evaluation.MultilabelClassificationEvaluator.html\n",
    "\n",
    "This notebook file reads 2 CSV files, one with Songs lyricss and other with Songs classified by sentiments\n"
   ]
  },
  {
   "cell_type": "markdown",
   "id": "8a9b071c-019f-43a6-88ed-e25fe37bfa30",
   "metadata": {},
   "source": [
    "## Adding dependencies"
   ]
  },
  {
   "cell_type": "code",
   "execution_count": 1,
   "id": "3ab0c1a8-17a4-4f93-bdd8-f77cb2fc58ff",
   "metadata": {},
   "outputs": [],
   "source": [
    "from IPython import display\n",
    "import math\n",
    "import pandas as pd\n",
    "import numpy as np\n",
    "\n",
    "from pyspark.sql import SQLContext\n",
    "from pyspark import SparkContext\n",
    "from pyspark.sql.types import *"
   ]
  },
  {
   "cell_type": "markdown",
   "id": "15b9c3fb-b83e-452d-9603-c1e492efbe31",
   "metadata": {},
   "source": [
    "## Creating Spark context"
   ]
  },
  {
   "cell_type": "code",
   "execution_count": 2,
   "id": "759151eb-c995-4f34-b646-5daa625853d6",
   "metadata": {},
   "outputs": [
    {
     "name": "stderr",
     "output_type": "stream",
     "text": [
      "24/03/21 12:36:45 WARN Utils: Your hostname, af-Inspiron-7566 resolves to a loopback address: 127.0.1.1; using 192.168.1.65 instead (on interface wlp3s0)\n",
      "24/03/21 12:36:45 WARN Utils: Set SPARK_LOCAL_IP if you need to bind to another address\n",
      "Setting default log level to \"WARN\".\n",
      "To adjust logging level use sc.setLogLevel(newLevel). For SparkR, use setLogLevel(newLevel).\n",
      "24/03/21 12:36:46 WARN NativeCodeLoader: Unable to load native-hadoop library for your platform... using builtin-java classes where applicable\n",
      "/home/af/.local/lib/python3.10/site-packages/pyspark/sql/context.py:113: FutureWarning: Deprecated in 3.0.0. Use SparkSession.builder.getOrCreate() instead.\n",
      "  warnings.warn(\n"
     ]
    }
   ],
   "source": [
    "sc =SparkContext()\n",
    "sqlContext = SQLContext(sc)"
   ]
  },
  {
   "cell_type": "markdown",
   "id": "93ad9eb8-ed43-48bf-af44-d6a6bf178318",
   "metadata": {},
   "source": [
    "## Creating Schema for Emotions file"
   ]
  },
  {
   "cell_type": "code",
   "execution_count": 3,
   "id": "4d7b3215-42f6-4f17-9205-d28a090df734",
   "metadata": {},
   "outputs": [],
   "source": [
    "shcemaEmotions = StructType([\n",
    "    StructField(\"lastfm_url\", StringType()),\n",
    "    StructField(\"title\", StringType()),\n",
    "    StructField(\"artist\", StringType()),\n",
    "    StructField(\"seeds\", StringType()),\n",
    "    StructField(\"number_of_emotion_tags\", StringType()),\n",
    "    StructField(\"valence_tags\", StringType()),\n",
    "    StructField(\"arousal_tags\", StringType()),\n",
    "    StructField(\"dominance_tags\", StringType()),\n",
    "    StructField(\"mbid\", StringType()),\n",
    "    StructField(\"spotify_id\", StringType()),\n",
    "    StructField(\"genre\", StringType())\n",
    "])"
   ]
  },
  {
   "cell_type": "markdown",
   "id": "ce7be240-25e3-4853-a64e-d81a48d8e05c",
   "metadata": {},
   "source": [
    "## Creating Schema for Lyrics file"
   ]
  },
  {
   "cell_type": "code",
   "execution_count": 4,
   "id": "463fbc03-af74-478e-b190-79005e582c0b",
   "metadata": {},
   "outputs": [],
   "source": [
    "schemaLyrics = StructType([\n",
    "    StructField(\"title\", StringType()),\n",
    "    StructField(\"tag\", StringType()),\n",
    "    StructField(\"artist\", StringType()),\n",
    "    StructField(\"year\", StringType()),\n",
    "    StructField(\"views\", StringType()),\n",
    "    StructField(\"features\", StringType()),\n",
    "    StructField(\"lyrics\", StringType()),\n",
    "    StructField(\"id\", StringType()),\n",
    "    StructField(\"language_cld3\", StringType()),\n",
    "    StructField(\"language_ft\", StringType()),\n",
    "    StructField(\"language\", StringType())\n",
    "])"
   ]
  },
  {
   "cell_type": "markdown",
   "id": "7054ee13-fd92-44d7-a2e5-36e15f2ae7b9",
   "metadata": {},
   "source": [
    "## Definition of files"
   ]
  },
  {
   "cell_type": "code",
   "execution_count": 5,
   "id": "57db7cd5-a0c0-4a66-90d5-cc6b921a05e4",
   "metadata": {},
   "outputs": [],
   "source": [
    "#song_lyrics.csv file contains 3093218 songs data\n",
    "classificationFile = '/home/af/Desktop/Spark/songs_clasification.csv'\n",
    "lyricsFile = '/home/af/Desktop/Spark/song_lyrics.csv'\n",
    "outputFile = '/home/af/Desktop/Spark/completes.csv'"
   ]
  },
  {
   "cell_type": "markdown",
   "id": "4fcfcd01-a8ef-4bc0-af31-30eb8c18b030",
   "metadata": {},
   "source": [
    "Reading CSV files for Emotions and Lyrics"
   ]
  },
  {
   "cell_type": "code",
   "execution_count": 6,
   "id": "e9f8990b-49c6-4c70-8e54-6ed42131413e",
   "metadata": {},
   "outputs": [],
   "source": [
    "dfE = sqlContext.read.format(\"csv\").option(\"header\", \"true\").schema(shcemaEmotions).load(classificationFile)#.limit(2000)\n",
    "dfL = sqlContext.read.format(\"csv\").option(\"ignoreLeadingWhiteSpace\", \"true\").option(\"multiline\", \"true\").option('quote','\"').option('escape', '\"').option(\"header\", \"true\").schema(schemaLyrics).load(lyricsFile)#.limit(2000)"
   ]
  },
  {
   "cell_type": "code",
   "execution_count": 7,
   "id": "14e0afb5-e1e6-4007-902d-72c1bc9efc66",
   "metadata": {},
   "outputs": [
    {
     "name": "stdout",
     "output_type": "stream",
     "text": [
      "+----------------+---------+--------------------+----------------------+-----------------+------------------+-----------------+-------+\n",
      "|           title|   artist|               seeds|number_of_emotion_tags|     valence_tags|      arousal_tags|   dominance_tags|  genre|\n",
      "+----------------+---------+--------------------+----------------------+-----------------+------------------+-----------------+-------+\n",
      "|'Till I Collapse|   Eminem|      ['aggressive']|                     6|             4.55| 5.273124999999999|         5.690625|    rap|\n",
      "|       St. Anger|Metallica|      ['aggressive']|                     8|             3.71| 5.832999999999999|5.427250000000002|  metal|\n",
      "|        Speedin'|Rick Ross|      ['aggressive']|                     1|             3.08|              5.87|             5.49|    rap|\n",
      "|    Bamboo Banga|   M.I.A.|['aggressive', 'f...|                    13|6.555071428571428|5.5372142857142865|5.691357142857143|hip-hop|\n",
      "|      Die MF Die|     Dope|      ['aggressive']|                     7|3.771176470588235| 5.348235294117648|5.441764705882353|  metal|\n",
      "+----------------+---------+--------------------+----------------------+-----------------+------------------+-----------------+-------+\n",
      "only showing top 5 rows\n",
      "\n"
     ]
    },
    {
     "data": {
      "text/plain": [
       "90001"
      ]
     },
     "execution_count": 7,
     "metadata": {},
     "output_type": "execute_result"
    }
   ],
   "source": [
    "columns_to_drop = ['lastfm_url', 'mbid', 'spotify_id']\n",
    "dfE = dfE.drop(*columns_to_drop)\n",
    "dfE.show(5)\n",
    "dfE.count()"
   ]
  },
  {
   "cell_type": "code",
   "execution_count": 8,
   "id": "fc24aa33-0176-418a-b38d-63719e7e8563",
   "metadata": {},
   "outputs": [
    {
     "name": "stdout",
     "output_type": "stream",
     "text": [
      "+-----------------+---------+----+--------------------+\n",
      "|            title|   artist|year|              lyrics|\n",
      "+-----------------+---------+----+--------------------+\n",
      "|        Killa Cam|  Cam'ron|2004|[Chorus: Opera St...|\n",
      "|       Can I Live|    JAY-Z|1996|[Produced by Irv ...|\n",
      "|Forgive Me Father| Fabolous|2003|Maybe cause I'm e...|\n",
      "|     Down and Out|  Cam'ron|2004|[Produced by Kany...|\n",
      "|           Fly In|Lil Wayne|2005|[Intro]\\nSo they ...|\n",
      "+-----------------+---------+----+--------------------+\n",
      "only showing top 5 rows\n",
      "\n"
     ]
    },
    {
     "name": "stderr",
     "output_type": "stream",
     "text": [
      "                                                                                \r"
     ]
    },
    {
     "data": {
      "text/plain": [
       "3374198"
      ]
     },
     "execution_count": 8,
     "metadata": {},
     "output_type": "execute_result"
    }
   ],
   "source": [
    "dfL = dfL.where(dfL.language == \"en\")\n",
    "columns_to_drop = ['views', 'tag', 'features', 'id', 'language_cld3', 'language_ft', 'language']\n",
    "dfL = dfL.drop(*columns_to_drop)\n",
    "dfL.show(5)\n",
    "dfL.count()"
   ]
  },
  {
   "cell_type": "markdown",
   "id": "f5fbe00c-7d33-4c1a-92e8-8fb42071ff33",
   "metadata": {},
   "source": [
    "## Creating a combinated list of both"
   ]
  },
  {
   "cell_type": "code",
   "execution_count": 9,
   "id": "67de694a-324b-4626-a5a7-c39cc35f3bbd",
   "metadata": {},
   "outputs": [
    {
     "name": "stderr",
     "output_type": "stream",
     "text": [
      "[Stage 9:>                                                          (0 + 1) / 1]\r"
     ]
    },
    {
     "name": "stdout",
     "output_type": "stream",
     "text": [
      "+------------+--------------------+------------+----------------------+-----------------+------------------+-----------------+-----------------+----+--------------------+\n",
      "|      artist|               title|       seeds|number_of_emotion_tags|     valence_tags|      arousal_tags|   dominance_tags|            genre|year|              lyrics|\n",
      "+------------+--------------------+------------+----------------------+-----------------+------------------+-----------------+-----------------+----+--------------------+\n",
      "|     Afroman|                Hush|['positive']|                     1|             7.57|               5.5|             7.26|          hip-hop|2000|[Hook] (Afroman t...|\n",
      "|  Aimee Mann|              You Do|  ['smooth']|                    15|5.512301587301589|3.2575396825396825|5.478571428571429|singer-songwriter|1999|[Verse 1]\\nYou st...|\n",
      "|  Air Supply|Even the Nights A...|['romantic']|                     4|7.420000000000001|            4.9625|5.911666666666666|        soft rock|1982|I, I was the lone...|\n",
      "|Alice Cooper|                DaDa|  ['spooky']|                     1|              4.4|               6.0|             4.48|     classic rock|1983|Da Da\\nDa Da\\nDa ...|\n",
      "| Alicia Keys|               Diary|  ['smooth']|                    14|6.613333333333333|3.9478787878787878|5.952727272727273|             soul|2004|[Verse 1: Alicia ...|\n",
      "+------------+--------------------+------------+----------------------+-----------------+------------------+-----------------+-----------------+----+--------------------+\n",
      "only showing top 5 rows\n",
      "\n"
     ]
    },
    {
     "name": "stderr",
     "output_type": "stream",
     "text": [
      "                                                                                \r"
     ]
    }
   ],
   "source": [
    "innerJoin = dfE.join(dfL, [\"artist\", \"title\"],\"inner\")\n",
    "innerJoin.show(5)"
   ]
  },
  {
   "cell_type": "code",
   "execution_count": 10,
   "id": "9e0aa634-159c-425e-ab90-beaadcfc716a",
   "metadata": {},
   "outputs": [
    {
     "name": "stderr",
     "output_type": "stream",
     "text": [
      "[Stage 14:>                                                         (0 + 1) / 1]\r"
     ]
    },
    {
     "name": "stdout",
     "output_type": "stream",
     "text": [
      "+--------------------+-----+\n",
      "|              artist|count|\n",
      "+--------------------+-----+\n",
      "|           Bob Dylan|   82|\n",
      "|        Warren Zevon|   76|\n",
      "|They Might Be Giants|   74|\n",
      "|     Robbie Williams|   73|\n",
      "|            The Cure|   73|\n",
      "|           Radiohead|   67|\n",
      "|         The Beatles|   67|\n",
      "|Manic Street Prea...|   63|\n",
      "|       Chelsea Wolfe|   59|\n",
      "|  The Mountain Goats|   59|\n",
      "|         of Montreal|   58|\n",
      "|           Kate Bush|   55|\n",
      "|           Tori Amos|   54|\n",
      "|       Elliott Smith|   53|\n",
      "|    Barenaked Ladies|   53|\n",
      "|         Bright Eyes|   52|\n",
      "|   Animal Collective|   51|\n",
      "|         Yo La Tengo|   51|\n",
      "|      Regina Spektor|   50|\n",
      "|       Kylie Minogue|   49|\n",
      "|           Tom Waits|   49|\n",
      "| The Magnetic Fields|   48|\n",
      "|           Cat Power|   47|\n",
      "|            Coldplay|   46|\n",
      "|                Cold|   46|\n",
      "|         David Bowie|   46|\n",
      "|        Jack Johnson|   45|\n",
      "|                Beck|   45|\n",
      "|      Sufjan Stevens|   45|\n",
      "|        The National|   43|\n",
      "|The Smashing Pump...|   42|\n",
      "|        Lana Del Rey|   42|\n",
      "|           Goldfrapp|   42|\n",
      "|    The Flaming Lips|   42|\n",
      "|           Lady Gaga|   41|\n",
      "|                 Low|   40|\n",
      "|     Jimmy Eat World|   40|\n",
      "|                Lush|   40|\n",
      "|          John Mayer|   39|\n",
      "|           PJ Harvey|   39|\n",
      "|       Janet Jackson|   39|\n",
      "|      Britney Spears|   39|\n",
      "|                Muse|   39|\n",
      "| Death Cab for Cutie|   38|\n",
      "|         Sonic Youth|   38|\n",
      "|             Garbage|   37|\n",
      "|        Modest Mouse|   36|\n",
      "|      Paul McCartney|   35|\n",
      "|  Dave Matthews Band|   35|\n",
      "|                Eels|   35|\n",
      "+--------------------+-----+\n",
      "only showing top 50 rows\n",
      "\n"
     ]
    },
    {
     "name": "stderr",
     "output_type": "stream",
     "text": [
      "                                                                                \r"
     ]
    }
   ],
   "source": [
    "from pyspark.sql.functions import col\n",
    "innerJoin.groupBy(\"artist\").count().orderBy(col(\"count\").desc()).show(50)"
   ]
  },
  {
   "cell_type": "code",
   "execution_count": 11,
   "id": "66a5d4e2-d7f0-409c-9d56-c0c22821df3e",
   "metadata": {},
   "outputs": [
    {
     "name": "stderr",
     "output_type": "stream",
     "text": [
      "                                                                                \r"
     ]
    },
    {
     "data": {
      "text/plain": [
       "27349"
      ]
     },
     "execution_count": 11,
     "metadata": {},
     "output_type": "execute_result"
    }
   ],
   "source": [
    "innerJoin.count()"
   ]
  },
  {
   "cell_type": "markdown",
   "id": "bfa9a218-6b4f-41b0-8bc1-3bc78f428161",
   "metadata": {},
   "source": [
    "## Generating file to train model"
   ]
  },
  {
   "cell_type": "code",
   "execution_count": 12,
   "id": "d6ecc7b5-1642-4b42-9643-0b5c204ef35d",
   "metadata": {},
   "outputs": [
    {
     "name": "stderr",
     "output_type": "stream",
     "text": [
      "                                                                                \r"
     ]
    }
   ],
   "source": [
    "innerJoin.toPandas().to_csv(outputFile, index=False)"
   ]
  },
  {
   "cell_type": "code",
   "execution_count": 13,
   "id": "20d5807e-efa4-4b2f-bdfe-ecb155948102",
   "metadata": {},
   "outputs": [
    {
     "name": "stdout",
     "output_type": "stream",
     "text": [
      "root\n",
      " |-- artist: string (nullable = true)\n",
      " |-- title: string (nullable = true)\n",
      " |-- seeds: string (nullable = true)\n",
      " |-- number_of_emotion_tags: string (nullable = true)\n",
      " |-- valence_tags: string (nullable = true)\n",
      " |-- arousal_tags: string (nullable = true)\n",
      " |-- dominance_tags: string (nullable = true)\n",
      " |-- genre: string (nullable = true)\n",
      " |-- year: string (nullable = true)\n",
      " |-- lyrics: string (nullable = true)\n",
      "\n"
     ]
    }
   ],
   "source": [
    "innerJoin.printSchema()"
   ]
  },
  {
   "cell_type": "markdown",
   "id": "9d99ab18-a6a7-49cd-a3e4-eb2c46099f9a",
   "metadata": {},
   "source": [
    "## Preprocessing"
   ]
  },
  {
   "cell_type": "code",
   "execution_count": 14,
   "id": "ef5b9090-324c-4bea-94a8-b1748d7187bc",
   "metadata": {},
   "outputs": [
    {
     "name": "stderr",
     "output_type": "stream",
     "text": [
      "[Stage 27:>                                                         (0 + 1) / 1]\r"
     ]
    },
    {
     "name": "stdout",
     "output_type": "stream",
     "text": [
      "+--------------------+-----+\n",
      "|               seeds|count|\n",
      "+--------------------+-----+\n",
      "|            ['sexy']|  473|\n",
      "|           ['angry']|  430|\n",
      "|          ['smooth']|  393|\n",
      "|            ['epic']|  381|\n",
      "|      ['aggressive']|  358|\n",
      "|           ['happy']|  357|\n",
      "|          ['mellow']|  355|\n",
      "|             ['fun']|  326|\n",
      "|        ['romantic']|  323|\n",
      "|       ['energetic']|  322|\n",
      "|            ['dark']|  321|\n",
      "|          ['sleazy']|  316|\n",
      "|            ['lush']|  302|\n",
      "|     ['bittersweet']|  298|\n",
      "|        ['powerful']|  295|\n",
      "|           ['sweet']|  286|\n",
      "|          ['quirky']|  285|\n",
      "|         ['lyrical']|  279|\n",
      "|             ['sad']|  278|\n",
      "|           ['quiet']|  276|\n",
      "|       ['uplifting']|  274|\n",
      "|         ['intense']|  265|\n",
      "|            ['soft']|  259|\n",
      "|           ['light']|  256|\n",
      "|            ['calm']|  252|\n",
      "|        ['positive']|  250|\n",
      "|         ['sensual']|  248|\n",
      "|     ['sentimental']|  247|\n",
      "|           ['silly']|  241|\n",
      "|       ['nostalgic']|  241|\n",
      "|['sarcastic', 'sa...|  238|\n",
      "|          ['dreamy']|  231|\n",
      "|         ['driving']|  230|\n",
      "|      ['melancholy']|  223|\n",
      "|            ['warm']|  221|\n",
      "|        ['cheerful']|  217|\n",
      "|           ['witty']|  210|\n",
      "|        ['soothing']|  209|\n",
      "|       ['spiritual']|  203|\n",
      "|      ['reflective']|  201|\n",
      "|         ['wistful']|  198|\n",
      "|        ['hypnotic']|  194|\n",
      "|            ['lazy']|  193|\n",
      "|       ['technical']|  191|\n",
      "|          ['gloomy']|  190|\n",
      "|          ['fierce']|  188|\n",
      "|       ['halloween']|  181|\n",
      "|     ['atmospheric']|  181|\n",
      "|          ['lonely']|  178|\n",
      "|        ['dramatic']|  176|\n",
      "|          ['erotic']|  171|\n",
      "|          ['trippy']|  166|\n",
      "|          ['gentle']|  160|\n",
      "|        ['ethereal']|  158|\n",
      "|          ['bitter']|  156|\n",
      "|         ['relaxed']|  155|\n",
      "|            ['cold']|  155|\n",
      "|         ['playful']|  153|\n",
      "|      ['optimistic']|  152|\n",
      "|      ['thoughtful']|  135|\n",
      "|           ['eerie']|  135|\n",
      "|        ['peaceful']|  130|\n",
      "|          ['gritty']|  130|\n",
      "|        ['poignant']|  129|\n",
      "|          ['spooky']|  129|\n",
      "|          ['tender']|  127|\n",
      "|       ['whimsical']|  127|\n",
      "|          ['strong']|  123|\n",
      "|   ['introspective']|  123|\n",
      "|      ['passionate']|  122|\n",
      "|          ['flashy']|  120|\n",
      "|         ['elegant']|  119|\n",
      "|['melancholy', 's...|  117|\n",
      "|          ['bright']|  114|\n",
      "|        ['intimate']|  112|\n",
      "|          ['sexual']|  107|\n",
      "|      ['mysterious']|  105|\n",
      "|    ['fun', 'happy']|  104|\n",
      "|       ['eccentric']|  104|\n",
      "|       ['narrative']|  102|\n",
      "|        ['humorous']|   99|\n",
      "|['melancholy', 's...|   88|\n",
      "|        ['delicate']|   83|\n",
      "|        ['brooding']|   82|\n",
      "|         ['rousing']|   77|\n",
      "|   ['sophisticated']|   75|\n",
      "|        ['autumnal']|   72|\n",
      "|       ['nocturnal']|   71|\n",
      "|         ['serious']|   69|\n",
      "|        ['exciting']|   68|\n",
      "|           ['scary']|   68|\n",
      "|          ['earthy']|   67|\n",
      "|        ['paranoid']|   63|\n",
      "|         ['stylish']|   60|\n",
      "|        ['euphoric']|   58|\n",
      "|          ['lively']|   57|\n",
      "|     ['apocalyptic']|   57|\n",
      "|        ['cerebral']|   54|\n",
      "|       ['sarcastic']|   54|\n",
      "|        ['yearning']|   54|\n",
      "|      ['theatrical']|   53|\n",
      "|          ['sparse']|   52|\n",
      "|          ['ironic']|   51|\n",
      "|         ['organic']|   50|\n",
      "|         ['summery']|   50|\n",
      "|         ['crunchy']|   49|\n",
      "|        ['mystical']|   48|\n",
      "|['silly', 'negati...|   46|\n",
      "|          ['exotic']|   45|\n",
      "|            ['pure']|   45|\n",
      "|       ['desperate']|   45|\n",
      "|           ['harsh']|   44|\n",
      "|         ['complex']|   44|\n",
      "|   ['sad', 'mellow']|   44|\n",
      "|           ['hyper']|   44|\n",
      "|['melancholy', 'm...|   43|\n",
      "|        ['literate']|   43|\n",
      "|      ['triumphant']|   41|\n",
      "|          ['tragic']|   41|\n",
      "|          ['somber']|   41|\n",
      "|         ['macabre']|   40|\n",
      "|         ['cynical']|   39|\n",
      "|           ['bleak']|   38|\n",
      "|         ['martial']|   38|\n",
      "|          ['urgent']|   38|\n",
      "|       ['cathartic']|   37|\n",
      "|          ['spacey']|   37|\n",
      "|            ['grim']|   36|\n",
      "|          ['joyous']|   36|\n",
      "|           ['slick']|   36|\n",
      "|         ['ominous']|   35|\n",
      "|['dreamy', 'ether...|   32|\n",
      "|   ['philosophical']|   32|\n",
      "|      ['monumental']|   31|\n",
      "|       ['laid-back']|   31|\n",
      "|         ['earnest']|   28|\n",
      "|       ['confident']|   27|\n",
      "|  ['sexy', 'smooth']|   27|\n",
      "|['harsh', 'silly'...|   25|\n",
      "|        ['negative']|   25|\n",
      "|       ['explosive']|   25|\n",
      "|['ethereal', 'atm...|   24|\n",
      "|        ['precious']|   23|\n",
      "|          ['rustic']|   23|\n",
      "|['dark', 'atmosph...|   22|\n",
      "| ['lush', 'sensual']|   22|\n",
      "|        ['carefree']|   22|\n",
      "| ['witty', 'flashy']|   22|\n",
      "|   ['fun', 'quirky']|   22|\n",
      "|['romantic', 'mel...|   21|\n",
      "|         ['defiant']|   21|\n",
      "|      ['meditative']|   21|\n",
      "|    ['calm', 'soft']|   21|\n",
      "|          ['sacred']|   20|\n",
      "|['epic', 'atmosph...|   20|\n",
      "|      ['shimmering']|   20|\n",
      "|         ['flowing']|   20|\n",
      "| ['happy', 'mellow']|   20|\n",
      "|           ['messy']|   19|\n",
      "|         ['demonic']|   19|\n",
      "|           ['manic']|   19|\n",
      "|['dreamy', 'melan...|   19|\n",
      "|       ['sparkling']|   19|\n",
      "|           ['brash']|   19|\n",
      "|           ['perky']|   19|\n",
      "|             ['wry']|   18|\n",
      "|        ['innocent']|   18|\n",
      "|        ['menacing']|   18|\n",
      "|           ['tense']|   17|\n",
      "|       ['enigmatic']|   17|\n",
      "|      ['child-like']|   17|\n",
      "|      ['rebellious']|   17|\n",
      "|           ['naive']|   17|\n",
      "|          ['trashy']|   17|\n",
      "|['dreamy', 'mellow']|   16|\n",
      "|         ['nervous']|   16|\n",
      "|     ['provocative']|   16|\n",
      "|           ['fiery']|   16|\n",
      "|['aggressive', 'a...|   16|\n",
      "|['driving', 'ener...|   16|\n",
      "|            ['airy']|   16|\n",
      "|          ['druggy']|   16|\n",
      "|['uplifting', 'ha...|   15|\n",
      "|   ['sweet', 'soft']|   15|\n",
      "|       ['fractured']|   15|\n",
      "|['romantic', 'smo...|   15|\n",
      "|['romantic', 'swe...|   15|\n",
      "|['dreamy', 'atmos...|   15|\n",
      "|          ['savage']|   15|\n",
      "|    ['dark', 'sexy']|   14|\n",
      "|['sensual', 'smoo...|   14|\n",
      "|['bittersweet', '...|   14|\n",
      "|           ['rowdy']|   14|\n",
      "|['dark', 'melanch...|   14|\n",
      "|       ['satirical']|   14|\n",
      "|     ['fun', 'sexy']|   14|\n",
      "| ['dreamy', 'sweet']|   13|\n",
      "|   ['calm', 'quiet']|   13|\n",
      "|['halloween', 'sp...|   13|\n",
      "|       ['bombastic']|   13|\n",
      "|    ['epic', 'sexy']|   13|\n",
      "|['bittersweet', '...|   13|\n",
      "|['triumphant', 'r...|   13|\n",
      "|      ['reassuring']|   12|\n",
      "|  ['happy', 'sweet']|   12|\n",
      "|       ['searching']|   12|\n",
      "|['sarcastic', 'cy...|   12|\n",
      "|['grim', 'erotic'...|   12|\n",
      "| ['romantic', 'sad']|   12|\n",
      "|['erotic', 'sensu...|   11|\n",
      "|  ['dreamy', 'epic']|   11|\n",
      "|['elegant', 'refi...|   11|\n",
      "|['intense', 'powe...|   10|\n",
      "|['angry', 'powerf...|   10|\n",
      "|   ['sweet', 'calm']|   10|\n",
      "|['ironic', 'theat...|   10|\n",
      "|['dreamy', 'ether...|   10|\n",
      "|      ['unsettling']|   10|\n",
      "|['uplifting', 'en...|   10|\n",
      "| ['sweet', 'mellow']|   10|\n",
      "|['eccentric', 'wi...|   10|\n",
      "|['angry', 'intense']|   10|\n",
      "| ['silly', 'quirky']|   10|\n",
      "| ['sensual', 'sexy']|    9|\n",
      "|           ['weary']|    9|\n",
      "|['aggressive', 't...|    9|\n",
      "|['ethereal', 'calm']|    9|\n",
      "|['fun', 'happy', ...|    9|\n",
      "|     ['epic', 'sad']|    9|\n",
      "|       ['elaborate']|    9|\n",
      "|  ['dreamy', 'sexy']|    9|\n",
      "|    ['fun', 'sweet']|    8|\n",
      "|['dark', 'melanch...|    8|\n",
      "|['dark', 'ethereal']|    8|\n",
      "|['trippy', 'quirky']|    8|\n",
      "|    ['rambunctious']|    8|\n",
      "|['eccentric', 'fl...|    8|\n",
      "|['elegant', 'soph...|    8|\n",
      "|         ['bravado']|    8|\n",
      "|   ['dreamy', 'sad']|    8|\n",
      "|         ['kinetic']|    8|\n",
      "|       ['thrilling']|    8|\n",
      "|      ['nihilistic']|    8|\n",
      "|['romantic', 'sen...|    8|\n",
      "|   ['soft', 'quiet']|    8|\n",
      "|['romantic', 'soft']|    8|\n",
      "|           ['comic']|    8|\n",
      "|         ['elegiac']|    8|\n",
      "|      ['rollicking']|    8|\n",
      "|['playful', 'whim...|    8|\n",
      "| ['sweet', 'quirky']|    8|\n",
      "|['angry', 'energe...|    8|\n",
      "|['relaxed', 'light']|    7|\n",
      "|['literate', 'ref...|    7|\n",
      "|   ['epic', 'happy']|    7|\n",
      "|         ['anxious']|    7|\n",
      "|['witty', 'detach...|    7|\n",
      "|['sentimental', '...|    7|\n",
      "|  ['calm', 'mellow']|    7|\n",
      "|       ['ambitious']|    7|\n",
      "|['gentle', 'wistf...|    7|\n",
      "|         ['refined']|    7|\n",
      "|  ['gentle', 'soft']|    7|\n",
      "| ['happy', 'quirky']|    7|\n",
      "|['uplifting', 'dr...|    7|\n",
      "|   ['angry', 'dark']|    7|\n",
      "|        ['visceral']|    7|\n",
      "|        ['detached']|    7|\n",
      "|  ['smooth', 'calm']|    7|\n",
      "| ['angry', 'bitter']|    7|\n",
      "|['dreamy', 'trippy']|    7|\n",
      "|    ['freewheeling']|    7|\n",
      "|['dreamy', 'bitte...|    7|\n",
      "|        ['pastoral']|    7|\n",
      "|['happy', 'driving']|    7|\n",
      "|['positive', 'opt...|    7|\n",
      "|['halloween', 'sc...|    7|\n",
      "|['uplifting', 'op...|    7|\n",
      "|['driving', 'powe...|    7|\n",
      "|['ethereal', 'lush']|    7|\n",
      "|['sentimental', '...|    7|\n",
      "|    ['dark', 'epic']|    7|\n",
      "|['sophisticated',...|    7|\n",
      "|['uplifting', 're...|    7|\n",
      "|['dark', 'silly',...|    6|\n",
      "|['eccentric', 'wi...|    6|\n",
      "|['nostalgic', 'wi...|    6|\n",
      "|       ['sprawling']|    6|\n",
      "|           ['campy']|    6|\n",
      "|['urgent', 'optim...|    6|\n",
      "|['soothing', 'calm']|    6|\n",
      "|['aggressive', 'e...|    6|\n",
      "|['reflective', 'p...|    6|\n",
      "|        ['clinical']|    6|\n",
      "|['epic', 'melanch...|    6|\n",
      "|['erotic', 'sexual']|    6|\n",
      "|     ['dark', 'sad']|    6|\n",
      "|['powerful', 'str...|    6|\n",
      "| ['lush', 'driving']|    6|\n",
      "|['soothing', 'wis...|    6|\n",
      "|          ['brassy']|    6|\n",
      "|          ['hungry']|    6|\n",
      "|['bittersweet', '...|    6|\n",
      "|['uplifting', 'po...|    6|\n",
      "|        ['narcotic']|    6|\n",
      "|  ['eerie', 'scary']|    6|\n",
      "| ['confrontational']|    6|\n",
      "|        ['graceful']|    6|\n",
      "|           ['spicy']|    6|\n",
      "|        ['sardonic']|    6|\n",
      "|  ['sexy', 'mellow']|    6|\n",
      "|  ['smooth', 'soft']|    6|\n",
      "|['dark', 'melanch...|    6|\n",
      "|['silly', 'whimsi...|    6|\n",
      "|    ['lazy', 'soft']|    6|\n",
      "|['dreamy', 'ether...|    6|\n",
      "|['mystical', 'spi...|    6|\n",
      "|  ['dark', 'trippy']|    6|\n",
      "|['warm', 'reflect...|    6|\n",
      "|['reflective', 's...|    6|\n",
      "| ['intense', 'epic']|    5|\n",
      "|['ethereal', 'nos...|    5|\n",
      "|['dark', 'powerful']|    5|\n",
      "|['bittersweet', '...|    5|\n",
      "|['dark', 'etherea...|    5|\n",
      "| ['angry', 'fierce']|    5|\n",
      "|['gentle', 'nosta...|    5|\n",
      "|['wistful', 'year...|    5|\n",
      "|['poignant', 'ten...|    5|\n",
      "|['dark', 'melanch...|    5|\n",
      "|['driving', 'sweet']|    5|\n",
      "|['hypnotic', 'tri...|    5|\n",
      "|['earthy', 'rousi...|    5|\n",
      "|['bittersweet', '...|    5|\n",
      "|['intense', 'hypn...|    5|\n",
      "|          ['mighty']|    5|\n",
      "|       ['difficult']|    5|\n",
      "|        ['ecstatic']|    5|\n",
      "|['soothing', 'lush']|    5|\n",
      "|['dreamy', 'hypno...|    5|\n",
      "|['soothing', 'upl...|    5|\n",
      "|['provocative', '...|    5|\n",
      "|['meditative', 's...|    5|\n",
      "|['atmospheric', '...|    5|\n",
      "|  ['dreamy', 'soft']|    5|\n",
      "|['playful', 'pass...|    5|\n",
      "|['nostalgic', 'en...|    5|\n",
      "|['powerful', 'ene...|    5|\n",
      "|['halloween', 'ep...|    5|\n",
      "|['sarcastic', 'sa...|    5|\n",
      "|['playful', 'quir...|    5|\n",
      "|['provocative', '...|    5|\n",
      "|       ['plaintive']|    5|\n",
      "|['delicate', 'int...|    5|\n",
      "|['sad', 'atmosphe...|    5|\n",
      "|['positive', 'lig...|    5|\n",
      "|['wistful', 'sweet']|    5|\n",
      "|['melancholy', 's...|    5|\n",
      "|['smooth', 'drivi...|    5|\n",
      "|         ['acerbic']|    5|\n",
      "|['bittersweet', '...|    5|\n",
      "|['sensual', 'hypn...|    5|\n",
      "| ['smooth', 'sweet']|    5|\n",
      "|['intense', 'driv...|    5|\n",
      "|['mysterious', 'h...|    5|\n",
      "|['fun', 'energetic']|    5|\n",
      "|    ['lush', 'warm']|    5|\n",
      "|['happy', 'energe...|    5|\n",
      "|['uplifting', 'no...|    5|\n",
      "|         ['raucous']|    5|\n",
      "|    ['warm', 'soft']|    5|\n",
      "|['intense', 'bitt...|    5|\n",
      "|['gloomy', 'intro...|    5|\n",
      "|  ['dark', 'dreamy']|    5|\n",
      "|['ominous', 'eerie']|    5|\n",
      "|['sarcastic', 'sa...|    5|\n",
      "|['melancholy', 'a...|    5|\n",
      "|['demonic', 'hall...|    5|\n",
      "|['bittersweet', '...|    5|\n",
      "|['dreamy', 'melan...|    5|\n",
      "|  ['epic', 'mellow']|    5|\n",
      "|      ['devotional']|    5|\n",
      "|['dark', 'hallowe...|    5|\n",
      "|          ['sugary']|    5|\n",
      "|  ['mellow', 'soft']|    5|\n",
      "|         ['hostile']|    5|\n",
      "|['gloomy', 'spooky']|    5|\n",
      "| ['dreamy', 'happy']|    5|\n",
      "| ['eerie', 'spooky']|    5|\n",
      "| ['gentle', 'sweet']|    5|\n",
      "|           ['giddy']|    4|\n",
      "|['playful', 'rous...|    4|\n",
      "|['nostalgic', 'sw...|    4|\n",
      "|     ['transparent']|    4|\n",
      "|['spiritual', 'up...|    4|\n",
      "|['aggressive', 'h...|    4|\n",
      "|  ['dreamy', 'calm']|    4|\n",
      "|['nocturnal', 'br...|    4|\n",
      "|['eerie', 'broodi...|    4|\n",
      "|['energetic', 'qu...|    4|\n",
      "+--------------------+-----+\n",
      "only showing top 400 rows\n",
      "\n"
     ]
    },
    {
     "name": "stderr",
     "output_type": "stream",
     "text": [
      "                                                                                \r"
     ]
    }
   ],
   "source": [
    "innerJoin.groupBy(\"seeds\").count().orderBy(col(\"count\").desc()).show(400)"
   ]
  },
  {
   "cell_type": "markdown",
   "id": "bcce2606-9ffa-40e7-8bf1-1ce2a4664a80",
   "metadata": {},
   "source": [
    "## Model Pipeline\n",
    "\n",
    "Spark Machine Learning Pipelines API is similar to Scikit-Learn. Our pipeline includes three steps:\n",
    "\n",
    "regexTokenizer: Tokenization (with Regular Expression)\n",
    "\n",
    "stopwordsRemover: Remove Stop Words\n",
    "\n",
    "countVectors: Count vectors (“document-term vectors”)"
   ]
  },
  {
   "cell_type": "code",
   "execution_count": 15,
   "id": "34e76a1d-eebf-458b-a971-31a881fb7efa",
   "metadata": {},
   "outputs": [],
   "source": [
    "from pyspark.ml.feature import RegexTokenizer, StopWordsRemover, CountVectorizer\n",
    "from pyspark.ml.classification import LogisticRegression\n",
    "\n",
    "# regular expression tokenizer\n",
    "regexTokenizer = RegexTokenizer(inputCol=\"seeds\", outputCol=\"words\", pattern=\"\\\\W\")\n",
    "\n",
    "# stop words\n",
    "add_stopwords = [\"http\",\"https\",\"amp\",\"rt\",\"t\",\"c\",\"the\"]\n",
    "\n",
    "stopwordsRemover = StopWordsRemover(inputCol=\"words\", outputCol=\"filtered\").setStopWords(add_stopwords)\n",
    "\n",
    "# bag of words count\n",
    "countVectors = CountVectorizer(inputCol=\"filtered\", outputCol=\"features\", vocabSize=30000, minDF=5)"
   ]
  },
  {
   "cell_type": "code",
   "execution_count": 16,
   "id": "3efd3e06-f181-47e4-a17a-b36159e6e5a6",
   "metadata": {},
   "outputs": [
    {
     "name": "stderr",
     "output_type": "stream",
     "text": [
      "[Stage 40:>                                                         (0 + 1) / 1]\r"
     ]
    },
    {
     "name": "stdout",
     "output_type": "stream",
     "text": [
      "+------------+--------------------+------------+----------------------+-----------------+------------------+-----------------+-----------------+----+--------------------+----------+----------+----------------+-----+\n",
      "|      artist|               title|       seeds|number_of_emotion_tags|     valence_tags|      arousal_tags|   dominance_tags|            genre|year|              lyrics|     words|  filtered|        features|label|\n",
      "+------------+--------------------+------------+----------------------+-----------------+------------------+-----------------+-----------------+----+--------------------+----------+----------+----------------+-----+\n",
      "|     Afroman|                Hush|['positive']|                     1|             7.57|               5.5|             7.26|          hip-hop|2000|[Hook] (Afroman t...|[positive]|[positive]|(240,[36],[1.0])| 25.0|\n",
      "|  Aimee Mann|              You Do|  ['smooth']|                    15|5.512301587301589|3.2575396825396825|5.478571428571429|singer-songwriter|1999|[Verse 1]\\nYou st...|  [smooth]|  [smooth]|(240,[11],[1.0])|  2.0|\n",
      "|  Air Supply|Even the Nights A...|['romantic']|                     4|7.420000000000001|            4.9625|5.911666666666666|        soft rock|1982|I, I was the lone...|[romantic]|[romantic]|(240,[16],[1.0])|  8.0|\n",
      "|Alice Cooper|                DaDa|  ['spooky']|                     1|              4.4|               6.0|             4.48|     classic rock|1983|Da Da\\nDa Da\\nDa ...|  [spooky]|  [spooky]|(240,[64],[1.0])| 64.0|\n",
      "| Alicia Keys|               Diary|  ['smooth']|                    14|6.613333333333333|3.9478787878787878|5.952727272727273|             soul|2004|[Verse 1: Alicia ...|  [smooth]|  [smooth]|(240,[11],[1.0])|  2.0|\n",
      "+------------+--------------------+------------+----------------------+-----------------+------------------+-----------------+-----------------+----+--------------------+----------+----------+----------------+-----+\n",
      "only showing top 5 rows\n",
      "\n"
     ]
    },
    {
     "name": "stderr",
     "output_type": "stream",
     "text": [
      "                                                                                \r"
     ]
    }
   ],
   "source": [
    "from pyspark.ml import Pipeline\n",
    "from pyspark.ml.feature import OneHotEncoder, StringIndexer, VectorAssembler\n",
    "label_stringIdx = StringIndexer(inputCol = \"seeds\", outputCol = \"label\")\n",
    "\n",
    "pipeline = Pipeline(stages=[regexTokenizer, stopwordsRemover, countVectors, label_stringIdx])\n",
    "\n",
    "# Fit the pipeline to training documents.\n",
    "pipelineFit = pipeline.fit(innerJoin)\n",
    "dataset = pipelineFit.transform(innerJoin)\n",
    "dataset.show(5)"
   ]
  },
  {
   "cell_type": "markdown",
   "id": "f49b5f3b-113d-4fbc-9954-6d50232e80a5",
   "metadata": {},
   "source": [
    "## Partition Training & Test sets"
   ]
  },
  {
   "cell_type": "code",
   "execution_count": 22,
   "id": "48c9e1c9-1d69-494d-8656-fb3b51f3a004",
   "metadata": {},
   "outputs": [
    {
     "ename": "ConnectionRefusedError",
     "evalue": "[Errno 111] Connection refused",
     "output_type": "error",
     "traceback": [
      "\u001b[0;31m---------------------------------------------------------------------------\u001b[0m",
      "\u001b[0;31mConnectionRefusedError\u001b[0m                    Traceback (most recent call last)",
      "Cell \u001b[0;32mIn[22], line 2\u001b[0m\n\u001b[1;32m      1\u001b[0m \u001b[38;5;66;03m# set seed for reproducibility\u001b[39;00m\n\u001b[0;32m----> 2\u001b[0m (trainingData, testData) \u001b[38;5;241m=\u001b[39m \u001b[43mdataset\u001b[49m\u001b[38;5;241;43m.\u001b[39;49m\u001b[43mrandomSplit\u001b[49m\u001b[43m(\u001b[49m\u001b[43m[\u001b[49m\u001b[38;5;241;43m0.7\u001b[39;49m\u001b[43m,\u001b[49m\u001b[43m \u001b[49m\u001b[38;5;241;43m0.3\u001b[39;49m\u001b[43m]\u001b[49m\u001b[43m,\u001b[49m\u001b[43m \u001b[49m\u001b[43mseed\u001b[49m\u001b[43m \u001b[49m\u001b[38;5;241;43m=\u001b[39;49m\u001b[43m \u001b[49m\u001b[38;5;241;43m100\u001b[39;49m\u001b[43m)\u001b[49m\n\u001b[1;32m      3\u001b[0m \u001b[38;5;28mprint\u001b[39m(\u001b[38;5;124m\"\u001b[39m\u001b[38;5;124mTraining Dataset Count: \u001b[39m\u001b[38;5;124m\"\u001b[39m \u001b[38;5;241m+\u001b[39m \u001b[38;5;28mstr\u001b[39m(trainingData\u001b[38;5;241m.\u001b[39mcount()))\n\u001b[1;32m      4\u001b[0m \u001b[38;5;28mprint\u001b[39m(\u001b[38;5;124m\"\u001b[39m\u001b[38;5;124mTest Dataset Count: \u001b[39m\u001b[38;5;124m\"\u001b[39m \u001b[38;5;241m+\u001b[39m \u001b[38;5;28mstr\u001b[39m(testData\u001b[38;5;241m.\u001b[39mcount()))\n",
      "File \u001b[0;32m~/.local/lib/python3.10/site-packages/pyspark/sql/dataframe.py:2091\u001b[0m, in \u001b[0;36mDataFrame.randomSplit\u001b[0;34m(self, weights, seed)\u001b[0m\n\u001b[1;32m   2085\u001b[0m         \u001b[38;5;28;01mraise\u001b[39;00m PySparkValueError(\n\u001b[1;32m   2086\u001b[0m             error_class\u001b[38;5;241m=\u001b[39m\u001b[38;5;124m\"\u001b[39m\u001b[38;5;124mVALUE_NOT_POSITIVE\u001b[39m\u001b[38;5;124m\"\u001b[39m,\n\u001b[1;32m   2087\u001b[0m             message_parameters\u001b[38;5;241m=\u001b[39m{\u001b[38;5;124m\"\u001b[39m\u001b[38;5;124marg_name\u001b[39m\u001b[38;5;124m\"\u001b[39m: \u001b[38;5;124m\"\u001b[39m\u001b[38;5;124mweights\u001b[39m\u001b[38;5;124m\"\u001b[39m, \u001b[38;5;124m\"\u001b[39m\u001b[38;5;124marg_value\u001b[39m\u001b[38;5;124m\"\u001b[39m: \u001b[38;5;28mstr\u001b[39m(w)},\n\u001b[1;32m   2088\u001b[0m         )\n\u001b[1;32m   2089\u001b[0m seed \u001b[38;5;241m=\u001b[39m seed \u001b[38;5;28;01mif\u001b[39;00m seed \u001b[38;5;129;01mis\u001b[39;00m \u001b[38;5;129;01mnot\u001b[39;00m \u001b[38;5;28;01mNone\u001b[39;00m \u001b[38;5;28;01melse\u001b[39;00m random\u001b[38;5;241m.\u001b[39mrandint(\u001b[38;5;241m0\u001b[39m, sys\u001b[38;5;241m.\u001b[39mmaxsize)\n\u001b[1;32m   2090\u001b[0m df_array \u001b[38;5;241m=\u001b[39m \u001b[38;5;28mself\u001b[39m\u001b[38;5;241m.\u001b[39m_jdf\u001b[38;5;241m.\u001b[39mrandomSplit(\n\u001b[0;32m-> 2091\u001b[0m     \u001b[43m_to_list\u001b[49m\u001b[43m(\u001b[49m\u001b[38;5;28;43mself\u001b[39;49m\u001b[38;5;241;43m.\u001b[39;49m\u001b[43msparkSession\u001b[49m\u001b[38;5;241;43m.\u001b[39;49m\u001b[43m_sc\u001b[49m\u001b[43m,\u001b[49m\u001b[43m \u001b[49m\u001b[43mcast\u001b[49m\u001b[43m(\u001b[49m\u001b[43mList\u001b[49m\u001b[43m[\u001b[49m\u001b[38;5;124;43m\"\u001b[39;49m\u001b[38;5;124;43mColumnOrName\u001b[39;49m\u001b[38;5;124;43m\"\u001b[39;49m\u001b[43m]\u001b[49m\u001b[43m,\u001b[49m\u001b[43m \u001b[49m\u001b[43mweights\u001b[49m\u001b[43m)\u001b[49m\u001b[43m)\u001b[49m, \u001b[38;5;28mint\u001b[39m(seed)\n\u001b[1;32m   2092\u001b[0m )\n\u001b[1;32m   2093\u001b[0m \u001b[38;5;28;01mreturn\u001b[39;00m [DataFrame(df, \u001b[38;5;28mself\u001b[39m\u001b[38;5;241m.\u001b[39msparkSession) \u001b[38;5;28;01mfor\u001b[39;00m df \u001b[38;5;129;01min\u001b[39;00m df_array]\n",
      "File \u001b[0;32m~/.local/lib/python3.10/site-packages/pyspark/sql/column.py:107\u001b[0m, in \u001b[0;36m_to_list\u001b[0;34m(sc, cols, converter)\u001b[0m\n\u001b[1;32m    105\u001b[0m     cols \u001b[38;5;241m=\u001b[39m [converter(c) \u001b[38;5;28;01mfor\u001b[39;00m c \u001b[38;5;129;01min\u001b[39;00m cols]\n\u001b[1;32m    106\u001b[0m \u001b[38;5;28;01massert\u001b[39;00m sc\u001b[38;5;241m.\u001b[39m_jvm \u001b[38;5;129;01mis\u001b[39;00m \u001b[38;5;129;01mnot\u001b[39;00m \u001b[38;5;28;01mNone\u001b[39;00m\n\u001b[0;32m--> 107\u001b[0m \u001b[38;5;28;01mreturn\u001b[39;00m \u001b[43msc\u001b[49m\u001b[38;5;241;43m.\u001b[39;49m\u001b[43m_jvm\u001b[49m\u001b[38;5;241;43m.\u001b[39;49m\u001b[43mPythonUtils\u001b[49m\u001b[38;5;241m.\u001b[39mtoList(cols)\n",
      "File \u001b[0;32m~/.local/lib/python3.10/site-packages/py4j/java_gateway.py:1712\u001b[0m, in \u001b[0;36mJVMView.__getattr__\u001b[0;34m(self, name)\u001b[0m\n\u001b[1;32m   1709\u001b[0m \u001b[38;5;28;01mif\u001b[39;00m name \u001b[38;5;241m==\u001b[39m UserHelpAutoCompletion\u001b[38;5;241m.\u001b[39mKEY:\n\u001b[1;32m   1710\u001b[0m     \u001b[38;5;28;01mreturn\u001b[39;00m UserHelpAutoCompletion()\n\u001b[0;32m-> 1712\u001b[0m answer \u001b[38;5;241m=\u001b[39m \u001b[38;5;28;43mself\u001b[39;49m\u001b[38;5;241;43m.\u001b[39;49m\u001b[43m_gateway_client\u001b[49m\u001b[38;5;241;43m.\u001b[39;49m\u001b[43msend_command\u001b[49m\u001b[43m(\u001b[49m\n\u001b[1;32m   1713\u001b[0m \u001b[43m    \u001b[49m\u001b[43mproto\u001b[49m\u001b[38;5;241;43m.\u001b[39;49m\u001b[43mREFLECTION_COMMAND_NAME\u001b[49m\u001b[43m \u001b[49m\u001b[38;5;241;43m+\u001b[39;49m\n\u001b[1;32m   1714\u001b[0m \u001b[43m    \u001b[49m\u001b[43mproto\u001b[49m\u001b[38;5;241;43m.\u001b[39;49m\u001b[43mREFL_GET_UNKNOWN_SUB_COMMAND_NAME\u001b[49m\u001b[43m \u001b[49m\u001b[38;5;241;43m+\u001b[39;49m\u001b[43m \u001b[49m\u001b[43mname\u001b[49m\u001b[43m \u001b[49m\u001b[38;5;241;43m+\u001b[39;49m\u001b[43m \u001b[49m\u001b[38;5;124;43m\"\u001b[39;49m\u001b[38;5;130;43;01m\\n\u001b[39;49;00m\u001b[38;5;124;43m\"\u001b[39;49m\u001b[43m \u001b[49m\u001b[38;5;241;43m+\u001b[39;49m\u001b[43m \u001b[49m\u001b[38;5;28;43mself\u001b[39;49m\u001b[38;5;241;43m.\u001b[39;49m\u001b[43m_id\u001b[49m\u001b[43m \u001b[49m\u001b[38;5;241;43m+\u001b[39;49m\n\u001b[1;32m   1715\u001b[0m \u001b[43m    \u001b[49m\u001b[38;5;124;43m\"\u001b[39;49m\u001b[38;5;130;43;01m\\n\u001b[39;49;00m\u001b[38;5;124;43m\"\u001b[39;49m\u001b[43m \u001b[49m\u001b[38;5;241;43m+\u001b[39;49m\u001b[43m \u001b[49m\u001b[43mproto\u001b[49m\u001b[38;5;241;43m.\u001b[39;49m\u001b[43mEND_COMMAND_PART\u001b[49m\u001b[43m)\u001b[49m\n\u001b[1;32m   1716\u001b[0m \u001b[38;5;28;01mif\u001b[39;00m answer \u001b[38;5;241m==\u001b[39m proto\u001b[38;5;241m.\u001b[39mSUCCESS_PACKAGE:\n\u001b[1;32m   1717\u001b[0m     \u001b[38;5;28;01mreturn\u001b[39;00m JavaPackage(name, \u001b[38;5;28mself\u001b[39m\u001b[38;5;241m.\u001b[39m_gateway_client, jvm_id\u001b[38;5;241m=\u001b[39m\u001b[38;5;28mself\u001b[39m\u001b[38;5;241m.\u001b[39m_id)\n",
      "File \u001b[0;32m~/.local/lib/python3.10/site-packages/py4j/java_gateway.py:1036\u001b[0m, in \u001b[0;36mGatewayClient.send_command\u001b[0;34m(self, command, retry, binary)\u001b[0m\n\u001b[1;32m   1015\u001b[0m \u001b[38;5;28;01mdef\u001b[39;00m \u001b[38;5;21msend_command\u001b[39m(\u001b[38;5;28mself\u001b[39m, command, retry\u001b[38;5;241m=\u001b[39m\u001b[38;5;28;01mTrue\u001b[39;00m, binary\u001b[38;5;241m=\u001b[39m\u001b[38;5;28;01mFalse\u001b[39;00m):\n\u001b[1;32m   1016\u001b[0m \u001b[38;5;250m    \u001b[39m\u001b[38;5;124;03m\"\"\"Sends a command to the JVM. This method is not intended to be\u001b[39;00m\n\u001b[1;32m   1017\u001b[0m \u001b[38;5;124;03m       called directly by Py4J users. It is usually called by\u001b[39;00m\n\u001b[1;32m   1018\u001b[0m \u001b[38;5;124;03m       :class:`JavaMember` instances.\u001b[39;00m\n\u001b[0;32m   (...)\u001b[0m\n\u001b[1;32m   1034\u001b[0m \u001b[38;5;124;03m     if `binary` is `True`.\u001b[39;00m\n\u001b[1;32m   1035\u001b[0m \u001b[38;5;124;03m    \"\"\"\u001b[39;00m\n\u001b[0;32m-> 1036\u001b[0m     connection \u001b[38;5;241m=\u001b[39m \u001b[38;5;28;43mself\u001b[39;49m\u001b[38;5;241;43m.\u001b[39;49m\u001b[43m_get_connection\u001b[49m\u001b[43m(\u001b[49m\u001b[43m)\u001b[49m\n\u001b[1;32m   1037\u001b[0m     \u001b[38;5;28;01mtry\u001b[39;00m:\n\u001b[1;32m   1038\u001b[0m         response \u001b[38;5;241m=\u001b[39m connection\u001b[38;5;241m.\u001b[39msend_command(command)\n",
      "File \u001b[0;32m~/.local/lib/python3.10/site-packages/py4j/clientserver.py:284\u001b[0m, in \u001b[0;36mJavaClient._get_connection\u001b[0;34m(self)\u001b[0m\n\u001b[1;32m    281\u001b[0m     \u001b[38;5;28;01mpass\u001b[39;00m\n\u001b[1;32m    283\u001b[0m \u001b[38;5;28;01mif\u001b[39;00m connection \u001b[38;5;129;01mis\u001b[39;00m \u001b[38;5;28;01mNone\u001b[39;00m \u001b[38;5;129;01mor\u001b[39;00m connection\u001b[38;5;241m.\u001b[39msocket \u001b[38;5;129;01mis\u001b[39;00m \u001b[38;5;28;01mNone\u001b[39;00m:\n\u001b[0;32m--> 284\u001b[0m     connection \u001b[38;5;241m=\u001b[39m \u001b[38;5;28;43mself\u001b[39;49m\u001b[38;5;241;43m.\u001b[39;49m\u001b[43m_create_new_connection\u001b[49m\u001b[43m(\u001b[49m\u001b[43m)\u001b[49m\n\u001b[1;32m    285\u001b[0m \u001b[38;5;28;01mreturn\u001b[39;00m connection\n",
      "File \u001b[0;32m~/.local/lib/python3.10/site-packages/py4j/clientserver.py:291\u001b[0m, in \u001b[0;36mJavaClient._create_new_connection\u001b[0;34m(self)\u001b[0m\n\u001b[1;32m    287\u001b[0m \u001b[38;5;28;01mdef\u001b[39;00m \u001b[38;5;21m_create_new_connection\u001b[39m(\u001b[38;5;28mself\u001b[39m):\n\u001b[1;32m    288\u001b[0m     connection \u001b[38;5;241m=\u001b[39m ClientServerConnection(\n\u001b[1;32m    289\u001b[0m         \u001b[38;5;28mself\u001b[39m\u001b[38;5;241m.\u001b[39mjava_parameters, \u001b[38;5;28mself\u001b[39m\u001b[38;5;241m.\u001b[39mpython_parameters,\n\u001b[1;32m    290\u001b[0m         \u001b[38;5;28mself\u001b[39m\u001b[38;5;241m.\u001b[39mgateway_property, \u001b[38;5;28mself\u001b[39m)\n\u001b[0;32m--> 291\u001b[0m     \u001b[43mconnection\u001b[49m\u001b[38;5;241;43m.\u001b[39;49m\u001b[43mconnect_to_java_server\u001b[49m\u001b[43m(\u001b[49m\u001b[43m)\u001b[49m\n\u001b[1;32m    292\u001b[0m     \u001b[38;5;28mself\u001b[39m\u001b[38;5;241m.\u001b[39mset_thread_connection(connection)\n\u001b[1;32m    293\u001b[0m     \u001b[38;5;28;01mreturn\u001b[39;00m connection\n",
      "File \u001b[0;32m~/.local/lib/python3.10/site-packages/py4j/clientserver.py:438\u001b[0m, in \u001b[0;36mClientServerConnection.connect_to_java_server\u001b[0;34m(self)\u001b[0m\n\u001b[1;32m    435\u001b[0m \u001b[38;5;28;01mif\u001b[39;00m \u001b[38;5;28mself\u001b[39m\u001b[38;5;241m.\u001b[39mssl_context:\n\u001b[1;32m    436\u001b[0m     \u001b[38;5;28mself\u001b[39m\u001b[38;5;241m.\u001b[39msocket \u001b[38;5;241m=\u001b[39m \u001b[38;5;28mself\u001b[39m\u001b[38;5;241m.\u001b[39mssl_context\u001b[38;5;241m.\u001b[39mwrap_socket(\n\u001b[1;32m    437\u001b[0m         \u001b[38;5;28mself\u001b[39m\u001b[38;5;241m.\u001b[39msocket, server_hostname\u001b[38;5;241m=\u001b[39m\u001b[38;5;28mself\u001b[39m\u001b[38;5;241m.\u001b[39mjava_address)\n\u001b[0;32m--> 438\u001b[0m \u001b[38;5;28;43mself\u001b[39;49m\u001b[38;5;241;43m.\u001b[39;49m\u001b[43msocket\u001b[49m\u001b[38;5;241;43m.\u001b[39;49m\u001b[43mconnect\u001b[49m\u001b[43m(\u001b[49m\u001b[43m(\u001b[49m\u001b[38;5;28;43mself\u001b[39;49m\u001b[38;5;241;43m.\u001b[39;49m\u001b[43mjava_address\u001b[49m\u001b[43m,\u001b[49m\u001b[43m \u001b[49m\u001b[38;5;28;43mself\u001b[39;49m\u001b[38;5;241;43m.\u001b[39;49m\u001b[43mjava_port\u001b[49m\u001b[43m)\u001b[49m\u001b[43m)\u001b[49m\n\u001b[1;32m    439\u001b[0m \u001b[38;5;28mself\u001b[39m\u001b[38;5;241m.\u001b[39mstream \u001b[38;5;241m=\u001b[39m \u001b[38;5;28mself\u001b[39m\u001b[38;5;241m.\u001b[39msocket\u001b[38;5;241m.\u001b[39mmakefile(\u001b[38;5;124m\"\u001b[39m\u001b[38;5;124mrb\u001b[39m\u001b[38;5;124m\"\u001b[39m)\n\u001b[1;32m    440\u001b[0m \u001b[38;5;28mself\u001b[39m\u001b[38;5;241m.\u001b[39mis_connected \u001b[38;5;241m=\u001b[39m \u001b[38;5;28;01mTrue\u001b[39;00m\n",
      "\u001b[0;31mConnectionRefusedError\u001b[0m: [Errno 111] Connection refused"
     ]
    },
    {
     "name": "stderr",
     "output_type": "stream",
     "text": [
      "ERROR:root:Exception while sending command.\n",
      "Traceback (most recent call last):\n",
      "  File \"/home/af/.local/lib/python3.10/site-packages/py4j/clientserver.py\", line 516, in send_command\n",
      "    raise Py4JNetworkError(\"Answer from Java side is empty\")\n",
      "py4j.protocol.Py4JNetworkError: Answer from Java side is empty\n",
      "\n",
      "During handling of the above exception, another exception occurred:\n",
      "\n",
      "Traceback (most recent call last):\n",
      "  File \"/home/af/.local/lib/python3.10/site-packages/py4j/java_gateway.py\", line 1038, in send_command\n",
      "    response = connection.send_command(command)\n",
      "  File \"/home/af/.local/lib/python3.10/site-packages/py4j/clientserver.py\", line 539, in send_command\n",
      "    raise Py4JNetworkError(\n",
      "py4j.protocol.Py4JNetworkError: Error while sending or receiving\n"
     ]
    }
   ],
   "source": [
    "# set seed for reproducibility\n",
    "(trainingData, testData) = dataset.randomSplit([0.7, 0.3], seed = 100)\n",
    "print(\"Training Dataset Count: \" + str(trainingData.count()))\n",
    "print(\"Test Dataset Count: \" + str(testData.count()))"
   ]
  },
  {
   "cell_type": "code",
   "execution_count": 21,
   "id": "85de1045-5643-45c6-b020-0c9b56adf5e9",
   "metadata": {},
   "outputs": [
    {
     "ename": "ConnectionRefusedError",
     "evalue": "[Errno 111] Connection refused",
     "output_type": "error",
     "traceback": [
      "\u001b[0;31m---------------------------------------------------------------------------\u001b[0m",
      "\u001b[0;31mConnectionRefusedError\u001b[0m                    Traceback (most recent call last)",
      "Cell \u001b[0;32mIn[21], line 1\u001b[0m\n\u001b[0;32m----> 1\u001b[0m lr \u001b[38;5;241m=\u001b[39m \u001b[43mLogisticRegression\u001b[49m\u001b[43m(\u001b[49m\u001b[43mmaxIter\u001b[49m\u001b[38;5;241;43m=\u001b[39;49m\u001b[38;5;241;43m20\u001b[39;49m\u001b[43m,\u001b[49m\u001b[43m \u001b[49m\u001b[43mregParam\u001b[49m\u001b[38;5;241;43m=\u001b[39;49m\u001b[38;5;241;43m0.3\u001b[39;49m\u001b[43m,\u001b[49m\u001b[43m \u001b[49m\u001b[43melasticNetParam\u001b[49m\u001b[38;5;241;43m=\u001b[39;49m\u001b[38;5;241;43m0\u001b[39;49m\u001b[43m)\u001b[49m\n\u001b[1;32m      2\u001b[0m lrModel \u001b[38;5;241m=\u001b[39m lr\u001b[38;5;241m.\u001b[39mfit(trainingData)\n\u001b[1;32m      4\u001b[0m predictions \u001b[38;5;241m=\u001b[39m lrModel\u001b[38;5;241m.\u001b[39mtransform(testData)\n",
      "File \u001b[0;32m~/.local/lib/python3.10/site-packages/pyspark/__init__.py:139\u001b[0m, in \u001b[0;36mkeyword_only.<locals>.wrapper\u001b[0;34m(self, *args, **kwargs)\u001b[0m\n\u001b[1;32m    137\u001b[0m     \u001b[38;5;28;01mraise\u001b[39;00m \u001b[38;5;167;01mTypeError\u001b[39;00m(\u001b[38;5;124m\"\u001b[39m\u001b[38;5;124mMethod \u001b[39m\u001b[38;5;132;01m%s\u001b[39;00m\u001b[38;5;124m forces keyword arguments.\u001b[39m\u001b[38;5;124m\"\u001b[39m \u001b[38;5;241m%\u001b[39m func\u001b[38;5;241m.\u001b[39m\u001b[38;5;18m__name__\u001b[39m)\n\u001b[1;32m    138\u001b[0m \u001b[38;5;28mself\u001b[39m\u001b[38;5;241m.\u001b[39m_input_kwargs \u001b[38;5;241m=\u001b[39m kwargs\n\u001b[0;32m--> 139\u001b[0m \u001b[38;5;28;01mreturn\u001b[39;00m \u001b[43mfunc\u001b[49m\u001b[43m(\u001b[49m\u001b[38;5;28;43mself\u001b[39;49m\u001b[43m,\u001b[49m\u001b[43m \u001b[49m\u001b[38;5;241;43m*\u001b[39;49m\u001b[38;5;241;43m*\u001b[39;49m\u001b[43mkwargs\u001b[49m\u001b[43m)\u001b[49m\n",
      "File \u001b[0;32m~/.local/lib/python3.10/site-packages/pyspark/ml/classification.py:1318\u001b[0m, in \u001b[0;36mLogisticRegression.__init__\u001b[0;34m(self, featuresCol, labelCol, predictionCol, maxIter, regParam, elasticNetParam, tol, fitIntercept, threshold, thresholds, probabilityCol, rawPredictionCol, standardization, weightCol, aggregationDepth, family, lowerBoundsOnCoefficients, upperBoundsOnCoefficients, lowerBoundsOnIntercepts, upperBoundsOnIntercepts, maxBlockSizeInMB)\u001b[0m\n\u001b[1;32m   1306\u001b[0m \u001b[38;5;250m\u001b[39m\u001b[38;5;124;03m\"\"\"\u001b[39;00m\n\u001b[1;32m   1307\u001b[0m \u001b[38;5;124;03m__init__(self, \\\\*, featuresCol=\"features\", labelCol=\"label\", predictionCol=\"prediction\", \\\u001b[39;00m\n\u001b[1;32m   1308\u001b[0m \u001b[38;5;124;03m         maxIter=100, regParam=0.0, elasticNetParam=0.0, tol=1e-6, fitIntercept=True, \\\u001b[39;00m\n\u001b[0;32m   (...)\u001b[0m\n\u001b[1;32m   1315\u001b[0m \u001b[38;5;124;03mIf the threshold and thresholds Params are both set, they must be equivalent.\u001b[39;00m\n\u001b[1;32m   1316\u001b[0m \u001b[38;5;124;03m\"\"\"\u001b[39;00m\n\u001b[1;32m   1317\u001b[0m \u001b[38;5;28msuper\u001b[39m(LogisticRegression, \u001b[38;5;28mself\u001b[39m)\u001b[38;5;241m.\u001b[39m\u001b[38;5;21m__init__\u001b[39m()\n\u001b[0;32m-> 1318\u001b[0m \u001b[38;5;28mself\u001b[39m\u001b[38;5;241m.\u001b[39m_java_obj \u001b[38;5;241m=\u001b[39m \u001b[38;5;28;43mself\u001b[39;49m\u001b[38;5;241;43m.\u001b[39;49m\u001b[43m_new_java_obj\u001b[49m\u001b[43m(\u001b[49m\n\u001b[1;32m   1319\u001b[0m \u001b[43m    \u001b[49m\u001b[38;5;124;43m\"\u001b[39;49m\u001b[38;5;124;43morg.apache.spark.ml.classification.LogisticRegression\u001b[39;49m\u001b[38;5;124;43m\"\u001b[39;49m\u001b[43m,\u001b[49m\u001b[43m \u001b[49m\u001b[38;5;28;43mself\u001b[39;49m\u001b[38;5;241;43m.\u001b[39;49m\u001b[43muid\u001b[49m\n\u001b[1;32m   1320\u001b[0m \u001b[43m\u001b[49m\u001b[43m)\u001b[49m\n\u001b[1;32m   1321\u001b[0m kwargs \u001b[38;5;241m=\u001b[39m \u001b[38;5;28mself\u001b[39m\u001b[38;5;241m.\u001b[39m_input_kwargs\n\u001b[1;32m   1322\u001b[0m \u001b[38;5;28mself\u001b[39m\u001b[38;5;241m.\u001b[39msetParams(\u001b[38;5;241m*\u001b[39m\u001b[38;5;241m*\u001b[39mkwargs)\n",
      "File \u001b[0;32m~/.local/lib/python3.10/site-packages/pyspark/ml/wrapper.py:84\u001b[0m, in \u001b[0;36mJavaWrapper._new_java_obj\u001b[0;34m(java_class, *args)\u001b[0m\n\u001b[1;32m     82\u001b[0m java_obj \u001b[38;5;241m=\u001b[39m _jvm()\n\u001b[1;32m     83\u001b[0m \u001b[38;5;28;01mfor\u001b[39;00m name \u001b[38;5;129;01min\u001b[39;00m java_class\u001b[38;5;241m.\u001b[39msplit(\u001b[38;5;124m\"\u001b[39m\u001b[38;5;124m.\u001b[39m\u001b[38;5;124m\"\u001b[39m):\n\u001b[0;32m---> 84\u001b[0m     java_obj \u001b[38;5;241m=\u001b[39m \u001b[38;5;28;43mgetattr\u001b[39;49m\u001b[43m(\u001b[49m\u001b[43mjava_obj\u001b[49m\u001b[43m,\u001b[49m\u001b[43m \u001b[49m\u001b[43mname\u001b[49m\u001b[43m)\u001b[49m\n\u001b[1;32m     85\u001b[0m java_args \u001b[38;5;241m=\u001b[39m [_py2java(sc, arg) \u001b[38;5;28;01mfor\u001b[39;00m arg \u001b[38;5;129;01min\u001b[39;00m args]\n\u001b[1;32m     86\u001b[0m \u001b[38;5;28;01mreturn\u001b[39;00m java_obj(\u001b[38;5;241m*\u001b[39mjava_args)\n",
      "File \u001b[0;32m~/.local/lib/python3.10/site-packages/py4j/java_gateway.py:1712\u001b[0m, in \u001b[0;36mJVMView.__getattr__\u001b[0;34m(self, name)\u001b[0m\n\u001b[1;32m   1709\u001b[0m \u001b[38;5;28;01mif\u001b[39;00m name \u001b[38;5;241m==\u001b[39m UserHelpAutoCompletion\u001b[38;5;241m.\u001b[39mKEY:\n\u001b[1;32m   1710\u001b[0m     \u001b[38;5;28;01mreturn\u001b[39;00m UserHelpAutoCompletion()\n\u001b[0;32m-> 1712\u001b[0m answer \u001b[38;5;241m=\u001b[39m \u001b[38;5;28;43mself\u001b[39;49m\u001b[38;5;241;43m.\u001b[39;49m\u001b[43m_gateway_client\u001b[49m\u001b[38;5;241;43m.\u001b[39;49m\u001b[43msend_command\u001b[49m\u001b[43m(\u001b[49m\n\u001b[1;32m   1713\u001b[0m \u001b[43m    \u001b[49m\u001b[43mproto\u001b[49m\u001b[38;5;241;43m.\u001b[39;49m\u001b[43mREFLECTION_COMMAND_NAME\u001b[49m\u001b[43m \u001b[49m\u001b[38;5;241;43m+\u001b[39;49m\n\u001b[1;32m   1714\u001b[0m \u001b[43m    \u001b[49m\u001b[43mproto\u001b[49m\u001b[38;5;241;43m.\u001b[39;49m\u001b[43mREFL_GET_UNKNOWN_SUB_COMMAND_NAME\u001b[49m\u001b[43m \u001b[49m\u001b[38;5;241;43m+\u001b[39;49m\u001b[43m \u001b[49m\u001b[43mname\u001b[49m\u001b[43m \u001b[49m\u001b[38;5;241;43m+\u001b[39;49m\u001b[43m \u001b[49m\u001b[38;5;124;43m\"\u001b[39;49m\u001b[38;5;130;43;01m\\n\u001b[39;49;00m\u001b[38;5;124;43m\"\u001b[39;49m\u001b[43m \u001b[49m\u001b[38;5;241;43m+\u001b[39;49m\u001b[43m \u001b[49m\u001b[38;5;28;43mself\u001b[39;49m\u001b[38;5;241;43m.\u001b[39;49m\u001b[43m_id\u001b[49m\u001b[43m \u001b[49m\u001b[38;5;241;43m+\u001b[39;49m\n\u001b[1;32m   1715\u001b[0m \u001b[43m    \u001b[49m\u001b[38;5;124;43m\"\u001b[39;49m\u001b[38;5;130;43;01m\\n\u001b[39;49;00m\u001b[38;5;124;43m\"\u001b[39;49m\u001b[43m \u001b[49m\u001b[38;5;241;43m+\u001b[39;49m\u001b[43m \u001b[49m\u001b[43mproto\u001b[49m\u001b[38;5;241;43m.\u001b[39;49m\u001b[43mEND_COMMAND_PART\u001b[49m\u001b[43m)\u001b[49m\n\u001b[1;32m   1716\u001b[0m \u001b[38;5;28;01mif\u001b[39;00m answer \u001b[38;5;241m==\u001b[39m proto\u001b[38;5;241m.\u001b[39mSUCCESS_PACKAGE:\n\u001b[1;32m   1717\u001b[0m     \u001b[38;5;28;01mreturn\u001b[39;00m JavaPackage(name, \u001b[38;5;28mself\u001b[39m\u001b[38;5;241m.\u001b[39m_gateway_client, jvm_id\u001b[38;5;241m=\u001b[39m\u001b[38;5;28mself\u001b[39m\u001b[38;5;241m.\u001b[39m_id)\n",
      "File \u001b[0;32m~/.local/lib/python3.10/site-packages/py4j/java_gateway.py:1036\u001b[0m, in \u001b[0;36mGatewayClient.send_command\u001b[0;34m(self, command, retry, binary)\u001b[0m\n\u001b[1;32m   1015\u001b[0m \u001b[38;5;28;01mdef\u001b[39;00m \u001b[38;5;21msend_command\u001b[39m(\u001b[38;5;28mself\u001b[39m, command, retry\u001b[38;5;241m=\u001b[39m\u001b[38;5;28;01mTrue\u001b[39;00m, binary\u001b[38;5;241m=\u001b[39m\u001b[38;5;28;01mFalse\u001b[39;00m):\n\u001b[1;32m   1016\u001b[0m \u001b[38;5;250m    \u001b[39m\u001b[38;5;124;03m\"\"\"Sends a command to the JVM. This method is not intended to be\u001b[39;00m\n\u001b[1;32m   1017\u001b[0m \u001b[38;5;124;03m       called directly by Py4J users. It is usually called by\u001b[39;00m\n\u001b[1;32m   1018\u001b[0m \u001b[38;5;124;03m       :class:`JavaMember` instances.\u001b[39;00m\n\u001b[0;32m   (...)\u001b[0m\n\u001b[1;32m   1034\u001b[0m \u001b[38;5;124;03m     if `binary` is `True`.\u001b[39;00m\n\u001b[1;32m   1035\u001b[0m \u001b[38;5;124;03m    \"\"\"\u001b[39;00m\n\u001b[0;32m-> 1036\u001b[0m     connection \u001b[38;5;241m=\u001b[39m \u001b[38;5;28;43mself\u001b[39;49m\u001b[38;5;241;43m.\u001b[39;49m\u001b[43m_get_connection\u001b[49m\u001b[43m(\u001b[49m\u001b[43m)\u001b[49m\n\u001b[1;32m   1037\u001b[0m     \u001b[38;5;28;01mtry\u001b[39;00m:\n\u001b[1;32m   1038\u001b[0m         response \u001b[38;5;241m=\u001b[39m connection\u001b[38;5;241m.\u001b[39msend_command(command)\n",
      "File \u001b[0;32m~/.local/lib/python3.10/site-packages/py4j/clientserver.py:284\u001b[0m, in \u001b[0;36mJavaClient._get_connection\u001b[0;34m(self)\u001b[0m\n\u001b[1;32m    281\u001b[0m     \u001b[38;5;28;01mpass\u001b[39;00m\n\u001b[1;32m    283\u001b[0m \u001b[38;5;28;01mif\u001b[39;00m connection \u001b[38;5;129;01mis\u001b[39;00m \u001b[38;5;28;01mNone\u001b[39;00m \u001b[38;5;129;01mor\u001b[39;00m connection\u001b[38;5;241m.\u001b[39msocket \u001b[38;5;129;01mis\u001b[39;00m \u001b[38;5;28;01mNone\u001b[39;00m:\n\u001b[0;32m--> 284\u001b[0m     connection \u001b[38;5;241m=\u001b[39m \u001b[38;5;28;43mself\u001b[39;49m\u001b[38;5;241;43m.\u001b[39;49m\u001b[43m_create_new_connection\u001b[49m\u001b[43m(\u001b[49m\u001b[43m)\u001b[49m\n\u001b[1;32m    285\u001b[0m \u001b[38;5;28;01mreturn\u001b[39;00m connection\n",
      "File \u001b[0;32m~/.local/lib/python3.10/site-packages/py4j/clientserver.py:291\u001b[0m, in \u001b[0;36mJavaClient._create_new_connection\u001b[0;34m(self)\u001b[0m\n\u001b[1;32m    287\u001b[0m \u001b[38;5;28;01mdef\u001b[39;00m \u001b[38;5;21m_create_new_connection\u001b[39m(\u001b[38;5;28mself\u001b[39m):\n\u001b[1;32m    288\u001b[0m     connection \u001b[38;5;241m=\u001b[39m ClientServerConnection(\n\u001b[1;32m    289\u001b[0m         \u001b[38;5;28mself\u001b[39m\u001b[38;5;241m.\u001b[39mjava_parameters, \u001b[38;5;28mself\u001b[39m\u001b[38;5;241m.\u001b[39mpython_parameters,\n\u001b[1;32m    290\u001b[0m         \u001b[38;5;28mself\u001b[39m\u001b[38;5;241m.\u001b[39mgateway_property, \u001b[38;5;28mself\u001b[39m)\n\u001b[0;32m--> 291\u001b[0m     \u001b[43mconnection\u001b[49m\u001b[38;5;241;43m.\u001b[39;49m\u001b[43mconnect_to_java_server\u001b[49m\u001b[43m(\u001b[49m\u001b[43m)\u001b[49m\n\u001b[1;32m    292\u001b[0m     \u001b[38;5;28mself\u001b[39m\u001b[38;5;241m.\u001b[39mset_thread_connection(connection)\n\u001b[1;32m    293\u001b[0m     \u001b[38;5;28;01mreturn\u001b[39;00m connection\n",
      "File \u001b[0;32m~/.local/lib/python3.10/site-packages/py4j/clientserver.py:438\u001b[0m, in \u001b[0;36mClientServerConnection.connect_to_java_server\u001b[0;34m(self)\u001b[0m\n\u001b[1;32m    435\u001b[0m \u001b[38;5;28;01mif\u001b[39;00m \u001b[38;5;28mself\u001b[39m\u001b[38;5;241m.\u001b[39mssl_context:\n\u001b[1;32m    436\u001b[0m     \u001b[38;5;28mself\u001b[39m\u001b[38;5;241m.\u001b[39msocket \u001b[38;5;241m=\u001b[39m \u001b[38;5;28mself\u001b[39m\u001b[38;5;241m.\u001b[39mssl_context\u001b[38;5;241m.\u001b[39mwrap_socket(\n\u001b[1;32m    437\u001b[0m         \u001b[38;5;28mself\u001b[39m\u001b[38;5;241m.\u001b[39msocket, server_hostname\u001b[38;5;241m=\u001b[39m\u001b[38;5;28mself\u001b[39m\u001b[38;5;241m.\u001b[39mjava_address)\n\u001b[0;32m--> 438\u001b[0m \u001b[38;5;28;43mself\u001b[39;49m\u001b[38;5;241;43m.\u001b[39;49m\u001b[43msocket\u001b[49m\u001b[38;5;241;43m.\u001b[39;49m\u001b[43mconnect\u001b[49m\u001b[43m(\u001b[49m\u001b[43m(\u001b[49m\u001b[38;5;28;43mself\u001b[39;49m\u001b[38;5;241;43m.\u001b[39;49m\u001b[43mjava_address\u001b[49m\u001b[43m,\u001b[49m\u001b[43m \u001b[49m\u001b[38;5;28;43mself\u001b[39;49m\u001b[38;5;241;43m.\u001b[39;49m\u001b[43mjava_port\u001b[49m\u001b[43m)\u001b[49m\u001b[43m)\u001b[49m\n\u001b[1;32m    439\u001b[0m \u001b[38;5;28mself\u001b[39m\u001b[38;5;241m.\u001b[39mstream \u001b[38;5;241m=\u001b[39m \u001b[38;5;28mself\u001b[39m\u001b[38;5;241m.\u001b[39msocket\u001b[38;5;241m.\u001b[39mmakefile(\u001b[38;5;124m\"\u001b[39m\u001b[38;5;124mrb\u001b[39m\u001b[38;5;124m\"\u001b[39m)\n\u001b[1;32m    440\u001b[0m \u001b[38;5;28mself\u001b[39m\u001b[38;5;241m.\u001b[39mis_connected \u001b[38;5;241m=\u001b[39m \u001b[38;5;28;01mTrue\u001b[39;00m\n",
      "\u001b[0;31mConnectionRefusedError\u001b[0m: [Errno 111] Connection refused"
     ]
    }
   ],
   "source": [
    "lr = LogisticRegression(maxIter=20, regParam=0.3, elasticNetParam=0)\n",
    "lrModel = lr.fit(trainingData)\n",
    "\n",
    "predictions = lrModel.transform(testData)\n",
    "\n",
    "predictions.filter(predictions['prediction'] == 0).select(\"seeds\",\"probability\",\"label\",\"prediction\")\\\n",
    ".orderBy(\"probability\", ascending=False).show(n = 10, truncate = 30)"
   ]
  },
  {
   "cell_type": "code",
   "execution_count": 19,
   "id": "0d484bb6-a4a0-4141-97fd-e9bd78d05065",
   "metadata": {},
   "outputs": [
    {
     "ename": "ConnectionRefusedError",
     "evalue": "[Errno 111] Connection refused",
     "output_type": "error",
     "traceback": [
      "\u001b[0;31m---------------------------------------------------------------------------\u001b[0m",
      "\u001b[0;31mConnectionRefusedError\u001b[0m                    Traceback (most recent call last)",
      "Cell \u001b[0;32mIn[19], line 2\u001b[0m\n\u001b[1;32m      1\u001b[0m \u001b[38;5;28;01mfrom\u001b[39;00m \u001b[38;5;21;01mpyspark\u001b[39;00m\u001b[38;5;21;01m.\u001b[39;00m\u001b[38;5;21;01mml\u001b[39;00m\u001b[38;5;21;01m.\u001b[39;00m\u001b[38;5;21;01mevaluation\u001b[39;00m \u001b[38;5;28;01mimport\u001b[39;00m MulticlassClassificationEvaluator\n\u001b[0;32m----> 2\u001b[0m evaluator \u001b[38;5;241m=\u001b[39m \u001b[43mMulticlassClassificationEvaluator\u001b[49m\u001b[43m(\u001b[49m\u001b[43mpredictionCol\u001b[49m\u001b[38;5;241;43m=\u001b[39;49m\u001b[38;5;124;43m\"\u001b[39;49m\u001b[38;5;124;43mprediction\u001b[39;49m\u001b[38;5;124;43m\"\u001b[39;49m\u001b[43m)\u001b[49m\n\u001b[1;32m      3\u001b[0m lrAccuracy \u001b[38;5;241m=\u001b[39m evaluator\u001b[38;5;241m.\u001b[39mevaluate(predictions)\n\u001b[1;32m      4\u001b[0m \u001b[38;5;28mprint\u001b[39m(lrAccuracy)\n",
      "File \u001b[0;32m~/.local/lib/python3.10/site-packages/pyspark/__init__.py:139\u001b[0m, in \u001b[0;36mkeyword_only.<locals>.wrapper\u001b[0;34m(self, *args, **kwargs)\u001b[0m\n\u001b[1;32m    137\u001b[0m     \u001b[38;5;28;01mraise\u001b[39;00m \u001b[38;5;167;01mTypeError\u001b[39;00m(\u001b[38;5;124m\"\u001b[39m\u001b[38;5;124mMethod \u001b[39m\u001b[38;5;132;01m%s\u001b[39;00m\u001b[38;5;124m forces keyword arguments.\u001b[39m\u001b[38;5;124m\"\u001b[39m \u001b[38;5;241m%\u001b[39m func\u001b[38;5;241m.\u001b[39m\u001b[38;5;18m__name__\u001b[39m)\n\u001b[1;32m    138\u001b[0m \u001b[38;5;28mself\u001b[39m\u001b[38;5;241m.\u001b[39m_input_kwargs \u001b[38;5;241m=\u001b[39m kwargs\n\u001b[0;32m--> 139\u001b[0m \u001b[38;5;28;01mreturn\u001b[39;00m \u001b[43mfunc\u001b[49m\u001b[43m(\u001b[49m\u001b[38;5;28;43mself\u001b[39;49m\u001b[43m,\u001b[49m\u001b[43m \u001b[49m\u001b[38;5;241;43m*\u001b[39;49m\u001b[38;5;241;43m*\u001b[39;49m\u001b[43mkwargs\u001b[49m\u001b[43m)\u001b[49m\n",
      "File \u001b[0;32m~/.local/lib/python3.10/site-packages/pyspark/ml/evaluation.py:589\u001b[0m, in \u001b[0;36mMulticlassClassificationEvaluator.__init__\u001b[0;34m(self, predictionCol, labelCol, metricName, weightCol, metricLabel, beta, probabilityCol, eps)\u001b[0m\n\u001b[1;32m    583\u001b[0m \u001b[38;5;250m\u001b[39m\u001b[38;5;124;03m\"\"\"\u001b[39;00m\n\u001b[1;32m    584\u001b[0m \u001b[38;5;124;03m__init__(self, \\\\*, predictionCol=\"prediction\", labelCol=\"label\", \\\u001b[39;00m\n\u001b[1;32m    585\u001b[0m \u001b[38;5;124;03m         metricName=\"f1\", weightCol=None, metricLabel=0.0, beta=1.0, \\\u001b[39;00m\n\u001b[1;32m    586\u001b[0m \u001b[38;5;124;03m         probabilityCol=\"probability\", eps=1e-15)\u001b[39;00m\n\u001b[1;32m    587\u001b[0m \u001b[38;5;124;03m\"\"\"\u001b[39;00m\n\u001b[1;32m    588\u001b[0m \u001b[38;5;28msuper\u001b[39m(MulticlassClassificationEvaluator, \u001b[38;5;28mself\u001b[39m)\u001b[38;5;241m.\u001b[39m\u001b[38;5;21m__init__\u001b[39m()\n\u001b[0;32m--> 589\u001b[0m \u001b[38;5;28mself\u001b[39m\u001b[38;5;241m.\u001b[39m_java_obj \u001b[38;5;241m=\u001b[39m \u001b[38;5;28;43mself\u001b[39;49m\u001b[38;5;241;43m.\u001b[39;49m\u001b[43m_new_java_obj\u001b[49m\u001b[43m(\u001b[49m\n\u001b[1;32m    590\u001b[0m \u001b[43m    \u001b[49m\u001b[38;5;124;43m\"\u001b[39;49m\u001b[38;5;124;43morg.apache.spark.ml.evaluation.MulticlassClassificationEvaluator\u001b[39;49m\u001b[38;5;124;43m\"\u001b[39;49m\u001b[43m,\u001b[49m\u001b[43m \u001b[49m\u001b[38;5;28;43mself\u001b[39;49m\u001b[38;5;241;43m.\u001b[39;49m\u001b[43muid\u001b[49m\n\u001b[1;32m    591\u001b[0m \u001b[43m\u001b[49m\u001b[43m)\u001b[49m\n\u001b[1;32m    592\u001b[0m \u001b[38;5;28mself\u001b[39m\u001b[38;5;241m.\u001b[39m_setDefault(metricName\u001b[38;5;241m=\u001b[39m\u001b[38;5;124m\"\u001b[39m\u001b[38;5;124mf1\u001b[39m\u001b[38;5;124m\"\u001b[39m, metricLabel\u001b[38;5;241m=\u001b[39m\u001b[38;5;241m0.0\u001b[39m, beta\u001b[38;5;241m=\u001b[39m\u001b[38;5;241m1.0\u001b[39m, eps\u001b[38;5;241m=\u001b[39m\u001b[38;5;241m1e-15\u001b[39m)\n\u001b[1;32m    593\u001b[0m kwargs \u001b[38;5;241m=\u001b[39m \u001b[38;5;28mself\u001b[39m\u001b[38;5;241m.\u001b[39m_input_kwargs\n",
      "File \u001b[0;32m~/.local/lib/python3.10/site-packages/pyspark/ml/wrapper.py:84\u001b[0m, in \u001b[0;36mJavaWrapper._new_java_obj\u001b[0;34m(java_class, *args)\u001b[0m\n\u001b[1;32m     82\u001b[0m java_obj \u001b[38;5;241m=\u001b[39m _jvm()\n\u001b[1;32m     83\u001b[0m \u001b[38;5;28;01mfor\u001b[39;00m name \u001b[38;5;129;01min\u001b[39;00m java_class\u001b[38;5;241m.\u001b[39msplit(\u001b[38;5;124m\"\u001b[39m\u001b[38;5;124m.\u001b[39m\u001b[38;5;124m\"\u001b[39m):\n\u001b[0;32m---> 84\u001b[0m     java_obj \u001b[38;5;241m=\u001b[39m \u001b[38;5;28;43mgetattr\u001b[39;49m\u001b[43m(\u001b[49m\u001b[43mjava_obj\u001b[49m\u001b[43m,\u001b[49m\u001b[43m \u001b[49m\u001b[43mname\u001b[49m\u001b[43m)\u001b[49m\n\u001b[1;32m     85\u001b[0m java_args \u001b[38;5;241m=\u001b[39m [_py2java(sc, arg) \u001b[38;5;28;01mfor\u001b[39;00m arg \u001b[38;5;129;01min\u001b[39;00m args]\n\u001b[1;32m     86\u001b[0m \u001b[38;5;28;01mreturn\u001b[39;00m java_obj(\u001b[38;5;241m*\u001b[39mjava_args)\n",
      "File \u001b[0;32m~/.local/lib/python3.10/site-packages/py4j/java_gateway.py:1712\u001b[0m, in \u001b[0;36mJVMView.__getattr__\u001b[0;34m(self, name)\u001b[0m\n\u001b[1;32m   1709\u001b[0m \u001b[38;5;28;01mif\u001b[39;00m name \u001b[38;5;241m==\u001b[39m UserHelpAutoCompletion\u001b[38;5;241m.\u001b[39mKEY:\n\u001b[1;32m   1710\u001b[0m     \u001b[38;5;28;01mreturn\u001b[39;00m UserHelpAutoCompletion()\n\u001b[0;32m-> 1712\u001b[0m answer \u001b[38;5;241m=\u001b[39m \u001b[38;5;28;43mself\u001b[39;49m\u001b[38;5;241;43m.\u001b[39;49m\u001b[43m_gateway_client\u001b[49m\u001b[38;5;241;43m.\u001b[39;49m\u001b[43msend_command\u001b[49m\u001b[43m(\u001b[49m\n\u001b[1;32m   1713\u001b[0m \u001b[43m    \u001b[49m\u001b[43mproto\u001b[49m\u001b[38;5;241;43m.\u001b[39;49m\u001b[43mREFLECTION_COMMAND_NAME\u001b[49m\u001b[43m \u001b[49m\u001b[38;5;241;43m+\u001b[39;49m\n\u001b[1;32m   1714\u001b[0m \u001b[43m    \u001b[49m\u001b[43mproto\u001b[49m\u001b[38;5;241;43m.\u001b[39;49m\u001b[43mREFL_GET_UNKNOWN_SUB_COMMAND_NAME\u001b[49m\u001b[43m \u001b[49m\u001b[38;5;241;43m+\u001b[39;49m\u001b[43m \u001b[49m\u001b[43mname\u001b[49m\u001b[43m \u001b[49m\u001b[38;5;241;43m+\u001b[39;49m\u001b[43m \u001b[49m\u001b[38;5;124;43m\"\u001b[39;49m\u001b[38;5;130;43;01m\\n\u001b[39;49;00m\u001b[38;5;124;43m\"\u001b[39;49m\u001b[43m \u001b[49m\u001b[38;5;241;43m+\u001b[39;49m\u001b[43m \u001b[49m\u001b[38;5;28;43mself\u001b[39;49m\u001b[38;5;241;43m.\u001b[39;49m\u001b[43m_id\u001b[49m\u001b[43m \u001b[49m\u001b[38;5;241;43m+\u001b[39;49m\n\u001b[1;32m   1715\u001b[0m \u001b[43m    \u001b[49m\u001b[38;5;124;43m\"\u001b[39;49m\u001b[38;5;130;43;01m\\n\u001b[39;49;00m\u001b[38;5;124;43m\"\u001b[39;49m\u001b[43m \u001b[49m\u001b[38;5;241;43m+\u001b[39;49m\u001b[43m \u001b[49m\u001b[43mproto\u001b[49m\u001b[38;5;241;43m.\u001b[39;49m\u001b[43mEND_COMMAND_PART\u001b[49m\u001b[43m)\u001b[49m\n\u001b[1;32m   1716\u001b[0m \u001b[38;5;28;01mif\u001b[39;00m answer \u001b[38;5;241m==\u001b[39m proto\u001b[38;5;241m.\u001b[39mSUCCESS_PACKAGE:\n\u001b[1;32m   1717\u001b[0m     \u001b[38;5;28;01mreturn\u001b[39;00m JavaPackage(name, \u001b[38;5;28mself\u001b[39m\u001b[38;5;241m.\u001b[39m_gateway_client, jvm_id\u001b[38;5;241m=\u001b[39m\u001b[38;5;28mself\u001b[39m\u001b[38;5;241m.\u001b[39m_id)\n",
      "File \u001b[0;32m~/.local/lib/python3.10/site-packages/py4j/java_gateway.py:1036\u001b[0m, in \u001b[0;36mGatewayClient.send_command\u001b[0;34m(self, command, retry, binary)\u001b[0m\n\u001b[1;32m   1015\u001b[0m \u001b[38;5;28;01mdef\u001b[39;00m \u001b[38;5;21msend_command\u001b[39m(\u001b[38;5;28mself\u001b[39m, command, retry\u001b[38;5;241m=\u001b[39m\u001b[38;5;28;01mTrue\u001b[39;00m, binary\u001b[38;5;241m=\u001b[39m\u001b[38;5;28;01mFalse\u001b[39;00m):\n\u001b[1;32m   1016\u001b[0m \u001b[38;5;250m    \u001b[39m\u001b[38;5;124;03m\"\"\"Sends a command to the JVM. This method is not intended to be\u001b[39;00m\n\u001b[1;32m   1017\u001b[0m \u001b[38;5;124;03m       called directly by Py4J users. It is usually called by\u001b[39;00m\n\u001b[1;32m   1018\u001b[0m \u001b[38;5;124;03m       :class:`JavaMember` instances.\u001b[39;00m\n\u001b[0;32m   (...)\u001b[0m\n\u001b[1;32m   1034\u001b[0m \u001b[38;5;124;03m     if `binary` is `True`.\u001b[39;00m\n\u001b[1;32m   1035\u001b[0m \u001b[38;5;124;03m    \"\"\"\u001b[39;00m\n\u001b[0;32m-> 1036\u001b[0m     connection \u001b[38;5;241m=\u001b[39m \u001b[38;5;28;43mself\u001b[39;49m\u001b[38;5;241;43m.\u001b[39;49m\u001b[43m_get_connection\u001b[49m\u001b[43m(\u001b[49m\u001b[43m)\u001b[49m\n\u001b[1;32m   1037\u001b[0m     \u001b[38;5;28;01mtry\u001b[39;00m:\n\u001b[1;32m   1038\u001b[0m         response \u001b[38;5;241m=\u001b[39m connection\u001b[38;5;241m.\u001b[39msend_command(command)\n",
      "File \u001b[0;32m~/.local/lib/python3.10/site-packages/py4j/clientserver.py:284\u001b[0m, in \u001b[0;36mJavaClient._get_connection\u001b[0;34m(self)\u001b[0m\n\u001b[1;32m    281\u001b[0m     \u001b[38;5;28;01mpass\u001b[39;00m\n\u001b[1;32m    283\u001b[0m \u001b[38;5;28;01mif\u001b[39;00m connection \u001b[38;5;129;01mis\u001b[39;00m \u001b[38;5;28;01mNone\u001b[39;00m \u001b[38;5;129;01mor\u001b[39;00m connection\u001b[38;5;241m.\u001b[39msocket \u001b[38;5;129;01mis\u001b[39;00m \u001b[38;5;28;01mNone\u001b[39;00m:\n\u001b[0;32m--> 284\u001b[0m     connection \u001b[38;5;241m=\u001b[39m \u001b[38;5;28;43mself\u001b[39;49m\u001b[38;5;241;43m.\u001b[39;49m\u001b[43m_create_new_connection\u001b[49m\u001b[43m(\u001b[49m\u001b[43m)\u001b[49m\n\u001b[1;32m    285\u001b[0m \u001b[38;5;28;01mreturn\u001b[39;00m connection\n",
      "File \u001b[0;32m~/.local/lib/python3.10/site-packages/py4j/clientserver.py:291\u001b[0m, in \u001b[0;36mJavaClient._create_new_connection\u001b[0;34m(self)\u001b[0m\n\u001b[1;32m    287\u001b[0m \u001b[38;5;28;01mdef\u001b[39;00m \u001b[38;5;21m_create_new_connection\u001b[39m(\u001b[38;5;28mself\u001b[39m):\n\u001b[1;32m    288\u001b[0m     connection \u001b[38;5;241m=\u001b[39m ClientServerConnection(\n\u001b[1;32m    289\u001b[0m         \u001b[38;5;28mself\u001b[39m\u001b[38;5;241m.\u001b[39mjava_parameters, \u001b[38;5;28mself\u001b[39m\u001b[38;5;241m.\u001b[39mpython_parameters,\n\u001b[1;32m    290\u001b[0m         \u001b[38;5;28mself\u001b[39m\u001b[38;5;241m.\u001b[39mgateway_property, \u001b[38;5;28mself\u001b[39m)\n\u001b[0;32m--> 291\u001b[0m     \u001b[43mconnection\u001b[49m\u001b[38;5;241;43m.\u001b[39;49m\u001b[43mconnect_to_java_server\u001b[49m\u001b[43m(\u001b[49m\u001b[43m)\u001b[49m\n\u001b[1;32m    292\u001b[0m     \u001b[38;5;28mself\u001b[39m\u001b[38;5;241m.\u001b[39mset_thread_connection(connection)\n\u001b[1;32m    293\u001b[0m     \u001b[38;5;28;01mreturn\u001b[39;00m connection\n",
      "File \u001b[0;32m~/.local/lib/python3.10/site-packages/py4j/clientserver.py:438\u001b[0m, in \u001b[0;36mClientServerConnection.connect_to_java_server\u001b[0;34m(self)\u001b[0m\n\u001b[1;32m    435\u001b[0m \u001b[38;5;28;01mif\u001b[39;00m \u001b[38;5;28mself\u001b[39m\u001b[38;5;241m.\u001b[39mssl_context:\n\u001b[1;32m    436\u001b[0m     \u001b[38;5;28mself\u001b[39m\u001b[38;5;241m.\u001b[39msocket \u001b[38;5;241m=\u001b[39m \u001b[38;5;28mself\u001b[39m\u001b[38;5;241m.\u001b[39mssl_context\u001b[38;5;241m.\u001b[39mwrap_socket(\n\u001b[1;32m    437\u001b[0m         \u001b[38;5;28mself\u001b[39m\u001b[38;5;241m.\u001b[39msocket, server_hostname\u001b[38;5;241m=\u001b[39m\u001b[38;5;28mself\u001b[39m\u001b[38;5;241m.\u001b[39mjava_address)\n\u001b[0;32m--> 438\u001b[0m \u001b[38;5;28;43mself\u001b[39;49m\u001b[38;5;241;43m.\u001b[39;49m\u001b[43msocket\u001b[49m\u001b[38;5;241;43m.\u001b[39;49m\u001b[43mconnect\u001b[49m\u001b[43m(\u001b[49m\u001b[43m(\u001b[49m\u001b[38;5;28;43mself\u001b[39;49m\u001b[38;5;241;43m.\u001b[39;49m\u001b[43mjava_address\u001b[49m\u001b[43m,\u001b[49m\u001b[43m \u001b[49m\u001b[38;5;28;43mself\u001b[39;49m\u001b[38;5;241;43m.\u001b[39;49m\u001b[43mjava_port\u001b[49m\u001b[43m)\u001b[49m\u001b[43m)\u001b[49m\n\u001b[1;32m    439\u001b[0m \u001b[38;5;28mself\u001b[39m\u001b[38;5;241m.\u001b[39mstream \u001b[38;5;241m=\u001b[39m \u001b[38;5;28mself\u001b[39m\u001b[38;5;241m.\u001b[39msocket\u001b[38;5;241m.\u001b[39mmakefile(\u001b[38;5;124m\"\u001b[39m\u001b[38;5;124mrb\u001b[39m\u001b[38;5;124m\"\u001b[39m)\n\u001b[1;32m    440\u001b[0m \u001b[38;5;28mself\u001b[39m\u001b[38;5;241m.\u001b[39mis_connected \u001b[38;5;241m=\u001b[39m \u001b[38;5;28;01mTrue\u001b[39;00m\n",
      "\u001b[0;31mConnectionRefusedError\u001b[0m: [Errno 111] Connection refused"
     ]
    }
   ],
   "source": [
    "from pyspark.ml.evaluation import MulticlassClassificationEvaluator\n",
    "evaluator = MulticlassClassificationEvaluator(predictionCol=\"prediction\")\n",
    "lrAccuracy = evaluator.evaluate(predictions)\n",
    "print(lrAccuracy)"
   ]
  },
  {
   "cell_type": "markdown",
   "id": "06fd4cc0-a4d1-49a7-90ef-65744bc6adc7",
   "metadata": {},
   "source": [
    "## ROC curve\n",
    "https://spark.apache.org/docs/latest/ml-classification-regression.html#multinomial-logistic-regression\n",
    "\n",
    "https://spark.apache.org/docs/2.3.0/api/java/org/apache/spark/ml/classification/LogisticRegressionTrainingSummary.html"
   ]
  },
  {
   "cell_type": "code",
   "execution_count": null,
   "id": "ed300d86-9e22-4f06-8c82-da5bf2d82d2a",
   "metadata": {},
   "outputs": [],
   "source": [
    "trainingSummary = lrModel.summary\n",
    "\n",
    "# for multiclass, we can inspect metrics on a per-label basis\n",
    "print(\"\\nFalse positive rate by label:\")\n",
    "for i, rate in enumerate(trainingSummary.falsePositiveRateByLabel):\n",
    "    print(\"label %d: %s\" % (i, rate))\n",
    "\n",
    "print(\"\\nTrue positive rate by label:\")\n",
    "for i, rate in enumerate(trainingSummary.truePositiveRateByLabel):\n",
    "    print(\"label %d: %s\" % (i, rate))\n",
    "\n",
    "print(\"\\nPrecision by label:\")\n",
    "for i, prec in enumerate(trainingSummary.precisionByLabel):\n",
    "    print(\"label %d: %s\" % (i, prec))\n",
    "\n",
    "print(\"\\nRecall by label:\")\n",
    "for i, rec in enumerate(trainingSummary.recallByLabel):\n",
    "    print(\"label %d: %s\" % (i, rec))\n",
    "\n",
    "print(\"\\nF-measure by label:\")\n",
    "for i, f in enumerate(trainingSummary.fMeasureByLabel()):\n",
    "    print(\"label %d: %s\" % (i, f))\n",
    "\n",
    "accuracy = trainingSummary.accuracy\n",
    "falsePositiveRate = trainingSummary.weightedFalsePositiveRate\n",
    "truePositiveRate = trainingSummary.weightedTruePositiveRate\n",
    "fMeasure = trainingSummary.weightedFMeasure()\n",
    "precision = trainingSummary.weightedPrecision\n",
    "recall = trainingSummary.weightedRecall\n",
    "print(\"\\nAccuracy: %s\\n\\nFPR: %s\\n\\nTPR: %s\\n\\nF-measure: %s\\n\\nPrecision: %s\\n\\nRecall: %s\"\n",
    "      % (accuracy, falsePositiveRate, truePositiveRate, fMeasure, precision, recall))"
   ]
  },
  {
   "cell_type": "markdown",
   "id": "caff1e2f-504b-440b-b911-b2c1891f1b02",
   "metadata": {},
   "source": [
    "## Logistic Regression using TF-IDF Features"
   ]
  },
  {
   "cell_type": "code",
   "execution_count": null,
   "id": "ba947012-b3be-47f2-a655-24f916b30409",
   "metadata": {},
   "outputs": [],
   "source": [
    "from pyspark.ml.feature import HashingTF, IDF\n",
    "\n",
    "hashingTF = HashingTF(inputCol=\"filtered\", outputCol=\"rawFeatures\", numFeatures=30000)\n",
    "idf = IDF(inputCol=\"rawFeatures\", outputCol=\"features\", minDocFreq=5) #minDocFreq: remove sparse terms\n",
    "pipeline = Pipeline(stages=[regexTokenizer, stopwordsRemover, hashingTF, idf, label_stringIdx])\n",
    "\n",
    "pipelineFit = pipeline.fit(innerJoin)\n",
    "dataset = pipelineFit.transform(innerJoin)\n",
    "\n",
    "(trainingData, testData) = dataset.randomSplit([0.7, 0.3], seed = 100)\n",
    "lr = LogisticRegression(maxIter=20, regParam=0.3, elasticNetParam=0)\n",
    "lrModel = lr.fit(trainingData)\n",
    "\n",
    "predictions = lrModel.transform(testData)\n",
    "\n",
    "predictions.filter(predictions['prediction'] == 0) \\\n",
    "    .select(\"seeds\",\"probability\",\"label\",\"prediction\") \\\n",
    "    .orderBy(\"probability\", ascending=False) \\\n",
    "    .show(n = 10, truncate = 30)"
   ]
  },
  {
   "cell_type": "code",
   "execution_count": null,
   "id": "46464208-2c53-4b97-bb8d-c08a782cd3bd",
   "metadata": {},
   "outputs": [],
   "source": [
    "evaluator = MulticlassClassificationEvaluator(predictionCol=\"prediction\")\n",
    "evaluator.evaluate(predictions)"
   ]
  },
  {
   "cell_type": "markdown",
   "id": "c4efe0bd-3dcb-40e4-8c2f-733873a11100",
   "metadata": {},
   "source": [
    "## Cross-Validation\n",
    "Let’s now try cross-validation to tune our hyper parameters, and we will only tune the count vectors Logistic Regression."
   ]
  },
  {
   "cell_type": "code",
   "execution_count": null,
   "id": "64dffd16-ad41-4589-9dba-27cc2bed2e86",
   "metadata": {},
   "outputs": [],
   "source": [
    "pipeline = Pipeline(stages=[regexTokenizer, stopwordsRemover, countVectors, label_stringIdx])\n",
    "\n",
    "pipelineFit = pipeline.fit(innerJoin)\n",
    "dataset = pipelineFit.transform(innerJoin)\n",
    "(trainingData, testData) = dataset.randomSplit([0.7, 0.3], seed = 100)\n",
    "\n",
    "lr = LogisticRegression(maxIter=20, regParam=0.3, elasticNetParam=0)"
   ]
  },
  {
   "cell_type": "code",
   "execution_count": null,
   "id": "10e3b641-57af-4dba-9e4b-0b79fab6057b",
   "metadata": {},
   "outputs": [],
   "source": [
    "from pyspark.ml.tuning import ParamGridBuilder, CrossValidator\n",
    "\n",
    "# Create ParamGrid for Cross Validation\n",
    "paramGrid = (ParamGridBuilder()\n",
    "             .addGrid(lr.regParam, [0.1, 0.3, 0.5]) # regularization parameter\n",
    "             .addGrid(lr.elasticNetParam, [0.0, 0.1, 0.2]) # Elastic Net Parameter (Ridge = 0)\n",
    "#            .addGrid(model.maxIter, [10, 20, 50]) #Number of iterations\n",
    "#            .addGrid(idf.numFeatures, [10, 100, 1000]) # Number of features\n",
    "             .build())\n",
    "\n",
    "# Create 5-fold CrossValidator\n",
    "cv = CrossValidator(estimator=lr, \\\n",
    "                    estimatorParamMaps=paramGrid, \\\n",
    "                    evaluator=evaluator, \\\n",
    "                    numFolds=5)\n",
    "\n",
    "cvModel = cv.fit(trainingData)\n",
    "\n",
    "predictions = cvModel.transform(testData)\n",
    "# Evaluate best model\n",
    "evaluator = MulticlassClassificationEvaluator(predictionCol=\"prediction\")\n",
    "evaluator.evaluate(predictions)\n",
    "#print(\"Test Area Under ROC: \" + str(evaluator.evaluate(predictions, {evaluator.metricName: \"areaUnderROC\"})))"
   ]
  },
  {
   "cell_type": "markdown",
   "id": "e892123e-4eee-4c17-ad24-d01befb7ac56",
   "metadata": {},
   "source": [
    "## Naive Bayes"
   ]
  },
  {
   "cell_type": "code",
   "execution_count": null,
   "id": "610fc418-0563-440d-bf9d-87a84f707e67",
   "metadata": {},
   "outputs": [],
   "source": [
    "from pyspark.ml.classification import NaiveBayes\n",
    "nb = NaiveBayes(smoothing=1)\n",
    "nbModel = nb.fit(trainingData)\n",
    "predictions = nbModel.transform(testData)\n",
    "predictions.filter(predictions['prediction'] == 0) \\\n",
    "    .select(\"seeds\",\"probability\",\"label\",\"prediction\") \\\n",
    "    .orderBy(\"probability\", ascending=False) \\\n",
    "    .show(n = 10, truncate = 30)"
   ]
  },
  {
   "cell_type": "code",
   "execution_count": null,
   "id": "c58fd21c-66fb-4894-aae2-9aad83314f93",
   "metadata": {},
   "outputs": [],
   "source": [
    "evaluator = MulticlassClassificationEvaluator(predictionCol=\"prediction\")\n",
    "nbAccuracy = evaluator.evaluate(predictions)\n",
    "print(nbAccuracy)"
   ]
  },
  {
   "cell_type": "code",
   "execution_count": null,
   "id": "5a7a6441-914e-469a-af83-708f78b484e1",
   "metadata": {},
   "outputs": [],
   "source": []
  }
 ],
 "metadata": {
  "kernelspec": {
   "display_name": "Python 3 (ipykernel)",
   "language": "python",
   "name": "python3"
  },
  "language_info": {
   "codemirror_mode": {
    "name": "ipython",
    "version": 3
   },
   "file_extension": ".py",
   "mimetype": "text/x-python",
   "name": "python",
   "nbconvert_exporter": "python",
   "pygments_lexer": "ipython3",
   "version": "3.10.12"
  }
 },
 "nbformat": 4,
 "nbformat_minor": 5
}
