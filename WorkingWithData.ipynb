{
  "cells": [
    {
      "cell_type": "markdown",
      "id": "c790a9d2-6f34-4096-8ff0-7599d8c173c7",
      "metadata": {
        "id": "c790a9d2-6f34-4096-8ff0-7599d8c173c7"
      },
      "source": [
        "# Lyrics sentiment analysis and prediction using pyspark\n",
        "\n",
        "\n",
        "\n",
        "This notebook file reads 2 CSV files, one with Songs lyricss and other with Songs classified by sentiments\n"
      ]
    },
    {
      "cell_type": "code",
      "source": [
        "!gdown 17Sc5B6-946GusvQB6O8nLXmFrnBbQ1Xg -O /content/sample_data/completes.csv\n",
        "#https://drive.google.com/file/d/17Sc5B6-946GusvQB6O8nLXmFrnBbQ1Xg/view?usp=sharing\n"
      ],
      "metadata": {
        "id": "zenMxQCystW2",
        "outputId": "143a654b-c6a2-4917-cc45-0f2f800d5003",
        "colab": {
          "base_uri": "https://localhost:8080/"
        }
      },
      "id": "zenMxQCystW2",
      "execution_count": 1,
      "outputs": [
        {
          "output_type": "stream",
          "name": "stdout",
          "text": [
            "Downloading...\n",
            "From: https://drive.google.com/uc?id=17Sc5B6-946GusvQB6O8nLXmFrnBbQ1Xg\n",
            "To: /content/sample_data/completes.csv\n",
            "100% 35.7M/35.7M [00:00<00:00, 94.7MB/s]\n"
          ]
        }
      ]
    },
    {
      "cell_type": "markdown",
      "id": "8a9b071c-019f-43a6-88ed-e25fe37bfa30",
      "metadata": {
        "id": "8a9b071c-019f-43a6-88ed-e25fe37bfa30"
      },
      "source": [
        "## Adding dependencies"
      ]
    },
    {
      "cell_type": "code",
      "source": [
        "!pip install pyspark"
      ],
      "metadata": {
        "id": "FJcMzdrus7n1",
        "outputId": "07742ea4-8c01-4dab-949e-4c880afb0113",
        "colab": {
          "base_uri": "https://localhost:8080/"
        }
      },
      "id": "FJcMzdrus7n1",
      "execution_count": 2,
      "outputs": [
        {
          "output_type": "stream",
          "name": "stdout",
          "text": [
            "Requirement already satisfied: pyspark in /usr/local/lib/python3.10/dist-packages (3.5.1)\n",
            "Requirement already satisfied: py4j==0.10.9.7 in /usr/local/lib/python3.10/dist-packages (from pyspark) (0.10.9.7)\n"
          ]
        }
      ]
    },
    {
      "cell_type": "code",
      "execution_count": 3,
      "id": "3ab0c1a8-17a4-4f93-bdd8-f77cb2fc58ff",
      "metadata": {
        "id": "3ab0c1a8-17a4-4f93-bdd8-f77cb2fc58ff"
      },
      "outputs": [],
      "source": [
        "import math\n",
        "import pandas as pd\n",
        "import numpy as np\n",
        "import pyspark.sql.functions as F\n",
        "from pyspark.sql import SQLContext\n",
        "from IPython import display\n",
        "from pyspark.sql import SQLContext\n",
        "from pyspark import SparkContext\n",
        "from pyspark.sql.types import *\n",
        "from pyspark.sql import SparkSession"
      ]
    },
    {
      "cell_type": "markdown",
      "id": "15b9c3fb-b83e-452d-9603-c1e492efbe31",
      "metadata": {
        "id": "15b9c3fb-b83e-452d-9603-c1e492efbe31"
      },
      "source": [
        "## Creating Spark context"
      ]
    },
    {
      "cell_type": "code",
      "execution_count": 4,
      "id": "89e8a771-dad5-48c7-8697-21486f286c8f",
      "metadata": {
        "id": "89e8a771-dad5-48c7-8697-21486f286c8f",
        "outputId": "df0d4036-a09b-494d-98e9-baea8183bc75",
        "colab": {
          "base_uri": "https://localhost:8080/"
        }
      },
      "outputs": [
        {
          "output_type": "stream",
          "name": "stderr",
          "text": [
            "/usr/local/lib/python3.10/dist-packages/pyspark/sql/context.py:113: FutureWarning: Deprecated in 3.0.0. Use SparkSession.builder.getOrCreate() instead.\n",
            "  warnings.warn(\n"
          ]
        },
        {
          "output_type": "execute_result",
          "data": {
            "text/plain": [
              "[('spark.app.startTime', '1716843598866'),\n",
              " ('spark.driver.extraJavaOptions',\n",
              "  '-Djava.net.preferIPv6Addresses=false -XX:+IgnoreUnrecognizedVMOptions --add-opens=java.base/java.lang=ALL-UNNAMED --add-opens=java.base/java.lang.invoke=ALL-UNNAMED --add-opens=java.base/java.lang.reflect=ALL-UNNAMED --add-opens=java.base/java.io=ALL-UNNAMED --add-opens=java.base/java.net=ALL-UNNAMED --add-opens=java.base/java.nio=ALL-UNNAMED --add-opens=java.base/java.util=ALL-UNNAMED --add-opens=java.base/java.util.concurrent=ALL-UNNAMED --add-opens=java.base/java.util.concurrent.atomic=ALL-UNNAMED --add-opens=java.base/jdk.internal.ref=ALL-UNNAMED --add-opens=java.base/sun.nio.ch=ALL-UNNAMED --add-opens=java.base/sun.nio.cs=ALL-UNNAMED --add-opens=java.base/sun.security.action=ALL-UNNAMED --add-opens=java.base/sun.util.calendar=ALL-UNNAMED --add-opens=java.security.jgss/sun.security.krb5=ALL-UNNAMED -Djdk.reflect.useDirectMethodHandle=false'),\n",
              " ('spark.app.name', 'test'),\n",
              " ('spark.app.id', 'local-1716843602527'),\n",
              " ('spark.memory.offHeap.size', '2g'),\n",
              " ('spark.executor.id', 'driver'),\n",
              " ('spark.executor.memory', '5g'),\n",
              " ('spark.driver.memory', '5g'),\n",
              " ('spark.driver.host', 'f2d8fe7322b4'),\n",
              " ('spark.memory.offHeap.enabled', 'true'),\n",
              " ('spark.rdd.compress', 'True'),\n",
              " ('spark.executor.extraJavaOptions',\n",
              "  '-Djava.net.preferIPv6Addresses=false -XX:+IgnoreUnrecognizedVMOptions --add-opens=java.base/java.lang=ALL-UNNAMED --add-opens=java.base/java.lang.invoke=ALL-UNNAMED --add-opens=java.base/java.lang.reflect=ALL-UNNAMED --add-opens=java.base/java.io=ALL-UNNAMED --add-opens=java.base/java.net=ALL-UNNAMED --add-opens=java.base/java.nio=ALL-UNNAMED --add-opens=java.base/java.util=ALL-UNNAMED --add-opens=java.base/java.util.concurrent=ALL-UNNAMED --add-opens=java.base/java.util.concurrent.atomic=ALL-UNNAMED --add-opens=java.base/jdk.internal.ref=ALL-UNNAMED --add-opens=java.base/sun.nio.ch=ALL-UNNAMED --add-opens=java.base/sun.nio.cs=ALL-UNNAMED --add-opens=java.base/sun.security.action=ALL-UNNAMED --add-opens=java.base/sun.util.calendar=ALL-UNNAMED --add-opens=java.security.jgss/sun.security.krb5=ALL-UNNAMED -Djdk.reflect.useDirectMethodHandle=false'),\n",
              " ('spark.serializer.objectStreamReset', '100'),\n",
              " ('spark.app.submitTime', '1716843598474'),\n",
              " ('spark.master', 'local[*]'),\n",
              " ('spark.driver.port', '33327'),\n",
              " ('spark.submit.pyFiles', ''),\n",
              " ('spark.submit.deployMode', 'client'),\n",
              " ('spark.ui.showConsoleProgress', 'true')]"
            ]
          },
          "metadata": {},
          "execution_count": 4
        }
      ],
      "source": [
        "spark = SparkSession.builder \\\n",
        "        .master(\"local[*]\") \\\n",
        "        .appName(\"test\") \\\n",
        "        .config(\"spark.driver.memory\", \"5g\")\\\n",
        "        .config(\"spark.executor.memory\", \"5g\")\\\n",
        "        .config(\"spark.memory.offHeap.enabled\", True)\\\n",
        "        .config(\"spark.memory.offHeap.size\",\"2g\")\\\n",
        "        .getOrCreate()\n",
        "sc = spark.sparkContext\n",
        "sqlContext = SQLContext(sc)\n",
        "\n",
        "spark.sparkContext._conf.getAll()  # check the config"
      ]
    },
    {
      "cell_type": "markdown",
      "id": "93ad9eb8-ed43-48bf-af44-d6a6bf178318",
      "metadata": {
        "id": "93ad9eb8-ed43-48bf-af44-d6a6bf178318"
      },
      "source": [
        "## Creating Schema for Emotions file"
      ]
    },
    {
      "cell_type": "code",
      "execution_count": 5,
      "id": "4d7b3215-42f6-4f17-9205-d28a090df734",
      "metadata": {
        "id": "4d7b3215-42f6-4f17-9205-d28a090df734"
      },
      "outputs": [],
      "source": [
        "shcemaOutput = StructType([\n",
        "    StructField(\"artist\", StringType()),\n",
        "    StructField(\"title\", StringType()),\n",
        "    StructField(\"seeds\", StringType()),\n",
        "    StructField(\"number_of_emotion_tags\", StringType()),\n",
        "    StructField(\"valence_tags\", StringType()),\n",
        "    StructField(\"arousal_tags\", StringType()),\n",
        "    StructField(\"dominance_tags\", StringType()),\n",
        "    StructField(\"genre\", StringType()),\n",
        "    StructField(\"year\", StringType()),\n",
        "    StructField(\"lyrics\", StringType())\n",
        "])"
      ]
    },
    {
      "cell_type": "markdown",
      "id": "7054ee13-fd92-44d7-a2e5-36e15f2ae7b9",
      "metadata": {
        "id": "7054ee13-fd92-44d7-a2e5-36e15f2ae7b9"
      },
      "source": [
        "## Definition of files"
      ]
    },
    {
      "cell_type": "code",
      "execution_count": 6,
      "id": "57db7cd5-a0c0-4a66-90d5-cc6b921a05e4",
      "metadata": {
        "id": "57db7cd5-a0c0-4a66-90d5-cc6b921a05e4"
      },
      "outputs": [],
      "source": [
        "#song_lyrics.csv file contains 3093218 songs data\n",
        "outputFile = '/content/sample_data/completes.csv'"
      ]
    },
    {
      "cell_type": "markdown",
      "id": "4fcfcd01-a8ef-4bc0-af31-30eb8c18b030",
      "metadata": {
        "id": "4fcfcd01-a8ef-4bc0-af31-30eb8c18b030"
      },
      "source": [
        "Reading CSV files for Emotions and Lyrics"
      ]
    },
    {
      "cell_type": "code",
      "execution_count": 7,
      "id": "e9f8990b-49c6-4c70-8e54-6ed42131413e",
      "metadata": {
        "id": "e9f8990b-49c6-4c70-8e54-6ed42131413e"
      },
      "outputs": [],
      "source": [
        "innerJoin = sqlContext.read.format(\"csv\").option(\"ignoreLeadingWhiteSpace\", \"true\").option(\"multiline\", \"true\").option('quote','\"').option('escape', '\"').option(\"header\", \"true\").schema(shcemaOutput).load(outputFile)#.limit(10000)"
      ]
    },
    {
      "cell_type": "markdown",
      "id": "2bc33c8b-efe8-4571-ad04-755ec8aec40d",
      "metadata": {
        "id": "2bc33c8b-efe8-4571-ad04-755ec8aec40d"
      },
      "source": [
        "## Preparing Data and new columns"
      ]
    },
    {
      "cell_type": "code",
      "execution_count": 8,
      "id": "fc24aa33-0176-418a-b38d-63719e7e8563",
      "metadata": {
        "id": "fc24aa33-0176-418a-b38d-63719e7e8563",
        "outputId": "23467188-a5e5-4555-f71f-bd778dc3ca3d",
        "colab": {
          "base_uri": "https://localhost:8080/"
        }
      },
      "outputs": [
        {
          "output_type": "stream",
          "name": "stdout",
          "text": [
            "+----------+----------+----------+----------------------+------------+------------+--------------+----------+----+----------+\n",
            "|    artist|     title|     seeds|number_of_emotion_tags|valence_tags|arousal_tags|dominance_tags|     genre|year|    lyrics|\n",
            "+----------+----------+----------+----------------------+------------+------------+--------------+----------+----+----------+\n",
            "|   Afroman|      Hush|['posit...|                     1|        7.57|         5.5|          7.26|   hip-hop|2000|[Hook] ...|\n",
            "|Aimee Mann|    You Do|['smooth']|                    15|  5.51230...|  3.25753...|    5.47857...|singer-...|1999|[Verse ...|\n",
            "|Air Supply|Even th...|['roman...|                     4|  7.42000...|      4.9625|    5.91166...| soft rock|1982|I, I wa...|\n",
            "|Alice C...|      DaDa|['spooky']|                     1|         4.4|         6.0|          4.48|classic...|1983|Da Da\\n...|\n",
            "|Alicia ...|     Diary|['smooth']|                    14|  6.61333...|  3.94787...|    5.95272...|      soul|2004|[Verse ...|\n",
            "|Alina B...|     Can I|  ['lush']|                     1|        6.48|        4.24|          5.79| downtempo|2015|[Verse ...|\n",
            "|Alina B...|    Unfold|  ['lush']|                     4|       6.195|       4.595|        5.6125|electronic|2015|[Verse ...|\n",
            "|Alkalin...| Your Neck|  ['dark']|                     1|        5.08|        4.09|          4.61|      punk|2005|[Chorus...|\n",
            "|Amelia ...|Tiny Gl...|['intim...|                     3|  4.85666...|  4.41333...|          4.69|      folk|2009|There's...|\n",
            "|  Anathema| Harmonium|['atmos...|                     8|  5.00391...|  3.84086...|    4.75695...|progres...|2003|[Intro]...|\n",
            "|  Anathema| Judgement|['atmos...|                    14|  5.35265...|  4.40224...|    4.90387...|doom metal|1999|The ine...|\n",
            "|Andrew ...|A Nervo...|['mellow']|                    18|  6.63926...|  4.35882...|    6.15029...|     indie|2005|[Intro]...|\n",
            "|Andrew ...|Not Goi...| ['manic']|                     1|        4.19|        4.55|          3.63|      rock|2006|Are you...|\n",
            "|Andrew ...|Party P...| ['hyper']|                     2|        6.15|        5.16|         5.185|      rock|2006|Well, P...|\n",
            "|Animal ...|Leaf House|['trippy']|                     7|  4.34066...|  3.04366...|    3.69233...|experim...|2004|This ho...|\n",
            "|Anita L...|Such a ...|['senti...|                     2|       3.135|       1.475|         3.365|      rock|2015|It's su...|\n",
            "|Anthony...|God If ...|['pasto...|                     4|        4.65|  2.19333...|    4.08666...|progres...|1977|\"Rest y...|\n",
            "|  Aqualung|You Tur...|  ['cold']|                     5|        6.76|      3.9075|        6.2075|     indie|2003|The end...|\n",
            "|   Archive|      Fold| ['quiet']|                     9|  4.53795...|  3.66272...|    4.54022...|alterna...|2006|I've be...|\n",
            "|  Ari Hest|Dead En...|['gentl...|                     4|       6.856|       3.144|         6.248|     indie|2009|Dead en...|\n",
            "+----------+----------+----------+----------------------+------------+------------+--------------+----------+----+----------+\n",
            "only showing top 20 rows\n",
            "\n"
          ]
        },
        {
          "output_type": "execute_result",
          "data": {
            "text/plain": [
              "27349"
            ]
          },
          "metadata": {},
          "execution_count": 8
        }
      ],
      "source": [
        "innerJoin.show(truncate = 10)\n",
        "innerJoin.count()"
      ]
    },
    {
      "cell_type": "code",
      "execution_count": 9,
      "id": "bb7c4096-06ac-493c-87ac-a62bd5a1b4db",
      "metadata": {
        "id": "bb7c4096-06ac-493c-87ac-a62bd5a1b4db"
      },
      "outputs": [],
      "source": [
        "innerJoin = innerJoin.withColumn(\"valence_tags\", \\\n",
        "                     F.when(innerJoin.valence_tags.between(0, 4), 0)\\\n",
        "                     #.otherwise(F.when(innerJoin.valence_tags.between(2, 4), 1)\\\n",
        "                     #  .otherwise(F.when(innerJoin.valence_tags.between(4, 6), 2)\\\n",
        "                         .otherwise(F.when(innerJoin.valence_tags > 4, 1)))"
      ]
    },
    {
      "cell_type": "code",
      "execution_count": 10,
      "id": "cc99a06e-e8e9-46ca-a4be-191bce31fd2e",
      "metadata": {
        "id": "cc99a06e-e8e9-46ca-a4be-191bce31fd2e"
      },
      "outputs": [],
      "source": [
        "innerJoin = innerJoin.withColumn(\"arousal_tags\", \\\n",
        "                     F.when(innerJoin.arousal_tags.between(0, 4), 0)\\\n",
        "                     #.otherwise(F.when(innerJoin.arousal_tags.between(2, 4), 1)\\\n",
        "                     #  .otherwise(F.when(innerJoin.arousal_tags.between(4, 6), 2)\\\n",
        "                         .otherwise(F.when(innerJoin.arousal_tags  > 4, 1)))"
      ]
    },
    {
      "cell_type": "code",
      "execution_count": 11,
      "id": "167bf00f-940d-4a24-a449-3da497c3f0d2",
      "metadata": {
        "id": "167bf00f-940d-4a24-a449-3da497c3f0d2"
      },
      "outputs": [],
      "source": [
        "innerJoin = innerJoin.withColumn(\"dominance_tags\", \\\n",
        "                     F.when(innerJoin.dominance_tags.between(0, 2), 0)\\\n",
        "                     .otherwise(F.when(innerJoin.dominance_tags.between(2, 4), 1)\\\n",
        "                       .otherwise(F.when(innerJoin.dominance_tags.between(4, 6), 2)\\\n",
        "                         .otherwise(F.when(innerJoin.dominance_tags  > 6, 3)))))"
      ]
    },
    {
      "cell_type": "code",
      "execution_count": 12,
      "id": "da5a64ef-e8da-4eee-8774-166b44ffdff8",
      "metadata": {
        "id": "da5a64ef-e8da-4eee-8774-166b44ffdff8"
      },
      "outputs": [],
      "source": [
        "categories = {'00':'Happy', '10':'Angry', '01':'Relaxed', '11':'Sad'}\n",
        "\n",
        "innerJoin = innerJoin.withColumn('category', F.concat(F.col(\"valence_tags\"), F.col('arousal_tags')))\n",
        "innerJoin = innerJoin.replace(to_replace=categories, subset=['category'])"
      ]
    },
    {
      "cell_type": "code",
      "execution_count": 13,
      "id": "b6397a5d-2d59-4f05-b883-f485cfb663ea",
      "metadata": {
        "id": "b6397a5d-2d59-4f05-b883-f485cfb663ea",
        "outputId": "e0362280-cbf0-4cfa-fba5-6bbc1d249349",
        "colab": {
          "base_uri": "https://localhost:8080/"
        }
      },
      "outputs": [
        {
          "output_type": "stream",
          "name": "stdout",
          "text": [
            "+----------+----------+----------+----------------------+------------+------------+--------------+----------+----+----------+--------+\n",
            "|    artist|     title|     seeds|number_of_emotion_tags|valence_tags|arousal_tags|dominance_tags|     genre|year|    lyrics|category|\n",
            "+----------+----------+----------+----------------------+------------+------------+--------------+----------+----+----------+--------+\n",
            "|   Afroman|      Hush|['posit...|                     1|           1|           1|             3|   hip-hop|2000|[Hook] ...|     Sad|\n",
            "|Aimee Mann|    You Do|['smooth']|                    15|           1|           0|             2|singer-...|1999|[Verse ...|   Angry|\n",
            "|Air Supply|Even th...|['roman...|                     4|           1|           0|             2| soft rock|1982|I, I wa...|   Angry|\n",
            "|Alice C...|      DaDa|['spooky']|                     1|           0|           1|             1|classic...|1983|Da Da\\n...| Relaxed|\n",
            "|Alicia ...|     Diary|['smooth']|                    14|           1|           0|             2|      soul|2004|[Verse ...|   Angry|\n",
            "|Alina B...|     Can I|  ['lush']|                     1|           1|           0|             2| downtempo|2015|[Verse ...|   Angry|\n",
            "|Alina B...|    Unfold|  ['lush']|                     4|           1|           0|             2|electronic|2015|[Verse ...|   Angry|\n",
            "|Alkalin...| Your Neck|  ['dark']|                     1|           1|           0|             1|      punk|2005|[Chorus...|   Angry|\n",
            "|Amelia ...|Tiny Gl...|['intim...|                     3|           0|           0|             1|      folk|2009|There's...|   Happy|\n",
            "|  Anathema| Harmonium|['atmos...|                     8|           1|           0|             1|progres...|2003|[Intro]...|   Angry|\n",
            "|  Anathema| Judgement|['atmos...|                    14|           1|           0|             1|doom metal|1999|The ine...|   Angry|\n",
            "|Andrew ...|A Nervo...|['mellow']|                    18|           1|           0|             2|     indie|2005|[Intro]...|   Angry|\n",
            "|Andrew ...|Not Goi...| ['manic']|                     1|           0|           0|             1|      rock|2006|Are you...|   Happy|\n",
            "|Andrew ...|Party P...| ['hyper']|                     2|           1|           1|             2|      rock|2006|Well, P...|     Sad|\n",
            "|Animal ...|Leaf House|['trippy']|                     7|           0|           0|             1|experim...|2004|This ho...|   Happy|\n",
            "|Anita L...|Such a ...|['senti...|                     2|           0|           0|             1|      rock|2015|It's su...|   Happy|\n",
            "|Anthony...|God If ...|['pasto...|                     4|           0|           0|             1|progres...|1977|\"Rest y...|   Happy|\n",
            "|  Aqualung|You Tur...|  ['cold']|                     5|           1|           0|             2|     indie|2003|The end...|   Angry|\n",
            "|   Archive|      Fold| ['quiet']|                     9|           0|           0|             1|alterna...|2006|I've be...|   Happy|\n",
            "|  Ari Hest|Dead En...|['gentl...|                     4|           1|           0|             2|     indie|2009|Dead en...|   Angry|\n",
            "+----------+----------+----------+----------------------+------------+------------+--------------+----------+----+----------+--------+\n",
            "only showing top 20 rows\n",
            "\n"
          ]
        }
      ],
      "source": [
        "innerJoin.show(truncate = 10)"
      ]
    },
    {
      "cell_type": "code",
      "execution_count": 14,
      "id": "9e0aa634-159c-425e-ab90-beaadcfc716a",
      "metadata": {
        "id": "9e0aa634-159c-425e-ab90-beaadcfc716a",
        "outputId": "83f3f607-0e85-4f79-c6b0-8a1089a9e2e4",
        "colab": {
          "base_uri": "https://localhost:8080/"
        }
      },
      "outputs": [
        {
          "output_type": "stream",
          "name": "stdout",
          "text": [
            "+--------------------+-----+\n",
            "|              artist|count|\n",
            "+--------------------+-----+\n",
            "|           Bob Dylan|   82|\n",
            "|        Warren Zevon|   76|\n",
            "|They Might Be Giants|   74|\n",
            "|     Robbie Williams|   73|\n",
            "|            The Cure|   73|\n",
            "|           Radiohead|   67|\n",
            "|         The Beatles|   67|\n",
            "|Manic Street Prea...|   63|\n",
            "|       Chelsea Wolfe|   59|\n",
            "|  The Mountain Goats|   59|\n",
            "|         of Montreal|   58|\n",
            "|           Kate Bush|   55|\n",
            "|           Tori Amos|   54|\n",
            "|       Elliott Smith|   53|\n",
            "|    Barenaked Ladies|   53|\n",
            "|         Bright Eyes|   52|\n",
            "|   Animal Collective|   51|\n",
            "|         Yo La Tengo|   51|\n",
            "|      Regina Spektor|   50|\n",
            "|       Kylie Minogue|   49|\n",
            "+--------------------+-----+\n",
            "only showing top 20 rows\n",
            "\n",
            "+--------+-----+\n",
            "|category|count|\n",
            "+--------+-----+\n",
            "|   Angry|12650|\n",
            "|   Happy| 7065|\n",
            "|     Sad| 5834|\n",
            "| Relaxed| 1800|\n",
            "+--------+-----+\n",
            "\n"
          ]
        }
      ],
      "source": [
        "from pyspark.sql.functions import col\n",
        "innerJoin.groupBy(\"artist\").count().orderBy(col(\"count\").desc()).show()\n",
        "innerJoin.groupBy(\"category\").count().orderBy(col(\"count\").desc()).show()"
      ]
    },
    {
      "cell_type": "markdown",
      "id": "bcce2606-9ffa-40e7-8bf1-1ce2a4664a80",
      "metadata": {
        "id": "bcce2606-9ffa-40e7-8bf1-1ce2a4664a80"
      },
      "source": [
        "## Model Pipeline\n",
        "\n",
        "Spark Machine Learning Pipelines API is similar to Scikit-Learn. Our pipeline includes three steps:\n",
        "\n",
        "regexTokenizer: Tokenization (with Regular Expression)\n",
        "\n",
        "stopwordsRemover: Remove Stop Words\n",
        "\n",
        "countVectors: Count vectors (“document-term vectors”)"
      ]
    },
    {
      "cell_type": "code",
      "execution_count": 15,
      "id": "ca2cb566-3af5-4d65-918e-b90849a5cc3c",
      "metadata": {
        "id": "ca2cb566-3af5-4d65-918e-b90849a5cc3c",
        "outputId": "8c761af6-2bb0-42f7-efb8-2613ade5beb1",
        "colab": {
          "base_uri": "https://localhost:8080/"
        }
      },
      "outputs": [
        {
          "output_type": "stream",
          "name": "stdout",
          "text": [
            "['i', 'me', 'my', 'myself', 'we', 'our', 'ours', 'ourselves', 'you', \"you're\", \"you've\", \"you'll\", \"you'd\", 'your', 'yours', 'yourself', 'yourselves', 'he', 'him', 'his', 'himself', 'she', \"she's\", 'her', 'hers', 'herself', 'it', \"it's\", 'its', 'itself', 'they', 'them', 'their', 'theirs', 'themselves', 'what', 'which', 'who', 'whom', 'this', 'that', \"that'll\", 'these', 'those', 'am', 'is', 'are', 'was', 'were', 'be', 'been', 'being', 'have', 'has', 'had', 'having', 'do', 'does', 'did', 'doing', 'a', 'an', 'the', 'and', 'but', 'if', 'or', 'because', 'as', 'until', 'while', 'of', 'at', 'by', 'for', 'with', 'about', 'against', 'between', 'into', 'through', 'during', 'before', 'after', 'above', 'below', 'to', 'from', 'up', 'down', 'in', 'out', 'on', 'off', 'over', 'under', 'again', 'further', 'then', 'once', 'here', 'there', 'when', 'where', 'why', 'how', 'all', 'any', 'both', 'each', 'few', 'more', 'most', 'other', 'some', 'such', 'no', 'nor', 'not', 'only', 'own', 'same', 'so', 'than', 'too', 'very', 's', 't', 'can', 'will', 'just', 'don', \"don't\", 'should', \"should've\", 'now', 'd', 'll', 'm', 'o', 're', 've', 'y', 'ain', 'aren', \"aren't\", 'couldn', \"couldn't\", 'didn', \"didn't\", 'doesn', \"doesn't\", 'hadn', \"hadn't\", 'hasn', \"hasn't\", 'haven', \"haven't\", 'isn', \"isn't\", 'ma', 'mightn', \"mightn't\", 'mustn', \"mustn't\", 'needn', \"needn't\", 'shan', \"shan't\", 'shouldn', \"shouldn't\", 'wasn', \"wasn't\", 'weren', \"weren't\", 'won', \"won't\", 'wouldn', \"wouldn't\"]\n"
          ]
        },
        {
          "output_type": "stream",
          "name": "stderr",
          "text": [
            "[nltk_data] Downloading package stopwords to /root/nltk_data...\n",
            "[nltk_data]   Package stopwords is already up-to-date!\n"
          ]
        }
      ],
      "source": [
        "import nltk\n",
        "from nltk.corpus import stopwords\n",
        "\n",
        "nltk.download('stopwords')\n",
        "print(stopwords.words('english'))"
      ]
    },
    {
      "cell_type": "code",
      "execution_count": 16,
      "id": "34e76a1d-eebf-458b-a971-31a881fb7efa",
      "metadata": {
        "id": "34e76a1d-eebf-458b-a971-31a881fb7efa"
      },
      "outputs": [],
      "source": [
        "from pyspark.ml.feature import RegexTokenizer, StopWordsRemover, CountVectorizer\n",
        "from pyspark.ml.classification import LogisticRegression\n",
        "\n",
        "# regular expression tokenizer\n",
        "regexTokenizer = RegexTokenizer(inputCol=\"lyrics\", outputCol=\"words\", pattern=\"[^a-zA-Z]\")\n",
        "\n",
        "# stop words\n",
        "add_stopwords = []\n",
        "add_stopwords.extend(stopwords.words('english'))\n",
        "add_stopwords.extend([\"verse\",\"intro\",\"chorus\",\"rt\",\"t\",\"c\",\"m\",\"s\",\"da\",\"the\"])\n",
        "\n",
        "stopwordsRemover = StopWordsRemover(inputCol=\"words\", outputCol=\"filtered\").setStopWords(add_stopwords)\n",
        "\n",
        "# bag of words count\n",
        "countVectors = CountVectorizer(inputCol=\"filtered\", outputCol=\"features\", vocabSize=5000, minDF=100)"
      ]
    },
    {
      "cell_type": "code",
      "execution_count": 17,
      "id": "3efd3e06-f181-47e4-a17a-b36159e6e5a6",
      "metadata": {
        "id": "3efd3e06-f181-47e4-a17a-b36159e6e5a6"
      },
      "outputs": [],
      "source": [
        "from pyspark.ml import Pipeline\n",
        "from pyspark.ml.feature import OneHotEncoder, StringIndexer, VectorAssembler\n",
        "\n",
        "label_stringIdx = StringIndexer(inputCol = \"category\", outputCol = \"label\")\n",
        "pipeline = Pipeline(stages=[regexTokenizer, stopwordsRemover, countVectors, label_stringIdx])\n",
        "\n",
        "# Fit the pipeline to training documents.\n",
        "pipelineFit = pipeline.fit(innerJoin)\n",
        "dataset = pipelineFit.transform(innerJoin)"
      ]
    },
    {
      "cell_type": "code",
      "execution_count": 18,
      "id": "6aa51a83-8cba-430b-a383-a9c4dbeb20c3",
      "metadata": {
        "id": "6aa51a83-8cba-430b-a383-a9c4dbeb20c3",
        "outputId": "69f41c98-b508-4c3e-fef0-235d70b32ef7",
        "colab": {
          "base_uri": "https://localhost:8080/"
        }
      },
      "outputs": [
        {
          "output_type": "stream",
          "name": "stdout",
          "text": [
            "+----------------------------------------------------------------------------------------------------+\n",
            "|                                                                                            filtered|\n",
            "+----------------------------------------------------------------------------------------------------+\n",
            "|[mind, believe, maybe, forgive, rather, simply, run, getting, closer, time, cause, one, every, be...|\n",
            "|[everything, must, end, every, romance, must, descend, every, lover, pact, decays, every, sad, mi...|\n",
            "|[like, could, die, broken, heart, one, smile, could, fix, get, back, fall, believed, songs, sang,...|\n",
            "|[lonely, one, wondering, went, wrong, love, gone, left, lonely, confused, feeling, like, used, ca...|\n",
            "|[maybe, moonbeam, light, way, evening, comes, worry, care, bout, cold, outside, glad, wish, magic...|\n",
            "|[told, could, give, life, would, leave, boundaries, mind, bet, never, even, knew, universe, insid...|\n",
            "|[embody, spirit, motion, bodies, motion, bodies, motion, dig, ocean, swing, stars, moon, earth, m...|\n",
            "|[things, go, bump, night, see, yeah, mishaps, always, happen, threes, rocket, science, big, myste...|\n",
            "|[really, cannot, see, good, wanna, say, everything, fine, times, made, stay, see, clear, today, w...|\n",
            "|[inequity, fate, pains, love, hate, heart, sick, memories, brought, knees, times, young, life, se...|\n",
            "|[wonder, ever, ended, way, together, yet, far, apart, nothing, left, share, guess, gonna, leaving...|\n",
            "|[end, end, sirens, pulling, heart, cold, cold, believe, might, never, beat, sun, sets, around, da...|\n",
            "|[see, morning, silence, say, pretty, lady, love, know, way, consider, love, girl, cause, time, tr...|\n",
            "|[stop, stop, thinking, called, come, around, tonight, give, straight, answer, say, even, though, ...|\n",
            "|[claim, city, tired, nothing, promis, ever, gonna, last, say, slowly, still, shine, like, diamond...|\n",
            "|[way, things, became, could, see, could, never, imagined, kiss, love, know, shows, us, always, kn...|\n",
            "|[place, us, world, see, place, know, somewhere, eternity, stand, god, children, together, tryna, ...|\n",
            "|[climb, walls, mind, like, climbing, jungle, gym, content, state, mind, cause, crazy, like, crazy...|\n",
            "|[know, night, war, broke, driving, around, story, people, understood, happened, world, tonight, b...|\n",
            "|[always, go, parties, pluck, feathers, birds, knees, would, beg, please, want, picture, words, kn...|\n",
            "|[tell, look, understand, see, dark, walks, gotta, shake, hand, ever, gonna, win, game, hell, kid,...|\n",
            "|[saw, head, scarecrow, burn, eyes, lead, make, crown, barbed, wire, leave, bed, come, running, he...|\n",
            "|[vague, sound, rain, pierces, song, get, distracted, way, toes, move, plays, let, burn, poured, h...|\n",
            "|[last, day, world, last, day, history, gonna, live, like, always, wanted, gonna, live, like, real...|\n",
            "|[home, home, whither, must, wander, hunger, driver, go, must, cold, blows, winter, wind, hill, he...|\n",
            "|[oh, sisters, mercy, departed, gone, waiting, thought, go, brought, comfort, later, brought, song...|\n",
            "|[girl, gone, away, real, long, time, nearly, went, mind, miss, loving, left, baby, ah, baby, come...|\n",
            "|[put, veil, took, things, underground, covered, footprints, one, saw, hide, heard, treading, shad...|\n",
            "|[forget, memories, come, go, ever, wanted, ever, known, happy, living, ghost, pictures, tell, sto...|\n",
            "|[time, ago, crazy, dream, came, dreamt, walkin, world, war, iii, went, doctor, next, day, see, ki...|\n",
            "|[come, show, another, world, step, realm, parallel, universe, open, eyes, see, travelling, space,...|\n",
            "|[hustler, bed, sleepyheads, flit, rooftops, homes, lazy, bones, could, keep, hidden, everyone, wo...|\n",
            "|[hey, little, devil, dwells, inside, angel, body, angel, mind, said, need, jesus, fly, take, litt...|\n",
            "|[elements, air, hanging, window, wind, chimes, warm, breeze, little, bells, tinkle, like, wind, c...|\n",
            "|[night, comes, falling, night, comes, rising, looking, place, go, come, people, used, know, still...|\n",
            "|[feat, mark, morrison, time, county, jail, fiens, started, goin, paied, price, crimes, innocent, ...|\n",
            "|[strange, say, world, moving, upwards, surreal, hand, feels, roll, dice, great, wake, every, day,...|\n",
            "|[damage, done, words, spoken, flat, floor, left, alone, broken, kill, bottle, beat, booze, punch,...|\n",
            "|[well, kimbie, wants, nine, dollar, shawl, kimbie, wants, nine, dollar, shawl, wants, nine, dolla...|\n",
            "|[caught, half, light, caught, alone, waking, sunrise, radio, feels, like, tied, holding, praying,...|\n",
            "|[new, world, coming, around, bend, new, world, coming, one, coming, end, new, voice, callin, hear...|\n",
            "|[took, dancing, little, candlelight, romancing, roses, high, barstool, yeah, blind, fool, know, b...|\n",
            "|[talking, songbird, yesterday, flew, place, far, away, little, pilot, mind, singing, songs, love,...|\n",
            "|[baby, long, time, coming, long, long, time, stop, running, long, long, time, hear, heart, beatin...|\n",
            "|[counting, things, hope, get, pretending, wind, breeze, letting, body, freeze, ask, could, stop, ...|\n",
            "|[cut, tree, brought, back, made, see, going, wrong, put, shelf, kept, blame, blame, could, write,...|\n",
            "|[female, thinkin, right, onebelo, right, echoes, past, specifically, days, remember, mind, body, ...|\n",
            "|[everybody, knows, dice, loaded, everybody, rolls, fingers, crossed, everybody, knows, war, every...|\n",
            "|[solitary, motion, wake, avalanche, deer, headlights, goes, weaker, one, listenin, fast, gaze, ca...|\n",
            "|[celebrate, passing, drug, put, em, back, seat, coursing, blood, amongst, us, walking, argyll, st...|\n",
            "|[stars, lean, kiss, lie, awake, miss, pour, heavy, dose, atmosphere, cause, doze, safe, soundly, ...|\n",
            "|[always, said, good, kid, always, said, way, words, never, knew, could, speechless, know, ever, b...|\n",
            "|[walker, sees, mist, rise, man, land, sees, front, smashed, waste, ground, fields, trees, blades,...|\n",
            "|[starting, feel, stayed, together, fear, dying, alone, slipping, years, old, clothes, fit, like, ...|\n",
            "|[wait, bus, going, bangor, plaid, dress, burgundy, shoes, red, lipstick, lilac, kerchief, pretty,...|\n",
            "|[know, really, could, end, really, know, could, never, make, work, wake, pretend, really, really,...|\n",
            "|[walking, grocery, store, day, ward, starvation, got, crackerjack, coffee, milky, way, realizatio...|\n",
            "|[wanted, go, hurt, much, stay, run, away, fast, heart, found, way, came, along, tired, sadness, s...|\n",
            "|[written, would, love, moment, opened, eyes, morning, first, saw, gave, life, calico, skies, hold...|\n",
            "|[used, get, along, tried, hard, strong, honey, thought, made, proud, masquerade, fooling, thought...|\n",
            "|[summertime, gone, wanna, lose, want, see, forget, sun, want, city, want, pretty, party, time, pa...|\n",
            "|[driftin, dreamin, azure, mood, stardust, gleamin, thru, solitude, seclusion, blue, illusion, azu...|\n",
            "|[lie, ie, ie, lie, ie, ie, seem, blend, society, hold, hope, dim, simplicity, law, order, whose, ...|\n",
            "|[really, years, ago, need, well, never, know, sorry, clinging, sorry, wanting, heart, pounding, d...|\n",
            "|[oh, go, slow, got, gold, fist, eat, hope, make, new, spend, wage, couple, days, hoping, life, mi...|\n",
            "|[saw, dancin, ocean, runnin, fast, along, sand, spirit, born, earth, water, fire, flyin, hands, i...|\n",
            "|[toss, turn, night, know, make, right, crippling, anxiety, crime, growing, old, may, bold, go, st...|\n",
            "|[tell, heaven, say, way, moonlight, holly, sappho, comet, angel, tears, tree, talk, break, mornin...|\n",
            "|[together, stars, forever, together, stars, forever, together, stars, forever, together, stars, f...|\n",
            "|[real, enough, confused, decided, stay, remain, together, abandon, belong, breathe, take, life, l...|\n",
            "|[water, wheel, goes, round, round, stick, baby, glad, one, found, got, full, moon, soul, want, se...|\n",
            "|[well, time, begin, summer, sets, scene, set, new, lovers, play, part, painting, new, start, gate...|\n",
            "|[ooh, babe, oh, girl, bounce, baby, bounce, baby, move, uh, check, baby, relax, sit, back, chill,...|\n",
            "|[certainly, shopping, new, shoes, certainly, spreading, around, still, travel, foot, foot, slow, ...|\n",
            "|[master, rebel, prince, shut, windows, windows, around, windows, tellin, rid, dirty, mind, precio...|\n",
            "|[breeze, blows, treetops, tease, sensation, wonder, imagination, wondering, feels, cold, go, leav...|\n",
            "|[listen, radio, waiting, song, play, wonder, gonna, gonna, hear, song, today, cause, counting, ev...|\n",
            "|[drink, baby, doll, mmm, leave, things, behind, cause, going, without, pre, excuse, busy, oh, wri...|\n",
            "|[city, headache, subsides, dreary, tone, send, doctor, house, got, fever, coming, round, bend, he...|\n",
            "|[cent, g, unit, ready, ahhhh, cent, know, thinkin, know, drinkin, get, outta, line, boy, lay, ass...|\n",
            "|[ooh, ooh, please, take, lightly, mean, every, word, whichever, way, like, place, one, day, bette...|\n",
            "|[every, heart, story, told, way, believe, forever, every, life, story, unfolds, like, mystery, se...|\n",
            "|[grey, ceiling, earth, well, lasted, take, thoughts, worth, acting, like, child, opinion, differe...|\n",
            "|[head, heart, lost, somewhere, missing, parts, wedding, bells, second, time, one, tale, one, crim...|\n",
            "|[sing, boys, watch, dance, come, man, sing, boys, watch, dance, mind, watch, fall, away, know, si...|\n",
            "|[message, bells, ringin, push, finally, come, shove, door, opened, enough, sick, tired, waiting, ...|\n",
            "|[come, spare, end, want, talk, metaphors, new, hole, head, holding, like, want, home, really, car...|\n",
            "|[zipping, unzipping, sounds, ryan, miller, one, time, said, crawls, hole, fine, says, tears, fall...|\n",
            "|[dawn, got, pretty, early, sing, songs, try, get, attention, get, wrong, knows, never, lonely, go...|\n",
            "|[concentrate, middle, one, way, ride, center, lays, key, get, back, solve, riddle, afraid, stay, ...|\n",
            "|[whole, england, must, searching, well, sooner, later, going, find, never, see, looking, alright,...|\n",
            "|[move, touch, perhaps, much, love, sing, seen, cross, cause, clean, grave, cause, green, tongue, ...|\n",
            "|[stepped, train, dawn, walked, along, open, road, find, made, beds, gold, motel, sold, junk, caro...|\n",
            "|[hope, ventilate, vapours, might, take, sec, vapours, might, make, wet, well, hope, satiate, home...|\n",
            "|[could, stand, watch, sun, rise, follow, mountains, touch, sky, ponder, vastness, depths, sea, th...|\n",
            "|[day, neighbor, dented, bike, second, day, called, intensive, care, says, needs, picture, dented,...|\n",
            "|[curled, back, car, nine, years, old, know, head, window, eyes, closed, voice, front, hush, road,...|\n",
            "|[produced, kanye, west, common, gil, scott, heron, yeah, way, home, common, say, home, hate, dome...|\n",
            "|[open, wounds, bleed, veins, run, dry, take, thorn, tear, side, agitated, fault, line, still, agr...|\n",
            "|[say, never, landed, moon, wind, assume, guess, conspiracies, nothing, new, sure, believe, space,...|\n",
            "+----------------------------------------------------------------------------------------------------+\n",
            "only showing top 100 rows\n",
            "\n"
          ]
        }
      ],
      "source": [
        "#dataset.select(\"words\", \"filtered\", \"features\", \"label\").orderBy(col(\"label\").asc()).show(truncate=30)\n",
        "dataset.select(\"filtered\").orderBy(col(\"label\").asc()).show(100, truncate=100)"
      ]
    },
    {
      "cell_type": "code",
      "execution_count": 19,
      "id": "522f1968-57f7-43a1-846d-72e456a180bd",
      "metadata": {
        "id": "522f1968-57f7-43a1-846d-72e456a180bd",
        "outputId": "3fb43218-925b-4f0d-c594-f795b7012bfb",
        "colab": {
          "base_uri": "https://localhost:8080/"
        }
      },
      "outputs": [
        {
          "output_type": "stream",
          "name": "stdout",
          "text": [
            "+-----+-----+\n",
            "|label|count|\n",
            "+-----+-----+\n",
            "|  0.0|12650|\n",
            "|  1.0| 7065|\n",
            "|  2.0| 5834|\n",
            "|  3.0| 1800|\n",
            "+-----+-----+\n",
            "\n"
          ]
        },
        {
          "output_type": "execute_result",
          "data": {
            "text/plain": [
              "27349"
            ]
          },
          "metadata": {},
          "execution_count": 19
        }
      ],
      "source": [
        "dataset.groupBy(\"label\").count().orderBy(col(\"count\").desc()).show()\n",
        "dataset.count()"
      ]
    },
    {
      "cell_type": "code",
      "execution_count": 20,
      "id": "0c2067b4-b5d2-4ee7-bbd8-8dd28a19de37",
      "metadata": {
        "id": "0c2067b4-b5d2-4ee7-bbd8-8dd28a19de37"
      },
      "outputs": [],
      "source": [
        "from pyspark.sql import functions as F\n",
        "from pyspark.sql.window import Window\n",
        "\n",
        "window = Window.partitionBy(dataset['label']).orderBy(F.rand())\n",
        "dataset = dataset.select(F.col('*'),\n",
        "               F.row_number().over(window).alias('row_number')) \\\n",
        "               .where(F.col('row_number') <= 8000)"
      ]
    },
    {
      "cell_type": "code",
      "execution_count": 21,
      "id": "a23e1bfe-77be-4a0b-bf1c-298d20637653",
      "metadata": {
        "id": "a23e1bfe-77be-4a0b-bf1c-298d20637653",
        "outputId": "8db8269e-322b-4420-8859-f9ff4838e51d",
        "colab": {
          "base_uri": "https://localhost:8080/"
        }
      },
      "outputs": [
        {
          "output_type": "stream",
          "name": "stdout",
          "text": [
            "+-----+-----+\n",
            "|label|count|\n",
            "+-----+-----+\n",
            "|  0.0| 8000|\n",
            "|  1.0| 7065|\n",
            "|  2.0| 5834|\n",
            "|  3.0| 1800|\n",
            "+-----+-----+\n",
            "\n"
          ]
        },
        {
          "output_type": "execute_result",
          "data": {
            "text/plain": [
              "22699"
            ]
          },
          "metadata": {},
          "execution_count": 21
        }
      ],
      "source": [
        "dataset.groupBy(\"label\").count().orderBy(col(\"count\").desc()).show()\n",
        "dataset.count()"
      ]
    },
    {
      "cell_type": "markdown",
      "id": "f49b5f3b-113d-4fbc-9954-6d50232e80a5",
      "metadata": {
        "id": "f49b5f3b-113d-4fbc-9954-6d50232e80a5"
      },
      "source": [
        "## Partition Training & Test sets"
      ]
    },
    {
      "cell_type": "code",
      "execution_count": 22,
      "id": "48c9e1c9-1d69-494d-8656-fb3b51f3a004",
      "metadata": {
        "id": "48c9e1c9-1d69-494d-8656-fb3b51f3a004",
        "outputId": "f6f03f19-2060-4087-bd20-96b4246ffd9f",
        "colab": {
          "base_uri": "https://localhost:8080/"
        }
      },
      "outputs": [
        {
          "output_type": "stream",
          "name": "stdout",
          "text": [
            "Training Dataset Count: 18104\n",
            "Test Dataset Count: 4595\n"
          ]
        }
      ],
      "source": [
        "# set seed for reproducibility\n",
        "(trainingData, testData) = dataset.randomSplit([0.8, 0.2])\n",
        "print(\"Training Dataset Count: \" + str(trainingData.count()))\n",
        "print(\"Test Dataset Count: \" + str(testData.count()))"
      ]
    },
    {
      "cell_type": "markdown",
      "id": "b60a0e53-ae79-41af-b17f-a70e3b64baa2",
      "metadata": {
        "id": "b60a0e53-ae79-41af-b17f-a70e3b64baa2"
      },
      "source": [
        "## Model Training and Evaluation\n",
        "\n",
        "Logistic Regression using Count Vector Features\n",
        "\n",
        "Our model will make predictions and score on the test set; we then look at the top 10 predictions from the highest probability."
      ]
    },
    {
      "cell_type": "code",
      "execution_count": 23,
      "id": "85de1045-5643-45c6-b020-0c9b56adf5e9",
      "metadata": {
        "id": "85de1045-5643-45c6-b020-0c9b56adf5e9",
        "outputId": "e70dc837-c3b9-437b-dc37-721a6757a447",
        "colab": {
          "base_uri": "https://localhost:8080/"
        }
      },
      "outputs": [
        {
          "output_type": "stream",
          "name": "stdout",
          "text": [
            "+------------------------------+--------+------------------------------+-----+----------+\n",
            "|                      filtered|category|                   probability|label|prediction|\n",
            "+------------------------------+--------+------------------------------+-----+----------+\n",
            "|[got, big, brown, eyes, bui...|   Angry|[0.9849547584439863,0.00408...|  0.0|       0.0|\n",
            "|[still, smell, distance, as...|   Happy|[0.9606942526540792,0.02488...|  1.0|       0.0|\n",
            "|[whoa, ooh, umm, yeah, yeah...|   Angry|[0.9459226264317699,0.00308...|  0.0|       0.0|\n",
            "|[mountains, rise, kiss, ski...|   Angry|[0.9131621624042712,0.02462...|  0.0|       0.0|\n",
            "|[good, morning, starshine, ...|   Angry|[0.8475852337070865,0.07633...|  0.0|       0.0|\n",
            "|[welcome, new, wave, guess,...|   Angry|[0.8063071211013251,0.11516...|  0.0|       0.0|\n",
            "|[produced, scoop, deville, ...|   Angry|[0.8015815351414427,0.13000...|  0.0|       0.0|\n",
            "|[one, summer, night, ran, a...|   Angry|[0.7993898776304567,0.06650...|  0.0|       0.0|\n",
            "|[land, land, land, land, ca...|   Happy|[0.7950267816003804,0.13563...|  1.0|       0.0|\n",
            "|[put, blue, suede, shoes, b...|   Angry|[0.7811583422608797,0.11370...|  0.0|       0.0|\n",
            "+------------------------------+--------+------------------------------+-----+----------+\n",
            "only showing top 10 rows\n",
            "\n"
          ]
        }
      ],
      "source": [
        "lr = LogisticRegression(maxIter=20, regParam=0.3, elasticNetParam=0)\n",
        "lrModel = lr.fit(trainingData)\n",
        "\n",
        "predictions = lrModel.transform(testData)\n",
        "\n",
        "predictions.filter(predictions['prediction'] == 0).select(\"filtered\", \"category\",\"probability\",\"label\",\"prediction\")\\\n",
        ".orderBy(\"probability\", ascending=False).show(n = 10, truncate = 30)"
      ]
    },
    {
      "cell_type": "code",
      "execution_count": 24,
      "id": "e462ab2c-96b5-4692-9aa0-4c7649281731",
      "metadata": {
        "id": "e462ab2c-96b5-4692-9aa0-4c7649281731",
        "outputId": "b367d9ba-a780-4ce3-d7d0-df5adf5cf49e",
        "colab": {
          "base_uri": "https://localhost:8080/"
        }
      },
      "outputs": [
        {
          "output_type": "stream",
          "name": "stdout",
          "text": [
            "+------------------------------+--------+------------------------------+-----+----------+\n",
            "|                      filtered|category|                   probability|label|prediction|\n",
            "+------------------------------+--------+------------------------------+-----+----------+\n",
            "|[darkness, cold, seemed, no...|     Sad|[0.4672451077662545,0.46876...|  2.0|       1.0|\n",
            "|[night, like, child, stayed...|     Sad|[0.43842479224611347,0.4570...|  2.0|       1.0|\n",
            "|[maybe, movies, maybe, book...|   Angry|[0.43808498149073566,0.4772...|  0.0|       1.0|\n",
            "|[ship, setting, course, sea...|   Happy|[0.43461834334545746,0.4574...|  1.0|       1.0|\n",
            "|[getting, darker, still, sw...|   Angry|[0.4330060549444111,0.44606...|  0.0|       1.0|\n",
            "|[see, clouds, grey, sun, ho...|   Angry|[0.432253603782838,0.524730...|  0.0|       1.0|\n",
            "|[keep, keep, evenin, even, ...|   Angry|[0.4283196447236836,0.43332...|  0.0|       1.0|\n",
            "|[pussy, matter, fact, pussy...|   Angry|[0.4252111167476679,0.45184...|  0.0|       1.0|\n",
            "|[moon, sky, softly, creepin...|   Angry|[0.42425162263310406,0.4274...|  0.0|       1.0|\n",
            "|[long, gonna, babe, get, do...|   Happy|[0.41089503593848825,0.4609...|  1.0|       1.0|\n",
            "+------------------------------+--------+------------------------------+-----+----------+\n",
            "only showing top 10 rows\n",
            "\n"
          ]
        }
      ],
      "source": [
        "predictions.filter(predictions['prediction'] == 1).select(\"filtered\", \"category\",\"probability\",\"label\",\"prediction\")\\\n",
        ".orderBy(\"probability\", ascending=False).show(n = 10, truncate = 30)"
      ]
    },
    {
      "cell_type": "code",
      "execution_count": 25,
      "id": "0d484bb6-a4a0-4141-97fd-e9bd78d05065",
      "metadata": {
        "id": "0d484bb6-a4a0-4141-97fd-e9bd78d05065",
        "outputId": "20b7e559-ee4b-4dfb-dd56-852555c43fdd",
        "colab": {
          "base_uri": "https://localhost:8080/"
        }
      },
      "outputs": [
        {
          "output_type": "stream",
          "name": "stdout",
          "text": [
            "0.3826699252147256\n"
          ]
        }
      ],
      "source": [
        "from pyspark.ml.evaluation import MulticlassClassificationEvaluator\n",
        "evaluator = MulticlassClassificationEvaluator(predictionCol=\"prediction\")\n",
        "lrAccuracy = evaluator.evaluate(predictions)\n",
        "print(lrAccuracy)"
      ]
    },
    {
      "cell_type": "markdown",
      "id": "06fd4cc0-a4d1-49a7-90ef-65744bc6adc7",
      "metadata": {
        "id": "06fd4cc0-a4d1-49a7-90ef-65744bc6adc7"
      },
      "source": [
        "## ROC curve\n",
        "https://spark.apache.org/docs/latest/ml-classification-regression.html#multinomial-logistic-regression\n",
        "\n",
        "https://spark.apache.org/docs/2.3.0/api/java/org/apache/spark/ml/classification/LogisticRegressionTrainingSummary.html"
      ]
    },
    {
      "cell_type": "code",
      "execution_count": 26,
      "id": "ed300d86-9e22-4f06-8c82-da5bf2d82d2a",
      "metadata": {
        "id": "ed300d86-9e22-4f06-8c82-da5bf2d82d2a",
        "outputId": "e923dac3-4699-42f9-b941-7ae0acf521c8",
        "colab": {
          "base_uri": "https://localhost:8080/"
        }
      },
      "outputs": [
        {
          "output_type": "stream",
          "name": "stdout",
          "text": [
            "\n",
            "False positive rate by label:\n",
            "label 0: 0.38426083987709114\n",
            "label 1: 0.23756109286114896\n",
            "label 2: 0.07770672218917311\n",
            "label 3: 0.0005399892002159956\n",
            "\n",
            "True positive rate by label:\n",
            "label 0: 0.7160300563556669\n",
            "label 1: 0.5537969055664236\n",
            "label 2: 0.38251718213058417\n",
            "label 3: 0.07933194154488518\n",
            "\n",
            "Precision by label:\n",
            "label 0: 0.503966505068312\n",
            "label 1: 0.5122553051488732\n",
            "label 2: 0.6302193913658882\n",
            "label 3: 0.926829268292683\n",
            "\n",
            "Recall by label:\n",
            "label 0: 0.7160300563556669\n",
            "label 1: 0.5537969055664236\n",
            "label 2: 0.38251718213058417\n",
            "label 3: 0.07933194154488518\n",
            "\n",
            "F-measure by label:\n",
            "label 0: 0.5915675116399378\n",
            "label 1: 0.5322167150914373\n",
            "label 2: 0.4760759155306068\n",
            "label 3: 0.14615384615384616\n",
            "\n",
            "Accuracy: 0.5293305346884667\n",
            "\n",
            "FPR: 0.22939917881609587\n",
            "\n",
            "TPR: 0.5293305346884666\n",
            "\n",
            "F-measure: 0.5080766898447115\n",
            "\n",
            "Precision: 0.572575384443474\n",
            "\n",
            "Recall: 0.5293305346884666\n"
          ]
        }
      ],
      "source": [
        "trainingSummary = lrModel.summary\n",
        "\n",
        "# for multiclass, we can inspect metrics on a per-label basis\n",
        "print(\"\\nFalse positive rate by label:\")\n",
        "for i, rate in enumerate(trainingSummary.falsePositiveRateByLabel):\n",
        "    print(\"label %d: %s\" % (i, rate))\n",
        "\n",
        "print(\"\\nTrue positive rate by label:\")\n",
        "for i, rate in enumerate(trainingSummary.truePositiveRateByLabel):\n",
        "    print(\"label %d: %s\" % (i, rate))\n",
        "\n",
        "print(\"\\nPrecision by label:\")\n",
        "for i, prec in enumerate(trainingSummary.precisionByLabel):\n",
        "    print(\"label %d: %s\" % (i, prec))\n",
        "\n",
        "print(\"\\nRecall by label:\")\n",
        "for i, rec in enumerate(trainingSummary.recallByLabel):\n",
        "    print(\"label %d: %s\" % (i, rec))\n",
        "\n",
        "print(\"\\nF-measure by label:\")\n",
        "for i, f in enumerate(trainingSummary.fMeasureByLabel()):\n",
        "    print(\"label %d: %s\" % (i, f))\n",
        "\n",
        "accuracy = trainingSummary.accuracy\n",
        "falsePositiveRate = trainingSummary.weightedFalsePositiveRate\n",
        "truePositiveRate = trainingSummary.weightedTruePositiveRate\n",
        "fMeasure = trainingSummary.weightedFMeasure()\n",
        "precision = trainingSummary.weightedPrecision\n",
        "recall = trainingSummary.weightedRecall\n",
        "print(\"\\nAccuracy: %s\\n\\nFPR: %s\\n\\nTPR: %s\\n\\nF-measure: %s\\n\\nPrecision: %s\\n\\nRecall: %s\"\n",
        "      % (accuracy, falsePositiveRate, truePositiveRate, fMeasure, precision, recall))"
      ]
    },
    {
      "cell_type": "markdown",
      "id": "caff1e2f-504b-440b-b911-b2c1891f1b02",
      "metadata": {
        "id": "caff1e2f-504b-440b-b911-b2c1891f1b02"
      },
      "source": [
        "## Logistic Regression using TF-IDF Features"
      ]
    },
    {
      "cell_type": "code",
      "execution_count": 27,
      "id": "ba947012-b3be-47f2-a655-24f916b30409",
      "metadata": {
        "id": "ba947012-b3be-47f2-a655-24f916b30409",
        "outputId": "fe5a2b06-c05b-4aeb-b095-f7d74018156d",
        "colab": {
          "base_uri": "https://localhost:8080/"
        }
      },
      "outputs": [
        {
          "output_type": "stream",
          "name": "stdout",
          "text": [
            "+--------+------------------------------+-----+----------+\n",
            "|category|                   probability|label|prediction|\n",
            "+--------+------------------------------+-----+----------+\n",
            "|   Angry|[0.9999999324239114,1.63463...|  0.0|       0.0|\n",
            "| Relaxed|[0.9836629112177724,0.00202...|  3.0|       0.0|\n",
            "|   Angry|[0.9702342613050158,0.00497...|  0.0|       0.0|\n",
            "|   Happy|[0.9460180762755637,0.03676...|  1.0|       0.0|\n",
            "|   Happy|[0.9381898734837107,0.01019...|  1.0|       0.0|\n",
            "|     Sad|[0.9363316141983217,0.03109...|  2.0|       0.0|\n",
            "|     Sad|[0.9356523603185324,0.02694...|  2.0|       0.0|\n",
            "|   Angry|[0.9344038879965207,0.02503...|  0.0|       0.0|\n",
            "|   Happy|[0.9090740540049982,0.07435...|  1.0|       0.0|\n",
            "|     Sad|[0.8996252490286942,0.06735...|  2.0|       0.0|\n",
            "+--------+------------------------------+-----+----------+\n",
            "only showing top 10 rows\n",
            "\n"
          ]
        }
      ],
      "source": [
        "from pyspark.ml.feature import HashingTF, IDF\n",
        "\n",
        "hashingTF = HashingTF(inputCol=\"filtered\", outputCol=\"rawFeatures\", numFeatures=3000)\n",
        "idf = IDF(inputCol=\"rawFeatures\", outputCol=\"features\", minDocFreq=5) #minDocFreq: remove sparse terms\n",
        "pipeline = Pipeline(stages=[regexTokenizer, stopwordsRemover, hashingTF, idf, label_stringIdx])\n",
        "\n",
        "pipelineFit = pipeline.fit(innerJoin)\n",
        "dataset = pipelineFit.transform(innerJoin)\n",
        "\n",
        "(trainingData, testData) = dataset.randomSplit([0.7, 0.3], seed = 100)\n",
        "lr = LogisticRegression(maxIter=20, regParam=0.3, elasticNetParam=0)\n",
        "lrModel = lr.fit(trainingData)\n",
        "\n",
        "predictions = lrModel.transform(testData)\n",
        "\n",
        "predictions.filter(predictions['prediction'] == 0) \\\n",
        "    .select(\"category\",\"probability\",\"label\",\"prediction\") \\\n",
        "    .orderBy(\"probability\", ascending=False) \\\n",
        "    .show(n = 10, truncate = 30)"
      ]
    },
    {
      "cell_type": "code",
      "execution_count": 28,
      "id": "46464208-2c53-4b97-bb8d-c08a782cd3bd",
      "metadata": {
        "id": "46464208-2c53-4b97-bb8d-c08a782cd3bd",
        "outputId": "fbc265a2-701e-4d92-9483-926dbd52c44f",
        "colab": {
          "base_uri": "https://localhost:8080/"
        }
      },
      "outputs": [
        {
          "output_type": "execute_result",
          "data": {
            "text/plain": [
              "0.3929649948669445"
            ]
          },
          "metadata": {},
          "execution_count": 28
        }
      ],
      "source": [
        "evaluator = MulticlassClassificationEvaluator(predictionCol=\"prediction\")\n",
        "evaluator.evaluate(predictions)"
      ]
    },
    {
      "cell_type": "markdown",
      "id": "c4efe0bd-3dcb-40e4-8c2f-733873a11100",
      "metadata": {
        "id": "c4efe0bd-3dcb-40e4-8c2f-733873a11100"
      },
      "source": [
        "## Cross-Validation\n",
        "Let’s now try cross-validation to tune our hyper parameters, and we will only tune the count vectors Logistic Regression."
      ]
    },
    {
      "cell_type": "code",
      "execution_count": 29,
      "id": "64dffd16-ad41-4589-9dba-27cc2bed2e86",
      "metadata": {
        "id": "64dffd16-ad41-4589-9dba-27cc2bed2e86"
      },
      "outputs": [],
      "source": [
        "pipeline = Pipeline(stages=[regexTokenizer, stopwordsRemover, countVectors, label_stringIdx])\n",
        "\n",
        "pipelineFit = pipeline.fit(innerJoin)\n",
        "dataset = pipelineFit.transform(innerJoin)\n",
        "(trainingData, testData) = dataset.randomSplit([0.7, 0.3], seed = 100)\n",
        "\n",
        "lr = LogisticRegression(maxIter=20, regParam=0.3, elasticNetParam=0)"
      ]
    },
    {
      "cell_type": "code",
      "execution_count": 30,
      "id": "10e3b641-57af-4dba-9e4b-0b79fab6057b",
      "metadata": {
        "id": "10e3b641-57af-4dba-9e4b-0b79fab6057b",
        "outputId": "1fca53f5-bb14-4af2-cb05-436610bce3d5",
        "colab": {
          "base_uri": "https://localhost:8080/"
        }
      },
      "outputs": [
        {
          "output_type": "execute_result",
          "data": {
            "text/plain": [
              "0.4164905444567595"
            ]
          },
          "metadata": {},
          "execution_count": 30
        }
      ],
      "source": [
        "from pyspark.ml.tuning import ParamGridBuilder, CrossValidator\n",
        "\n",
        "# Create ParamGrid for Cross Validation\n",
        "paramGrid = (ParamGridBuilder()\n",
        "             .addGrid(lr.regParam, [0.1, 0.3, 0.5]) # regularization parameter\n",
        "             .addGrid(lr.elasticNetParam, [0.0, 0.1, 0.2]) # Elastic Net Parameter (Ridge = 0)\n",
        "#            .addGrid(model.maxIter, [10, 20, 50]) #Number of iterations\n",
        "#            .addGrid(idf.numFeatures, [10, 100, 1000]) # Number of features\n",
        "             .build())\n",
        "\n",
        "# Create 5-fold CrossValidator\n",
        "cv = CrossValidator(estimator=lr, \\\n",
        "                    estimatorParamMaps=paramGrid, \\\n",
        "                    evaluator=evaluator, \\\n",
        "                    numFolds=5)\n",
        "\n",
        "cvModel = cv.fit(trainingData)\n",
        "\n",
        "predictions = cvModel.transform(testData)\n",
        "# Evaluate best model\n",
        "evaluator = MulticlassClassificationEvaluator(predictionCol=\"prediction\")\n",
        "evaluator.evaluate(predictions)\n",
        "#print(\"Test Area Under ROC: \" + str(evaluator.evaluate(predictions, {evaluator.metricName: \"areaUnderROC\"})))"
      ]
    },
    {
      "cell_type": "markdown",
      "id": "e892123e-4eee-4c17-ad24-d01befb7ac56",
      "metadata": {
        "id": "e892123e-4eee-4c17-ad24-d01befb7ac56"
      },
      "source": [
        "## Naive Bayes"
      ]
    },
    {
      "cell_type": "code",
      "execution_count": 31,
      "id": "610fc418-0563-440d-bf9d-87a84f707e67",
      "metadata": {
        "id": "610fc418-0563-440d-bf9d-87a84f707e67",
        "outputId": "faba239f-e5f5-43fc-a35c-2d688b1905e8",
        "colab": {
          "base_uri": "https://localhost:8080/"
        }
      },
      "outputs": [
        {
          "output_type": "stream",
          "name": "stdout",
          "text": [
            "+--------------------------------------------------+----------------------+--------+--------------------------------------------------+-----+----------+\n",
            "|                                             title|                artist|category|                                       probability|label|prediction|\n",
            "+--------------------------------------------------+----------------------+--------+--------------------------------------------------+-----+----------+\n",
            "|                            Good Morning Starshine|Strawberry Alarm Clock|   Angry|[0.9999999999997777,2.1973168406692238E-13,2.39...|  0.0|       0.0|\n",
            "|Objects in the Rear View Mirror May Appear Clos...|             Meat Loaf|   Happy|[0.9999999999981861,1.8137994679118725E-12,8.97...|  1.0|       0.0|\n",
            "|                                    Walking on Air|            Katy Perry|   Angry|[0.9999999999969476,7.973620522011614E-15,3.044...|  0.0|       0.0|\n",
            "|                                       Missing You|                  Case|   Angry|[0.999999999463141,1.2025007577457215E-10,4.166...|  0.0|       0.0|\n",
            "|                           With You In Your Dreams|                Hanson|   Angry|[0.9999999985989632,1.141088400643765E-9,2.5994...|  0.0|       0.0|\n",
            "|                                             Yours|          Mariah Carey|   Angry|[0.9999999954205065,2.1930584781063764E-18,4.57...|  0.0|       0.0|\n",
            "|                                             Truly|         Janet Jackson|   Angry|[0.9999999877016704,1.5367127890559912E-10,1.21...|  0.0|       0.0|\n",
            "|                                       Sleeping In|    The Postal Service|   Angry|[0.9999999618859391,3.6708896394980736E-8,1.405...|  0.0|       0.0|\n",
            "|                                    Hello Stranger|          Julia Holter|   Happy|[0.9999999509065318,1.5022942351109108E-10,4.82...|  1.0|       0.0|\n",
            "|                                      Good Morning|           John Legend|   Angry|[0.9999999410463724,9.331652187426156E-10,5.802...|  0.0|       0.0|\n",
            "+--------------------------------------------------+----------------------+--------+--------------------------------------------------+-----+----------+\n",
            "only showing top 10 rows\n",
            "\n"
          ]
        }
      ],
      "source": [
        "from pyspark.ml.classification import NaiveBayes\n",
        "nb = NaiveBayes(smoothing=1)\n",
        "nbModel = nb.fit(trainingData)\n",
        "predictions = nbModel.transform(testData)\n",
        "predictions.filter(predictions['prediction'] == 0) \\\n",
        "    .select(\"title\",\"artist\", \"category\",\"probability\",\"label\",\"prediction\") \\\n",
        "    .orderBy(\"probability\", ascending=False) \\\n",
        "    .show(n = 10, truncate = 50)\n",
        "\n",
        "predictions.toPandas().to_csv('/content/sample_datanaiveBayes.csv', index=False)\n"
      ]
    },
    {
      "cell_type": "code",
      "execution_count": 32,
      "id": "c58fd21c-66fb-4894-aae2-9aad83314f93",
      "metadata": {
        "id": "c58fd21c-66fb-4894-aae2-9aad83314f93",
        "outputId": "58c51581-c70e-4ed7-ecc7-b20178f9f3b3",
        "colab": {
          "base_uri": "https://localhost:8080/"
        }
      },
      "outputs": [
        {
          "output_type": "stream",
          "name": "stdout",
          "text": [
            "0.43588967426469355\n"
          ]
        }
      ],
      "source": [
        "evaluator = MulticlassClassificationEvaluator(predictionCol=\"prediction\")\n",
        "nbAccuracy = evaluator.evaluate(predictions)\n",
        "print(nbAccuracy)"
      ]
    },
    {
      "cell_type": "markdown",
      "id": "636bd2e4-2f5d-4cde-bcee-567e96396419",
      "metadata": {
        "id": "636bd2e4-2f5d-4cde-bcee-567e96396419"
      },
      "source": [
        "## DecisionTreeClassifier"
      ]
    },
    {
      "cell_type": "code",
      "execution_count": 33,
      "id": "d888056c-610b-4e3f-a710-0410011da8c3",
      "metadata": {
        "id": "d888056c-610b-4e3f-a710-0410011da8c3",
        "outputId": "113b2d1d-19a4-41ee-fc75-94c4c40aaeb2",
        "colab": {
          "base_uri": "https://localhost:8080/"
        }
      },
      "outputs": [
        {
          "output_type": "stream",
          "name": "stdout",
          "text": [
            "+----------------+----------------+--------+------------------------------+-----+----------+\n",
            "|           title|          artist|category|                   probability|label|prediction|\n",
            "+----------------+----------------+--------+------------------------------+-----+----------+\n",
            "|  Amaze Disgrace|               3|   Angry|[0.4969512195121951,0.20846...|  0.0|       0.0|\n",
            "|Abandon All Hope|      Aesop Rock|   Happy|[0.4969512195121951,0.20846...|  1.0|       0.0|\n",
            "|    All Mixed Up|             311|   Angry|[0.4969512195121951,0.20846...|  0.0|       0.0|\n",
            "|  Electric Twist|   A Fine Frenzy|   Angry|[0.4969512195121951,0.20846...|  0.0|       0.0|\n",
            "|             Pet|A Perfect Circle| Relaxed|[0.4969512195121951,0.20846...|  3.0|       0.0|\n",
            "| Channel Swimmer|            10cc|   Angry|[0.4969512195121951,0.20846...|  0.0|       0.0|\n",
            "|           Smile|             AFI|   Happy|[0.4969512195121951,0.20846...|  1.0|       0.0|\n",
            "|   Double Vision|           3OH!3|     Sad|[0.4969512195121951,0.20846...|  2.0|       0.0|\n",
            "| Yürf Rendenmein|             AFI| Relaxed|[0.4969512195121951,0.20846...|  3.0|       0.0|\n",
            "|     Hey Darling|     Ace of Base| Relaxed|[0.4969512195121951,0.20846...|  3.0|       0.0|\n",
            "+----------------+----------------+--------+------------------------------+-----+----------+\n",
            "only showing top 10 rows\n",
            "\n"
          ]
        }
      ],
      "source": [
        "from pyspark.ml.classification import DecisionTreeClassifier\n",
        "dt = DecisionTreeClassifier(featuresCol = 'features', labelCol = 'label', maxDepth = 3)\n",
        "dtModel = dt.fit(trainingData)\n",
        "predictions = dtModel.transform(testData)\n",
        "predictions.filter(predictions['prediction'] == 0) \\\n",
        "    .select(\"title\",\"artist\",\"category\",\"probability\",\"label\",\"prediction\") \\\n",
        "    .orderBy(\"probability\", ascending=False) \\\n",
        "    .show(n = 10, truncate = 30)"
      ]
    },
    {
      "cell_type": "code",
      "execution_count": 34,
      "id": "7dcfb0f9-29d8-4efb-848a-e44ac2276ffa",
      "metadata": {
        "id": "7dcfb0f9-29d8-4efb-848a-e44ac2276ffa",
        "outputId": "66f866db-d963-4e42-83ab-cb1921f31aea",
        "colab": {
          "base_uri": "https://localhost:8080/"
        }
      },
      "outputs": [
        {
          "output_type": "stream",
          "name": "stdout",
          "text": [
            "0.33605372623859264\n"
          ]
        }
      ],
      "source": [
        "evaluator = MulticlassClassificationEvaluator(predictionCol=\"prediction\")\n",
        "dtAccuracy = evaluator.evaluate(predictions)\n",
        "print(dtAccuracy)"
      ]
    },
    {
      "cell_type": "markdown",
      "id": "07d61773-fcba-41b7-ae7e-fa4a57bd90a8",
      "metadata": {
        "id": "07d61773-fcba-41b7-ae7e-fa4a57bd90a8"
      },
      "source": [
        "## Random Forest"
      ]
    },
    {
      "cell_type": "code",
      "execution_count": 35,
      "id": "89e77b12-f0d1-430c-8b4b-e1ff5a2b5d6b",
      "metadata": {
        "id": "89e77b12-f0d1-430c-8b4b-e1ff5a2b5d6b",
        "outputId": "20c59ca9-fb49-4cb4-9c82-17c9dea4bafa",
        "colab": {
          "base_uri": "https://localhost:8080/"
        }
      },
      "outputs": [
        {
          "output_type": "stream",
          "name": "stdout",
          "text": [
            "+------------------------------+--------+------------------------------+-----+----------+\n",
            "|                      filtered|category|                   probability|label|prediction|\n",
            "+------------------------------+--------+------------------------------+-----+----------+\n",
            "|[go, away, summer, day, mig...|   Happy|[0.48278731320202256,0.2551...|  1.0|       0.0|\n",
            "|[sleep, dream, keeping, mem...|   Happy|[0.482631207770496,0.251503...|  1.0|       0.0|\n",
            "|[come, closer, tonight, lon...|   Happy|[0.4825643059383297,0.25116...|  1.0|       0.0|\n",
            "|[bottles, breaking, face, r...|   Happy|[0.4825498343197216,0.26012...|  1.0|       0.0|\n",
            "|[way, way, way, way, way, w...|   Angry|[0.48164715984847284,0.2543...|  0.0|       0.0|\n",
            "|[know, know, late, sorrys, ...|   Happy|[0.4804098215427608,0.25014...|  1.0|       0.0|\n",
            "|[listen, sing, song, time, ...|   Happy|[0.47995086238859375,0.2530...|  1.0|       0.0|\n",
            "|[baby, beluga, deep, blue, ...|     Sad|[0.4798728970589461,0.25527...|  2.0|       0.0|\n",
            "|[l, na, mara, l, na, mara, ...|   Angry|[0.4791723774678674,0.25823...|  0.0|       0.0|\n",
            "|[sailing, sailing, sea, bab...|     Sad|[0.479078737761364,0.254658...|  2.0|       0.0|\n",
            "+------------------------------+--------+------------------------------+-----+----------+\n",
            "only showing top 10 rows\n",
            "\n"
          ]
        }
      ],
      "source": [
        "from pyspark.ml.classification import RandomForestClassifier\n",
        "rf = RandomForestClassifier(labelCol=\"label\", \\\n",
        "                            featuresCol=\"features\", \\\n",
        "                            numTrees = 100, \\\n",
        "                            maxDepth = 4, \\\n",
        "                            maxBins = 32)\n",
        "# Train model with Training Data\n",
        "rfModel = rf.fit(trainingData)\n",
        "predictions = rfModel.transform(testData)\n",
        "predictions.filter(predictions['prediction'] == 0) \\\n",
        "    .select(\"filtered\",\"category\",\"probability\",\"label\",\"prediction\") \\\n",
        "    .orderBy(\"probability\", ascending=False) \\\n",
        "    .show(n = 10, truncate = 30)"
      ]
    },
    {
      "cell_type": "code",
      "execution_count": 36,
      "id": "c25bc498-d8c9-4fdb-b711-5ef1731b367d",
      "metadata": {
        "id": "c25bc498-d8c9-4fdb-b711-5ef1731b367d",
        "outputId": "0ee03c34-21e4-40b4-8677-8e722c244560",
        "colab": {
          "base_uri": "https://localhost:8080/"
        }
      },
      "outputs": [
        {
          "output_type": "stream",
          "name": "stdout",
          "text": [
            "0.30228073087273916\n"
          ]
        }
      ],
      "source": [
        "evaluator = MulticlassClassificationEvaluator(predictionCol=\"prediction\")\n",
        "rfAccuracy = evaluator.evaluate(predictions)\n",
        "print(rfAccuracy)"
      ]
    },
    {
      "cell_type": "markdown",
      "id": "562d895b-ebc1-41a7-8a96-9abaa9d2d3ac",
      "metadata": {
        "id": "562d895b-ebc1-41a7-8a96-9abaa9d2d3ac"
      },
      "source": [
        "## OnevsRest classifer"
      ]
    },
    {
      "cell_type": "code",
      "execution_count": 37,
      "id": "791f3b84-0a07-48ec-b673-32c0ff92b9b7",
      "metadata": {
        "id": "791f3b84-0a07-48ec-b673-32c0ff92b9b7",
        "outputId": "666b5f7a-c7a9-414a-8584-1f89fc585917",
        "colab": {
          "base_uri": "https://localhost:8080/"
        }
      },
      "outputs": [
        {
          "output_type": "stream",
          "name": "stdout",
          "text": [
            "+------------------------------+--------+-----+----------+\n",
            "|                      filtered|category|label|prediction|\n",
            "+------------------------------+--------+-----+----------+\n",
            "|[think, help, wonder, yeste...|   Happy|  1.0|       0.0|\n",
            "|[saw, came, evening, sighs,...|   Angry|  0.0|       0.0|\n",
            "|[another, page, history, an...|   Angry|  0.0|       0.0|\n",
            "|[remember, dessert, places,...|   Happy|  1.0|       0.0|\n",
            "|[history, bluest, grace, fa...|   Angry|  0.0|       0.0|\n",
            "|[digging, deeper, mind, get...|   Angry|  0.0|       0.0|\n",
            "|[buck, drew, gustafson, aug...|   Happy|  1.0|       0.0|\n",
            "|[well, cold, water, cold, s...|   Angry|  0.0|       0.0|\n",
            "|[desert, landscape, continu...| Relaxed|  3.0|       0.0|\n",
            "|[devolving, backwards, glor...|   Happy|  1.0|       0.0|\n",
            "+------------------------------+--------+-----+----------+\n",
            "only showing top 10 rows\n",
            "\n"
          ]
        }
      ],
      "source": [
        "from pyspark.ml.classification import LogisticRegression, OneVsRest\n",
        "\n",
        "lr = LogisticRegression(maxIter=20, regParam=0.3, elasticNetParam=0)\n",
        "\n",
        "ovr = OneVsRest(classifier=lr)\n",
        "\n",
        "ovrModel = ovr.fit(trainingData)\n",
        "\n",
        "# score the model on test data.\n",
        "predictions = ovrModel.transform(testData)\n",
        "\n",
        "predictions.filter(predictions['prediction'] == 0) \\\n",
        "    .select(\"filtered\",\"category\",\"label\",\"prediction\") \\\n",
        "    .show(n = 10, truncate = 30)"
      ]
    },
    {
      "cell_type": "code",
      "execution_count": 38,
      "id": "cb7a2e14-0734-4ace-a9c9-b708ef8dc275",
      "metadata": {
        "id": "cb7a2e14-0734-4ace-a9c9-b708ef8dc275",
        "outputId": "a871e9a1-6ba6-4cd7-c130-f600a37a17d9",
        "colab": {
          "base_uri": "https://localhost:8080/"
        }
      },
      "outputs": [
        {
          "output_type": "stream",
          "name": "stdout",
          "text": [
            "0.3801809199123637\n"
          ]
        }
      ],
      "source": [
        "evaluator = MulticlassClassificationEvaluator(predictionCol=\"prediction\")\n",
        "ovrAccuracy = evaluator.evaluate(predictions)\n",
        "print(ovrAccuracy)"
      ]
    },
    {
      "cell_type": "markdown",
      "id": "82ca4712-3e25-47be-84aa-c0ae1598c6c3",
      "metadata": {
        "id": "82ca4712-3e25-47be-84aa-c0ae1598c6c3"
      },
      "source": [
        "## Visualization"
      ]
    },
    {
      "cell_type": "code",
      "execution_count": 39,
      "id": "5a755f5b-2880-496f-9660-58d5935f7331",
      "metadata": {
        "id": "5a755f5b-2880-496f-9660-58d5935f7331"
      },
      "outputs": [],
      "source": [
        "import matplotlib.pyplot as plt\n",
        "import numpy as np\n",
        "model = ['Logistic regression', 'Naive Bayes', 'Random Forest', 'OneVsRest']\n",
        "accuracy = [lrAccuracy,nbAccuracy,rfAccuracy, ovrAccuracy]"
      ]
    },
    {
      "cell_type": "code",
      "execution_count": 40,
      "id": "47be5f86-f78a-4326-8386-e74fae4e7058",
      "metadata": {
        "id": "47be5f86-f78a-4326-8386-e74fae4e7058",
        "outputId": "8923a6a8-0ee2-4413-e59a-d0878f45b6a3",
        "colab": {
          "base_uri": "https://localhost:8080/",
          "height": 535
        }
      },
      "outputs": [
        {
          "output_type": "display_data",
          "data": {
            "text/plain": [
              "<Figure size 640x480 with 1 Axes>"
            ],
            "image/png": "[encoded data removed]"
          },
          "metadata": {}
        }
      ],
      "source": [
        "def plot_bar_x():\n",
        "    # this is for plotting purpose\n",
        "    index = np.arange(len(model))\n",
        "    plt.bar(index, accuracy)\n",
        "    plt.xlabel('models', fontsize=10)\n",
        "    plt.ylabel('prediction accuracy', fontsize=10)\n",
        "    plt.xticks(index, model, fontsize=10, rotation=30)\n",
        "    plt.title('Accuracy of each model')\n",
        "    plt.show()\n",
        "\n",
        "plot_bar_x()"
      ]
    }
  ],
  "metadata": {
    "kernelspec": {
      "display_name": "Python 3 (ipykernel)",
      "language": "python",
      "name": "python3"
    },
    "language_info": {
      "codemirror_mode": {
        "name": "ipython",
        "version": 3
      },
      "file_extension": ".py",
      "mimetype": "text/x-python",
      "name": "python",
      "nbconvert_exporter": "python",
      "pygments_lexer": "ipython3",
      "version": "3.10.12"
    },
    "colab": {
      "provenance": []
    }
  },
  "nbformat": 4,
  "nbformat_minor": 5
}