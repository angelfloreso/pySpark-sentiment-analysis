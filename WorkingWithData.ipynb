{
  "cells": [
    {
      "cell_type": "markdown",
      "id": "c790a9d2-6f34-4096-8ff0-7599d8c173c7",
      "metadata": {
        "id": "c790a9d2-6f34-4096-8ff0-7599d8c173c7"
      },
      "source": [
        "# Lyrics sentiment analysis and prediction using pyspark\n",
        "\n",
        "\n",
        "\n",
        "This notebook file reads 2 CSV files, one with Songs lyricss and other with Songs classified by sentiments\n"
      ]
    },
    {
      "cell_type": "code",
      "execution_count": 1,
      "id": "zenMxQCystW2",
      "metadata": {
        "colab": {
          "base_uri": "https://localhost:8080/"
        },
        "id": "zenMxQCystW2",
        "outputId": "4bccec17-a7a8-4f6d-ddfd-32aec5cccc70"
      },
      "outputs": [
        {
          "name": "stdout",
          "output_type": "stream",
          "text": [
            "Downloading...\n",
            "From: https://drive.google.com/uc?id=17Sc5B6-946GusvQB6O8nLXmFrnBbQ1Xg\n",
            "To: /content/sample_data/completes.csv\n",
            "100% 35.7M/35.7M [00:00<00:00, 43.0MB/s]\n"
          ]
        }
      ],
      "source": [
        "!gdown 17Sc5B6-946GusvQB6O8nLXmFrnBbQ1Xg -O /content/sample_data/completes.csv\n",
        "#https://drive.google.com/file/d/17Sc5B6-946GusvQB6O8nLXmFrnBbQ1Xg/view?usp=sharing\n"
      ]
    },
    {
      "cell_type": "markdown",
      "id": "8a9b071c-019f-43a6-88ed-e25fe37bfa30",
      "metadata": {
        "id": "8a9b071c-019f-43a6-88ed-e25fe37bfa30"
      },
      "source": [
        "## Adding dependencies"
      ]
    },
    {
      "cell_type": "code",
      "execution_count": 2,
      "id": "FJcMzdrus7n1",
      "metadata": {
        "colab": {
          "base_uri": "https://localhost:8080/"
        },
        "id": "FJcMzdrus7n1",
        "outputId": "19ce0477-4151-4c41-f44f-a47f4295007e"
      },
      "outputs": [
        {
          "name": "stdout",
          "output_type": "stream",
          "text": [
            "Requirement already satisfied: pyspark in /usr/local/lib/python3.10/dist-packages (3.5.1)\n",
            "Requirement already satisfied: py4j==0.10.9.7 in /usr/local/lib/python3.10/dist-packages (from pyspark) (0.10.9.7)\n"
          ]
        }
      ],
      "source": [
        "!pip install pyspark"
      ]
    },
    {
      "cell_type": "code",
      "execution_count": 3,
      "id": "3ab0c1a8-17a4-4f93-bdd8-f77cb2fc58ff",
      "metadata": {
        "id": "3ab0c1a8-17a4-4f93-bdd8-f77cb2fc58ff"
      },
      "outputs": [],
      "source": [
        "import math\n",
        "import pandas as pd\n",
        "import numpy as np\n",
        "import pyspark.sql.functions as F\n",
        "from pyspark.sql import SQLContext\n",
        "from IPython import display\n",
        "from pyspark.sql import SQLContext\n",
        "from pyspark import SparkContext\n",
        "from pyspark.sql.types import *\n",
        "from pyspark.sql import SparkSession"
      ]
    },
    {
      "cell_type": "markdown",
      "id": "15b9c3fb-b83e-452d-9603-c1e492efbe31",
      "metadata": {
        "id": "15b9c3fb-b83e-452d-9603-c1e492efbe31"
      },
      "source": [
        "## Creating Spark context"
      ]
    },
    {
      "cell_type": "code",
      "execution_count": 4,
      "id": "89e8a771-dad5-48c7-8697-21486f286c8f",
      "metadata": {
        "colab": {
          "base_uri": "https://localhost:8080/"
        },
        "id": "89e8a771-dad5-48c7-8697-21486f286c8f",
        "outputId": "4a393853-41e6-45be-87ec-a15407975001"
      },
      "outputs": [
        {
          "name": "stderr",
          "output_type": "stream",
          "text": [
            "/usr/local/lib/python3.10/dist-packages/pyspark/sql/context.py:113: FutureWarning: Deprecated in 3.0.0. Use SparkSession.builder.getOrCreate() instead.\n",
            "  warnings.warn(\n"
          ]
        },
        {
          "data": {
            "text/plain": [
              "[('spark.driver.port', '39583'),\n",
              " ('spark.driver.extraJavaOptions',\n",
              "  '-Djava.net.preferIPv6Addresses=false -XX:+IgnoreUnrecognizedVMOptions --add-opens=java.base/java.lang=ALL-UNNAMED --add-opens=java.base/java.lang.invoke=ALL-UNNAMED --add-opens=java.base/java.lang.reflect=ALL-UNNAMED --add-opens=java.base/java.io=ALL-UNNAMED --add-opens=java.base/java.net=ALL-UNNAMED --add-opens=java.base/java.nio=ALL-UNNAMED --add-opens=java.base/java.util=ALL-UNNAMED --add-opens=java.base/java.util.concurrent=ALL-UNNAMED --add-opens=java.base/java.util.concurrent.atomic=ALL-UNNAMED --add-opens=java.base/jdk.internal.ref=ALL-UNNAMED --add-opens=java.base/sun.nio.ch=ALL-UNNAMED --add-opens=java.base/sun.nio.cs=ALL-UNNAMED --add-opens=java.base/sun.security.action=ALL-UNNAMED --add-opens=java.base/sun.util.calendar=ALL-UNNAMED --add-opens=java.security.jgss/sun.security.krb5=ALL-UNNAMED -Djdk.reflect.useDirectMethodHandle=false'),\n",
              " ('spark.driver.host', '62cd3da346e3'),\n",
              " ('spark.app.name', 'test'),\n",
              " ('spark.app.startTime', '1717451226013'),\n",
              " ('spark.memory.offHeap.size', '2g'),\n",
              " ('spark.executor.memory', '5g'),\n",
              " ('spark.executor.id', 'driver'),\n",
              " ('spark.driver.memory', '5g'),\n",
              " ('spark.memory.offHeap.enabled', 'true'),\n",
              " ('spark.app.submitTime', '1717451225099'),\n",
              " ('spark.rdd.compress', 'True'),\n",
              " ('spark.executor.extraJavaOptions',\n",
              "  '-Djava.net.preferIPv6Addresses=false -XX:+IgnoreUnrecognizedVMOptions --add-opens=java.base/java.lang=ALL-UNNAMED --add-opens=java.base/java.lang.invoke=ALL-UNNAMED --add-opens=java.base/java.lang.reflect=ALL-UNNAMED --add-opens=java.base/java.io=ALL-UNNAMED --add-opens=java.base/java.net=ALL-UNNAMED --add-opens=java.base/java.nio=ALL-UNNAMED --add-opens=java.base/java.util=ALL-UNNAMED --add-opens=java.base/java.util.concurrent=ALL-UNNAMED --add-opens=java.base/java.util.concurrent.atomic=ALL-UNNAMED --add-opens=java.base/jdk.internal.ref=ALL-UNNAMED --add-opens=java.base/sun.nio.ch=ALL-UNNAMED --add-opens=java.base/sun.nio.cs=ALL-UNNAMED --add-opens=java.base/sun.security.action=ALL-UNNAMED --add-opens=java.base/sun.util.calendar=ALL-UNNAMED --add-opens=java.security.jgss/sun.security.krb5=ALL-UNNAMED -Djdk.reflect.useDirectMethodHandle=false'),\n",
              " ('spark.app.id', 'local-1717451230641'),\n",
              " ('spark.serializer.objectStreamReset', '100'),\n",
              " ('spark.master', 'local[*]'),\n",
              " ('spark.submit.pyFiles', ''),\n",
              " ('spark.submit.deployMode', 'client'),\n",
              " ('spark.ui.showConsoleProgress', 'true')]"
            ]
          },
          "execution_count": 4,
          "metadata": {},
          "output_type": "execute_result"
        }
      ],
      "source": [
        "spark = SparkSession.builder \\\n",
        "        .master(\"local[*]\") \\\n",
        "        .appName(\"test\") \\\n",
        "        .config(\"spark.driver.memory\", \"5g\")\\\n",
        "        .config(\"spark.executor.memory\", \"5g\")\\\n",
        "        .config(\"spark.memory.offHeap.enabled\", True)\\\n",
        "        .config(\"spark.memory.offHeap.size\",\"2g\")\\\n",
        "        .getOrCreate()\n",
        "sc = spark.sparkContext\n",
        "sqlContext = SQLContext(sc)\n",
        "\n",
        "spark.sparkContext._conf.getAll()  # check the config"
      ]
    },
    {
      "cell_type": "markdown",
      "id": "93ad9eb8-ed43-48bf-af44-d6a6bf178318",
      "metadata": {
        "id": "93ad9eb8-ed43-48bf-af44-d6a6bf178318"
      },
      "source": [
        "## Creating Schema for Emotions file"
      ]
    },
    {
      "cell_type": "code",
      "execution_count": 5,
      "id": "4d7b3215-42f6-4f17-9205-d28a090df734",
      "metadata": {
        "id": "4d7b3215-42f6-4f17-9205-d28a090df734"
      },
      "outputs": [],
      "source": [
        "shcemaOutput = StructType([\n",
        "    StructField(\"artist\", StringType()),\n",
        "    StructField(\"title\", StringType()),\n",
        "    StructField(\"seeds\", StringType()),\n",
        "    StructField(\"number_of_emotion_tags\", StringType()),\n",
        "    StructField(\"valence_tags\", StringType()),\n",
        "    StructField(\"arousal_tags\", StringType()),\n",
        "    StructField(\"dominance_tags\", StringType()),\n",
        "    StructField(\"genre\", StringType()),\n",
        "    StructField(\"year\", StringType()),\n",
        "    StructField(\"lyrics\", StringType())\n",
        "])"
      ]
    },
    {
      "cell_type": "markdown",
      "id": "7054ee13-fd92-44d7-a2e5-36e15f2ae7b9",
      "metadata": {
        "id": "7054ee13-fd92-44d7-a2e5-36e15f2ae7b9"
      },
      "source": [
        "## Definition of files"
      ]
    },
    {
      "cell_type": "code",
      "execution_count": 6,
      "id": "57db7cd5-a0c0-4a66-90d5-cc6b921a05e4",
      "metadata": {
        "id": "57db7cd5-a0c0-4a66-90d5-cc6b921a05e4"
      },
      "outputs": [],
      "source": [
        "#song_lyrics.csv file contains 3093218 songs data\n",
        "outputFile = '/content/sample_data/completes.csv'"
      ]
    },
    {
      "cell_type": "markdown",
      "id": "4fcfcd01-a8ef-4bc0-af31-30eb8c18b030",
      "metadata": {
        "id": "4fcfcd01-a8ef-4bc0-af31-30eb8c18b030"
      },
      "source": [
        "Reading CSV files for Emotions and Lyrics"
      ]
    },
    {
      "cell_type": "code",
      "execution_count": 7,
      "id": "e9f8990b-49c6-4c70-8e54-6ed42131413e",
      "metadata": {
        "id": "e9f8990b-49c6-4c70-8e54-6ed42131413e"
      },
      "outputs": [],
      "source": [
        "innerJoin = sqlContext.read.format(\"csv\").option(\"ignoreLeadingWhiteSpace\", \"true\").option(\"multiline\", \"true\").option('quote','\"').option('escape', '\"').option(\"header\", \"true\").schema(shcemaOutput).load(outputFile)#.limit(10000)"
      ]
    },
    {
      "cell_type": "markdown",
      "id": "2bc33c8b-efe8-4571-ad04-755ec8aec40d",
      "metadata": {
        "id": "2bc33c8b-efe8-4571-ad04-755ec8aec40d"
      },
      "source": [
        "## Preparing Data and new columns"
      ]
    },
    {
      "cell_type": "code",
      "execution_count": 8,
      "id": "fc24aa33-0176-418a-b38d-63719e7e8563",
      "metadata": {
        "colab": {
          "base_uri": "https://localhost:8080/"
        },
        "id": "fc24aa33-0176-418a-b38d-63719e7e8563",
        "outputId": "82558027-2264-4b4d-c6d1-b746c6119be3"
      },
      "outputs": [
        {
          "name": "stdout",
          "output_type": "stream",
          "text": [
            "+----------+----------+----------+----------------------+------------+------------+--------------+----------+----+----------+\n",
            "|    artist|     title|     seeds|number_of_emotion_tags|valence_tags|arousal_tags|dominance_tags|     genre|year|    lyrics|\n",
            "+----------+----------+----------+----------------------+------------+------------+--------------+----------+----+----------+\n",
            "|   Afroman|      Hush|['posit...|                     1|        7.57|         5.5|          7.26|   hip-hop|2000|[Hook] ...|\n",
            "|Aimee Mann|    You Do|['smooth']|                    15|  5.51230...|  3.25753...|    5.47857...|singer-...|1999|[Verse ...|\n",
            "|Air Supply|Even th...|['roman...|                     4|  7.42000...|      4.9625|    5.91166...| soft rock|1982|I, I wa...|\n",
            "|Alice C...|      DaDa|['spooky']|                     1|         4.4|         6.0|          4.48|classic...|1983|Da Da\\n...|\n",
            "|Alicia ...|     Diary|['smooth']|                    14|  6.61333...|  3.94787...|    5.95272...|      soul|2004|[Verse ...|\n",
            "|Alina B...|     Can I|  ['lush']|                     1|        6.48|        4.24|          5.79| downtempo|2015|[Verse ...|\n",
            "|Alina B...|    Unfold|  ['lush']|                     4|       6.195|       4.595|        5.6125|electronic|2015|[Verse ...|\n",
            "|Alkalin...| Your Neck|  ['dark']|                     1|        5.08|        4.09|          4.61|      punk|2005|[Chorus...|\n",
            "|Amelia ...|Tiny Gl...|['intim...|                     3|  4.85666...|  4.41333...|          4.69|      folk|2009|There's...|\n",
            "|  Anathema| Harmonium|['atmos...|                     8|  5.00391...|  3.84086...|    4.75695...|progres...|2003|[Intro]...|\n",
            "|  Anathema| Judgement|['atmos...|                    14|  5.35265...|  4.40224...|    4.90387...|doom metal|1999|The ine...|\n",
            "|Andrew ...|A Nervo...|['mellow']|                    18|  6.63926...|  4.35882...|    6.15029...|     indie|2005|[Intro]...|\n",
            "|Andrew ...|Not Goi...| ['manic']|                     1|        4.19|        4.55|          3.63|      rock|2006|Are you...|\n",
            "|Andrew ...|Party P...| ['hyper']|                     2|        6.15|        5.16|         5.185|      rock|2006|Well, P...|\n",
            "|Animal ...|Leaf House|['trippy']|                     7|  4.34066...|  3.04366...|    3.69233...|experim...|2004|This ho...|\n",
            "|Anita L...|Such a ...|['senti...|                     2|       3.135|       1.475|         3.365|      rock|2015|It's su...|\n",
            "|Anthony...|God If ...|['pasto...|                     4|        4.65|  2.19333...|    4.08666...|progres...|1977|\"Rest y...|\n",
            "|  Aqualung|You Tur...|  ['cold']|                     5|        6.76|      3.9075|        6.2075|     indie|2003|The end...|\n",
            "|   Archive|      Fold| ['quiet']|                     9|  4.53795...|  3.66272...|    4.54022...|alterna...|2006|I've be...|\n",
            "|  Ari Hest|Dead En...|['gentl...|                     4|       6.856|       3.144|         6.248|     indie|2009|Dead en...|\n",
            "+----------+----------+----------+----------------------+------------+------------+--------------+----------+----+----------+\n",
            "only showing top 20 rows\n",
            "\n"
          ]
        },
        {
          "data": {
            "text/plain": [
              "27349"
            ]
          },
          "execution_count": 8,
          "metadata": {},
          "output_type": "execute_result"
        }
      ],
      "source": [
        "innerJoin.show(truncate = 10)\n",
        "innerJoin.count()"
      ]
    },
    {
      "cell_type": "code",
      "execution_count": 9,
      "id": "bb7c4096-06ac-493c-87ac-a62bd5a1b4db",
      "metadata": {
        "id": "bb7c4096-06ac-493c-87ac-a62bd5a1b4db"
      },
      "outputs": [],
      "source": [
        "innerJoin = innerJoin.withColumn(\"valence_tags\", \\\n",
        "                     F.when(innerJoin.valence_tags.between(0, 4), 0)\\\n",
        "                     #.otherwise(F.when(innerJoin.valence_tags.between(2, 4), 1)\\\n",
        "                     #  .otherwise(F.when(innerJoin.valence_tags.between(4, 6), 2)\\\n",
        "                         .otherwise(F.when(innerJoin.valence_tags > 4, 1)))"
      ]
    },
    {
      "cell_type": "code",
      "execution_count": 10,
      "id": "cc99a06e-e8e9-46ca-a4be-191bce31fd2e",
      "metadata": {
        "id": "cc99a06e-e8e9-46ca-a4be-191bce31fd2e"
      },
      "outputs": [],
      "source": [
        "innerJoin = innerJoin.withColumn(\"arousal_tags\", \\\n",
        "                     F.when(innerJoin.arousal_tags.between(0, 4), 0)\\\n",
        "                     #.otherwise(F.when(innerJoin.arousal_tags.between(2, 4), 1)\\\n",
        "                     #  .otherwise(F.when(innerJoin.arousal_tags.between(4, 6), 2)\\\n",
        "                         .otherwise(F.when(innerJoin.arousal_tags  > 4, 1)))"
      ]
    },
    {
      "cell_type": "code",
      "execution_count": 11,
      "id": "167bf00f-940d-4a24-a449-3da497c3f0d2",
      "metadata": {
        "id": "167bf00f-940d-4a24-a449-3da497c3f0d2"
      },
      "outputs": [],
      "source": [
        "innerJoin = innerJoin.withColumn(\"dominance_tags\", \\\n",
        "                     F.when(innerJoin.dominance_tags.between(0, 2), 0)\\\n",
        "                     .otherwise(F.when(innerJoin.dominance_tags.between(2, 4), 1)\\\n",
        "                       .otherwise(F.when(innerJoin.dominance_tags.between(4, 6), 2)\\\n",
        "                         .otherwise(F.when(innerJoin.dominance_tags  > 6, 3)))))"
      ]
    },
    {
      "cell_type": "code",
      "execution_count": 12,
      "id": "da5a64ef-e8da-4eee-8774-166b44ffdff8",
      "metadata": {
        "id": "da5a64ef-e8da-4eee-8774-166b44ffdff8"
      },
      "outputs": [],
      "source": [
        "categories = {'00':'Happy', '10':'Angry', '01':'Relaxed', '11':'Sad'}\n",
        "\n",
        "innerJoin = innerJoin.withColumn('category', F.concat(F.col(\"valence_tags\"), F.col('arousal_tags')))\n",
        "innerJoin = innerJoin.replace(to_replace=categories, subset=['category'])"
      ]
    },
    {
      "cell_type": "code",
      "execution_count": 13,
      "id": "b6397a5d-2d59-4f05-b883-f485cfb663ea",
      "metadata": {
        "colab": {
          "base_uri": "https://localhost:8080/"
        },
        "id": "b6397a5d-2d59-4f05-b883-f485cfb663ea",
        "outputId": "1dfa0224-027c-4ca8-c18d-4f634e199ba5"
      },
      "outputs": [
        {
          "name": "stdout",
          "output_type": "stream",
          "text": [
            "+----------+----------+----------+----------------------+------------+------------+--------------+----------+----+----------+--------+\n",
            "|    artist|     title|     seeds|number_of_emotion_tags|valence_tags|arousal_tags|dominance_tags|     genre|year|    lyrics|category|\n",
            "+----------+----------+----------+----------------------+------------+------------+--------------+----------+----+----------+--------+\n",
            "|   Afroman|      Hush|['posit...|                     1|           1|           1|             3|   hip-hop|2000|[Hook] ...|     Sad|\n",
            "|Aimee Mann|    You Do|['smooth']|                    15|           1|           0|             2|singer-...|1999|[Verse ...|   Angry|\n",
            "|Air Supply|Even th...|['roman...|                     4|           1|           0|             2| soft rock|1982|I, I wa...|   Angry|\n",
            "|Alice C...|      DaDa|['spooky']|                     1|           0|           1|             1|classic...|1983|Da Da\\n...| Relaxed|\n",
            "|Alicia ...|     Diary|['smooth']|                    14|           1|           0|             2|      soul|2004|[Verse ...|   Angry|\n",
            "|Alina B...|     Can I|  ['lush']|                     1|           1|           0|             2| downtempo|2015|[Verse ...|   Angry|\n",
            "|Alina B...|    Unfold|  ['lush']|                     4|           1|           0|             2|electronic|2015|[Verse ...|   Angry|\n",
            "|Alkalin...| Your Neck|  ['dark']|                     1|           1|           0|             1|      punk|2005|[Chorus...|   Angry|\n",
            "|Amelia ...|Tiny Gl...|['intim...|                     3|           0|           0|             1|      folk|2009|There's...|   Happy|\n",
            "|  Anathema| Harmonium|['atmos...|                     8|           1|           0|             1|progres...|2003|[Intro]...|   Angry|\n",
            "|  Anathema| Judgement|['atmos...|                    14|           1|           0|             1|doom metal|1999|The ine...|   Angry|\n",
            "|Andrew ...|A Nervo...|['mellow']|                    18|           1|           0|             2|     indie|2005|[Intro]...|   Angry|\n",
            "|Andrew ...|Not Goi...| ['manic']|                     1|           0|           0|             1|      rock|2006|Are you...|   Happy|\n",
            "|Andrew ...|Party P...| ['hyper']|                     2|           1|           1|             2|      rock|2006|Well, P...|     Sad|\n",
            "|Animal ...|Leaf House|['trippy']|                     7|           0|           0|             1|experim...|2004|This ho...|   Happy|\n",
            "|Anita L...|Such a ...|['senti...|                     2|           0|           0|             1|      rock|2015|It's su...|   Happy|\n",
            "|Anthony...|God If ...|['pasto...|                     4|           0|           0|             1|progres...|1977|\"Rest y...|   Happy|\n",
            "|  Aqualung|You Tur...|  ['cold']|                     5|           1|           0|             2|     indie|2003|The end...|   Angry|\n",
            "|   Archive|      Fold| ['quiet']|                     9|           0|           0|             1|alterna...|2006|I've be...|   Happy|\n",
            "|  Ari Hest|Dead En...|['gentl...|                     4|           1|           0|             2|     indie|2009|Dead en...|   Angry|\n",
            "+----------+----------+----------+----------------------+------------+------------+--------------+----------+----+----------+--------+\n",
            "only showing top 20 rows\n",
            "\n"
          ]
        }
      ],
      "source": [
        "innerJoin.show(truncate = 10)"
      ]
    },
    {
      "cell_type": "code",
      "execution_count": 14,
      "id": "9e0aa634-159c-425e-ab90-beaadcfc716a",
      "metadata": {
        "colab": {
          "base_uri": "https://localhost:8080/"
        },
        "id": "9e0aa634-159c-425e-ab90-beaadcfc716a",
        "outputId": "2fe439e3-c6dd-495f-bf3b-4911312355d3"
      },
      "outputs": [
        {
          "name": "stdout",
          "output_type": "stream",
          "text": [
            "+--------------------+-----+\n",
            "|              artist|count|\n",
            "+--------------------+-----+\n",
            "|           Bob Dylan|   82|\n",
            "|        Warren Zevon|   76|\n",
            "|They Might Be Giants|   74|\n",
            "|     Robbie Williams|   73|\n",
            "|            The Cure|   73|\n",
            "|           Radiohead|   67|\n",
            "|         The Beatles|   67|\n",
            "|Manic Street Prea...|   63|\n",
            "|       Chelsea Wolfe|   59|\n",
            "|  The Mountain Goats|   59|\n",
            "|         of Montreal|   58|\n",
            "|           Kate Bush|   55|\n",
            "|           Tori Amos|   54|\n",
            "|       Elliott Smith|   53|\n",
            "|    Barenaked Ladies|   53|\n",
            "|         Bright Eyes|   52|\n",
            "|   Animal Collective|   51|\n",
            "|         Yo La Tengo|   51|\n",
            "|      Regina Spektor|   50|\n",
            "|       Kylie Minogue|   49|\n",
            "+--------------------+-----+\n",
            "only showing top 20 rows\n",
            "\n",
            "+--------+-----+\n",
            "|category|count|\n",
            "+--------+-----+\n",
            "|   Angry|12650|\n",
            "|   Happy| 7065|\n",
            "|     Sad| 5834|\n",
            "| Relaxed| 1800|\n",
            "+--------+-----+\n",
            "\n"
          ]
        }
      ],
      "source": [
        "from pyspark.sql.functions import col\n",
        "innerJoin.groupBy(\"artist\").count().orderBy(col(\"count\").desc()).show()\n",
        "innerJoin.groupBy(\"category\").count().orderBy(col(\"count\").desc()).show()"
      ]
    },
    {
      "cell_type": "markdown",
      "id": "bcce2606-9ffa-40e7-8bf1-1ce2a4664a80",
      "metadata": {
        "id": "bcce2606-9ffa-40e7-8bf1-1ce2a4664a80"
      },
      "source": [
        "## Model Pipeline\n",
        "\n",
        "Spark Machine Learning Pipelines API is similar to Scikit-Learn. Our pipeline includes three steps:\n",
        "\n",
        "regexTokenizer: Tokenization (with Regular Expression)\n",
        "\n",
        "stopwordsRemover: Remove Stop Words\n",
        "\n",
        "countVectors: Count vectors (“document-term vectors”)"
      ]
    },
    {
      "cell_type": "code",
      "execution_count": 15,
      "id": "ca2cb566-3af5-4d65-918e-b90849a5cc3c",
      "metadata": {
        "colab": {
          "base_uri": "https://localhost:8080/"
        },
        "id": "ca2cb566-3af5-4d65-918e-b90849a5cc3c",
        "outputId": "fe9efcef-3baf-4eef-fbdb-aa038e17c46c"
      },
      "outputs": [
        {
          "name": "stdout",
          "output_type": "stream",
          "text": [
            "['i', 'me', 'my', 'myself', 'we', 'our', 'ours', 'ourselves', 'you', \"you're\", \"you've\", \"you'll\", \"you'd\", 'your', 'yours', 'yourself', 'yourselves', 'he', 'him', 'his', 'himself', 'she', \"she's\", 'her', 'hers', 'herself', 'it', \"it's\", 'its', 'itself', 'they', 'them', 'their', 'theirs', 'themselves', 'what', 'which', 'who', 'whom', 'this', 'that', \"that'll\", 'these', 'those', 'am', 'is', 'are', 'was', 'were', 'be', 'been', 'being', 'have', 'has', 'had', 'having', 'do', 'does', 'did', 'doing', 'a', 'an', 'the', 'and', 'but', 'if', 'or', 'because', 'as', 'until', 'while', 'of', 'at', 'by', 'for', 'with', 'about', 'against', 'between', 'into', 'through', 'during', 'before', 'after', 'above', 'below', 'to', 'from', 'up', 'down', 'in', 'out', 'on', 'off', 'over', 'under', 'again', 'further', 'then', 'once', 'here', 'there', 'when', 'where', 'why', 'how', 'all', 'any', 'both', 'each', 'few', 'more', 'most', 'other', 'some', 'such', 'no', 'nor', 'not', 'only', 'own', 'same', 'so', 'than', 'too', 'very', 's', 't', 'can', 'will', 'just', 'don', \"don't\", 'should', \"should've\", 'now', 'd', 'll', 'm', 'o', 're', 've', 'y', 'ain', 'aren', \"aren't\", 'couldn', \"couldn't\", 'didn', \"didn't\", 'doesn', \"doesn't\", 'hadn', \"hadn't\", 'hasn', \"hasn't\", 'haven', \"haven't\", 'isn', \"isn't\", 'ma', 'mightn', \"mightn't\", 'mustn', \"mustn't\", 'needn', \"needn't\", 'shan', \"shan't\", 'shouldn', \"shouldn't\", 'wasn', \"wasn't\", 'weren', \"weren't\", 'won', \"won't\", 'wouldn', \"wouldn't\"]\n"
          ]
        },
        {
          "name": "stderr",
          "output_type": "stream",
          "text": [
            "[nltk_data] Downloading package stopwords to /root/nltk_data...\n",
            "[nltk_data]   Package stopwords is already up-to-date!\n"
          ]
        }
      ],
      "source": [
        "import nltk\n",
        "from nltk.corpus import stopwords\n",
        "\n",
        "nltk.download('stopwords')\n",
        "print(stopwords.words('english'))"
      ]
    },
    {
      "cell_type": "code",
      "execution_count": 16,
      "id": "34e76a1d-eebf-458b-a971-31a881fb7efa",
      "metadata": {
        "id": "34e76a1d-eebf-458b-a971-31a881fb7efa"
      },
      "outputs": [],
      "source": [
        "from pyspark.ml.feature import RegexTokenizer, StopWordsRemover, CountVectorizer\n",
        "from pyspark.ml.classification import LogisticRegression\n",
        "\n",
        "# regular expression tokenizer\n",
        "regexTokenizer = RegexTokenizer(inputCol=\"lyrics\", outputCol=\"words\", pattern=\"[^a-zA-Z]\")\n",
        "\n",
        "# stop words\n",
        "add_stopwords = []\n",
        "add_stopwords.extend(stopwords.words('english'))\n",
        "add_stopwords.extend([\"verse\",\"intro\",\"chorus\",\"rt\",\"t\",\"c\",\"m\",\"s\",\"da\",\"the\"])\n",
        "\n",
        "stopwordsRemover = StopWordsRemover(inputCol=\"words\", outputCol=\"filtered\").setStopWords(add_stopwords)\n",
        "\n",
        "# bag of words count\n",
        "countVectors = CountVectorizer(inputCol=\"filtered\", outputCol=\"features\", vocabSize=5000, minDF=100)"
      ]
    },
    {
      "cell_type": "code",
      "execution_count": 17,
      "id": "3efd3e06-f181-47e4-a17a-b36159e6e5a6",
      "metadata": {
        "id": "3efd3e06-f181-47e4-a17a-b36159e6e5a6"
      },
      "outputs": [],
      "source": [
        "from pyspark.ml import Pipeline\n",
        "from pyspark.ml.feature import OneHotEncoder, StringIndexer, VectorAssembler\n",
        "\n",
        "label_stringIdx = StringIndexer(inputCol = \"category\", outputCol = \"label\")\n",
        "pipeline = Pipeline(stages=[regexTokenizer, stopwordsRemover, countVectors, label_stringIdx])\n",
        "\n",
        "# Fit the pipeline to training documents.\n",
        "pipelineFit = pipeline.fit(innerJoin)\n",
        "dataset = pipelineFit.transform(innerJoin)"
      ]
    },
    {
      "cell_type": "code",
      "execution_count": 18,
      "id": "6aa51a83-8cba-430b-a383-a9c4dbeb20c3",
      "metadata": {
        "colab": {
          "base_uri": "https://localhost:8080/"
        },
        "id": "6aa51a83-8cba-430b-a383-a9c4dbeb20c3",
        "outputId": "24861474-6ce8-4c34-c1fe-80da750a9ad5"
      },
      "outputs": [
        {
          "name": "stdout",
          "output_type": "stream",
          "text": [
            "+----------------------------------------------------------------------------------------------------+\n",
            "|                                                                                            filtered|\n",
            "+----------------------------------------------------------------------------------------------------+\n",
            "|[mind, believe, maybe, forgive, rather, simply, run, getting, closer, time, cause, one, every, be...|\n",
            "|[everything, must, end, every, romance, must, descend, every, lover, pact, decays, every, sad, mi...|\n",
            "|[like, could, die, broken, heart, one, smile, could, fix, get, back, fall, believed, songs, sang,...|\n",
            "|[lonely, one, wondering, went, wrong, love, gone, left, lonely, confused, feeling, like, used, ca...|\n",
            "|[maybe, moonbeam, light, way, evening, comes, worry, care, bout, cold, outside, glad, wish, magic...|\n",
            "|[told, could, give, life, would, leave, boundaries, mind, bet, never, even, knew, universe, insid...|\n",
            "|[embody, spirit, motion, bodies, motion, bodies, motion, dig, ocean, swing, stars, moon, earth, m...|\n",
            "|[things, go, bump, night, see, yeah, mishaps, always, happen, threes, rocket, science, big, myste...|\n",
            "|[really, cannot, see, good, wanna, say, everything, fine, times, made, stay, see, clear, today, w...|\n",
            "|[inequity, fate, pains, love, hate, heart, sick, memories, brought, knees, times, young, life, se...|\n",
            "|[wonder, ever, ended, way, together, yet, far, apart, nothing, left, share, guess, gonna, leaving...|\n",
            "|[end, end, sirens, pulling, heart, cold, cold, believe, might, never, beat, sun, sets, around, da...|\n",
            "|[see, morning, silence, say, pretty, lady, love, know, way, consider, love, girl, cause, time, tr...|\n",
            "|[stop, stop, thinking, called, come, around, tonight, give, straight, answer, say, even, though, ...|\n",
            "|[claim, city, tired, nothing, promis, ever, gonna, last, say, slowly, still, shine, like, diamond...|\n",
            "|[way, things, became, could, see, could, never, imagined, kiss, love, know, shows, us, always, kn...|\n",
            "|[place, us, world, see, place, know, somewhere, eternity, stand, god, children, together, tryna, ...|\n",
            "|[climb, walls, mind, like, climbing, jungle, gym, content, state, mind, cause, crazy, like, crazy...|\n",
            "|[know, night, war, broke, driving, around, story, people, understood, happened, world, tonight, b...|\n",
            "|[always, go, parties, pluck, feathers, birds, knees, would, beg, please, want, picture, words, kn...|\n",
            "|[tell, look, understand, see, dark, walks, gotta, shake, hand, ever, gonna, win, game, hell, kid,...|\n",
            "|[saw, head, scarecrow, burn, eyes, lead, make, crown, barbed, wire, leave, bed, come, running, he...|\n",
            "|[vague, sound, rain, pierces, song, get, distracted, way, toes, move, plays, let, burn, poured, h...|\n",
            "|[last, day, world, last, day, history, gonna, live, like, always, wanted, gonna, live, like, real...|\n",
            "|[home, home, whither, must, wander, hunger, driver, go, must, cold, blows, winter, wind, hill, he...|\n",
            "|[oh, sisters, mercy, departed, gone, waiting, thought, go, brought, comfort, later, brought, song...|\n",
            "|[girl, gone, away, real, long, time, nearly, went, mind, miss, loving, left, baby, ah, baby, come...|\n",
            "|[put, veil, took, things, underground, covered, footprints, one, saw, hide, heard, treading, shad...|\n",
            "|[forget, memories, come, go, ever, wanted, ever, known, happy, living, ghost, pictures, tell, sto...|\n",
            "|[time, ago, crazy, dream, came, dreamt, walkin, world, war, iii, went, doctor, next, day, see, ki...|\n",
            "|[come, show, another, world, step, realm, parallel, universe, open, eyes, see, travelling, space,...|\n",
            "|[hustler, bed, sleepyheads, flit, rooftops, homes, lazy, bones, could, keep, hidden, everyone, wo...|\n",
            "|[hey, little, devil, dwells, inside, angel, body, angel, mind, said, need, jesus, fly, take, litt...|\n",
            "|[elements, air, hanging, window, wind, chimes, warm, breeze, little, bells, tinkle, like, wind, c...|\n",
            "|[night, comes, falling, night, comes, rising, looking, place, go, come, people, used, know, still...|\n",
            "|[feat, mark, morrison, time, county, jail, fiens, started, goin, paied, price, crimes, innocent, ...|\n",
            "|[strange, say, world, moving, upwards, surreal, hand, feels, roll, dice, great, wake, every, day,...|\n",
            "|[damage, done, words, spoken, flat, floor, left, alone, broken, kill, bottle, beat, booze, punch,...|\n",
            "|[well, kimbie, wants, nine, dollar, shawl, kimbie, wants, nine, dollar, shawl, wants, nine, dolla...|\n",
            "|[caught, half, light, caught, alone, waking, sunrise, radio, feels, like, tied, holding, praying,...|\n",
            "|[new, world, coming, around, bend, new, world, coming, one, coming, end, new, voice, callin, hear...|\n",
            "|[took, dancing, little, candlelight, romancing, roses, high, barstool, yeah, blind, fool, know, b...|\n",
            "|[talking, songbird, yesterday, flew, place, far, away, little, pilot, mind, singing, songs, love,...|\n",
            "|[baby, long, time, coming, long, long, time, stop, running, long, long, time, hear, heart, beatin...|\n",
            "|[counting, things, hope, get, pretending, wind, breeze, letting, body, freeze, ask, could, stop, ...|\n",
            "|[cut, tree, brought, back, made, see, going, wrong, put, shelf, kept, blame, blame, could, write,...|\n",
            "|[female, thinkin, right, onebelo, right, echoes, past, specifically, days, remember, mind, body, ...|\n",
            "|[everybody, knows, dice, loaded, everybody, rolls, fingers, crossed, everybody, knows, war, every...|\n",
            "|[solitary, motion, wake, avalanche, deer, headlights, goes, weaker, one, listenin, fast, gaze, ca...|\n",
            "|[celebrate, passing, drug, put, em, back, seat, coursing, blood, amongst, us, walking, argyll, st...|\n",
            "|[stars, lean, kiss, lie, awake, miss, pour, heavy, dose, atmosphere, cause, doze, safe, soundly, ...|\n",
            "|[always, said, good, kid, always, said, way, words, never, knew, could, speechless, know, ever, b...|\n",
            "|[walker, sees, mist, rise, man, land, sees, front, smashed, waste, ground, fields, trees, blades,...|\n",
            "|[starting, feel, stayed, together, fear, dying, alone, slipping, years, old, clothes, fit, like, ...|\n",
            "|[wait, bus, going, bangor, plaid, dress, burgundy, shoes, red, lipstick, lilac, kerchief, pretty,...|\n",
            "|[know, really, could, end, really, know, could, never, make, work, wake, pretend, really, really,...|\n",
            "|[walking, grocery, store, day, ward, starvation, got, crackerjack, coffee, milky, way, realizatio...|\n",
            "|[wanted, go, hurt, much, stay, run, away, fast, heart, found, way, came, along, tired, sadness, s...|\n",
            "|[written, would, love, moment, opened, eyes, morning, first, saw, gave, life, calico, skies, hold...|\n",
            "|[used, get, along, tried, hard, strong, honey, thought, made, proud, masquerade, fooling, thought...|\n",
            "|[summertime, gone, wanna, lose, want, see, forget, sun, want, city, want, pretty, party, time, pa...|\n",
            "|[driftin, dreamin, azure, mood, stardust, gleamin, thru, solitude, seclusion, blue, illusion, azu...|\n",
            "|[lie, ie, ie, lie, ie, ie, seem, blend, society, hold, hope, dim, simplicity, law, order, whose, ...|\n",
            "|[really, years, ago, need, well, never, know, sorry, clinging, sorry, wanting, heart, pounding, d...|\n",
            "|[oh, go, slow, got, gold, fist, eat, hope, make, new, spend, wage, couple, days, hoping, life, mi...|\n",
            "|[saw, dancin, ocean, runnin, fast, along, sand, spirit, born, earth, water, fire, flyin, hands, i...|\n",
            "|[toss, turn, night, know, make, right, crippling, anxiety, crime, growing, old, may, bold, go, st...|\n",
            "|[tell, heaven, say, way, moonlight, holly, sappho, comet, angel, tears, tree, talk, break, mornin...|\n",
            "|[together, stars, forever, together, stars, forever, together, stars, forever, together, stars, f...|\n",
            "|[real, enough, confused, decided, stay, remain, together, abandon, belong, breathe, take, life, l...|\n",
            "|[water, wheel, goes, round, round, stick, baby, glad, one, found, got, full, moon, soul, want, se...|\n",
            "|[well, time, begin, summer, sets, scene, set, new, lovers, play, part, painting, new, start, gate...|\n",
            "|[ooh, babe, oh, girl, bounce, baby, bounce, baby, move, uh, check, baby, relax, sit, back, chill,...|\n",
            "|[certainly, shopping, new, shoes, certainly, spreading, around, still, travel, foot, foot, slow, ...|\n",
            "|[master, rebel, prince, shut, windows, windows, around, windows, tellin, rid, dirty, mind, precio...|\n",
            "|[breeze, blows, treetops, tease, sensation, wonder, imagination, wondering, feels, cold, go, leav...|\n",
            "|[listen, radio, waiting, song, play, wonder, gonna, gonna, hear, song, today, cause, counting, ev...|\n",
            "|[drink, baby, doll, mmm, leave, things, behind, cause, going, without, pre, excuse, busy, oh, wri...|\n",
            "|[city, headache, subsides, dreary, tone, send, doctor, house, got, fever, coming, round, bend, he...|\n",
            "|[cent, g, unit, ready, ahhhh, cent, know, thinkin, know, drinkin, get, outta, line, boy, lay, ass...|\n",
            "|[ooh, ooh, please, take, lightly, mean, every, word, whichever, way, like, place, one, day, bette...|\n",
            "|[every, heart, story, told, way, believe, forever, every, life, story, unfolds, like, mystery, se...|\n",
            "|[grey, ceiling, earth, well, lasted, take, thoughts, worth, acting, like, child, opinion, differe...|\n",
            "|[head, heart, lost, somewhere, missing, parts, wedding, bells, second, time, one, tale, one, crim...|\n",
            "|[sing, boys, watch, dance, come, man, sing, boys, watch, dance, mind, watch, fall, away, know, si...|\n",
            "|[message, bells, ringin, push, finally, come, shove, door, opened, enough, sick, tired, waiting, ...|\n",
            "|[come, spare, end, want, talk, metaphors, new, hole, head, holding, like, want, home, really, car...|\n",
            "|[zipping, unzipping, sounds, ryan, miller, one, time, said, crawls, hole, fine, says, tears, fall...|\n",
            "|[dawn, got, pretty, early, sing, songs, try, get, attention, get, wrong, knows, never, lonely, go...|\n",
            "|[concentrate, middle, one, way, ride, center, lays, key, get, back, solve, riddle, afraid, stay, ...|\n",
            "|[whole, england, must, searching, well, sooner, later, going, find, never, see, looking, alright,...|\n",
            "|[move, touch, perhaps, much, love, sing, seen, cross, cause, clean, grave, cause, green, tongue, ...|\n",
            "|[stepped, train, dawn, walked, along, open, road, find, made, beds, gold, motel, sold, junk, caro...|\n",
            "|[hope, ventilate, vapours, might, take, sec, vapours, might, make, wet, well, hope, satiate, home...|\n",
            "|[could, stand, watch, sun, rise, follow, mountains, touch, sky, ponder, vastness, depths, sea, th...|\n",
            "|[day, neighbor, dented, bike, second, day, called, intensive, care, says, needs, picture, dented,...|\n",
            "|[curled, back, car, nine, years, old, know, head, window, eyes, closed, voice, front, hush, road,...|\n",
            "|[produced, kanye, west, common, gil, scott, heron, yeah, way, home, common, say, home, hate, dome...|\n",
            "|[open, wounds, bleed, veins, run, dry, take, thorn, tear, side, agitated, fault, line, still, agr...|\n",
            "|[say, never, landed, moon, wind, assume, guess, conspiracies, nothing, new, sure, believe, space,...|\n",
            "+----------------------------------------------------------------------------------------------------+\n",
            "only showing top 100 rows\n",
            "\n"
          ]
        }
      ],
      "source": [
        "#dataset.select(\"words\", \"filtered\", \"features\", \"label\").orderBy(col(\"label\").asc()).show(truncate=30)\n",
        "dataset.select(\"filtered\").orderBy(col(\"label\").asc()).show(100, truncate=100)"
      ]
    },
    {
      "cell_type": "code",
      "execution_count": 19,
      "id": "522f1968-57f7-43a1-846d-72e456a180bd",
      "metadata": {
        "colab": {
          "base_uri": "https://localhost:8080/"
        },
        "id": "522f1968-57f7-43a1-846d-72e456a180bd",
        "outputId": "63542fa2-60cf-42f4-fbc3-3762475c13f1"
      },
      "outputs": [
        {
          "name": "stdout",
          "output_type": "stream",
          "text": [
            "+-----+-----+\n",
            "|label|count|\n",
            "+-----+-----+\n",
            "|  0.0|12650|\n",
            "|  1.0| 7065|\n",
            "|  2.0| 5834|\n",
            "|  3.0| 1800|\n",
            "+-----+-----+\n",
            "\n"
          ]
        },
        {
          "data": {
            "text/plain": [
              "27349"
            ]
          },
          "execution_count": 19,
          "metadata": {},
          "output_type": "execute_result"
        }
      ],
      "source": [
        "dataset.groupBy(\"label\").count().orderBy(col(\"count\").desc()).show()\n",
        "dataset.count()"
      ]
    },
    {
      "cell_type": "code",
      "execution_count": 20,
      "id": "0c2067b4-b5d2-4ee7-bbd8-8dd28a19de37",
      "metadata": {
        "id": "0c2067b4-b5d2-4ee7-bbd8-8dd28a19de37"
      },
      "outputs": [],
      "source": [
        "from pyspark.sql import functions as F\n",
        "from pyspark.sql.window import Window\n",
        "\n",
        "window = Window.partitionBy(dataset['label']).orderBy(F.rand())\n",
        "dataset = dataset.select(F.col('*'),\n",
        "               F.row_number().over(window).alias('row_number')) \\\n",
        "               .where(F.col('row_number') <= 8000)"
      ]
    },
    {
      "cell_type": "code",
      "execution_count": 21,
      "id": "a23e1bfe-77be-4a0b-bf1c-298d20637653",
      "metadata": {
        "colab": {
          "base_uri": "https://localhost:8080/"
        },
        "id": "a23e1bfe-77be-4a0b-bf1c-298d20637653",
        "outputId": "c541177a-3519-4d46-94ef-77c238ebe3a2"
      },
      "outputs": [
        {
          "name": "stdout",
          "output_type": "stream",
          "text": [
            "+-----+-----+\n",
            "|label|count|\n",
            "+-----+-----+\n",
            "|  0.0| 8000|\n",
            "|  1.0| 7065|\n",
            "|  2.0| 5834|\n",
            "|  3.0| 1800|\n",
            "+-----+-----+\n",
            "\n"
          ]
        },
        {
          "data": {
            "text/plain": [
              "22699"
            ]
          },
          "execution_count": 21,
          "metadata": {},
          "output_type": "execute_result"
        }
      ],
      "source": [
        "dataset.groupBy(\"label\").count().orderBy(col(\"count\").desc()).show()\n",
        "dataset.count()"
      ]
    },
    {
      "cell_type": "markdown",
      "id": "f49b5f3b-113d-4fbc-9954-6d50232e80a5",
      "metadata": {
        "id": "f49b5f3b-113d-4fbc-9954-6d50232e80a5"
      },
      "source": [
        "## Partition Training & Test sets"
      ]
    },
    {
      "cell_type": "code",
      "execution_count": 22,
      "id": "48c9e1c9-1d69-494d-8656-fb3b51f3a004",
      "metadata": {
        "colab": {
          "base_uri": "https://localhost:8080/"
        },
        "id": "48c9e1c9-1d69-494d-8656-fb3b51f3a004",
        "outputId": "986b6db3-2058-4482-dec1-f6e13535d9ec"
      },
      "outputs": [
        {
          "name": "stdout",
          "output_type": "stream",
          "text": [
            "Training Dataset Count: 18234\n",
            "Test Dataset Count: 4465\n"
          ]
        }
      ],
      "source": [
        "# set seed for reproducibility\n",
        "(trainingData, testData) = dataset.randomSplit([0.8, 0.2])\n",
        "print(\"Training Dataset Count: \" + str(trainingData.count()))\n",
        "print(\"Test Dataset Count: \" + str(testData.count()))"
      ]
    },
    {
      "cell_type": "markdown",
      "id": "b60a0e53-ae79-41af-b17f-a70e3b64baa2",
      "metadata": {
        "id": "b60a0e53-ae79-41af-b17f-a70e3b64baa2"
      },
      "source": [
        "## Model Training and Evaluation\n",
        "\n",
        "Logistic Regression using Count Vector Features\n",
        "\n",
        "Our model will make predictions and score on the test set; we then look at the top 10 predictions from the highest probability."
      ]
    },
    {
      "cell_type": "code",
      "execution_count": 23,
      "id": "85de1045-5643-45c6-b020-0c9b56adf5e9",
      "metadata": {
        "colab": {
          "base_uri": "https://localhost:8080/"
        },
        "id": "85de1045-5643-45c6-b020-0c9b56adf5e9",
        "outputId": "bfc34cf2-5c15-4f7e-a118-0ab8cb85c62e"
      },
      "outputs": [
        {
          "name": "stdout",
          "output_type": "stream",
          "text": [
            "+------------------------------+--------+------------------------------+-----+----------+\n",
            "|                      filtered|category|                   probability|label|prediction|\n",
            "+------------------------------+--------+------------------------------+-----+----------+\n",
            "|[skies, pure, fields, green...|   Happy|[0.9694407318178195,0.00281...|  1.0|       0.0|\n",
            "|[take, river, take, river, ...|   Angry|[0.9674856953032704,0.02982...|  0.0|       0.0|\n",
            "|[habit, taking, things, gra...|     Sad|[0.8991642497657686,0.02510...|  2.0|       0.0|\n",
            "|[whenever, say, name, whene...|   Angry|[0.8702172906747242,0.02900...|  0.0|       0.0|\n",
            "|[king, thirty, second, son,...|   Angry|[0.8656209004870342,0.03924...|  0.0|       0.0|\n",
            "|[refrain, rolling, ball, ro...|   Angry|[0.859937330849136,0.014678...|  0.0|       0.0|\n",
            "|[much, magnificence, near, ...|   Angry|[0.8023231158490091,0.06505...|  0.0|       0.0|\n",
            "|[float, stream, rivers, dre...|   Angry|[0.7893974334429841,0.12614...|  0.0|       0.0|\n",
            "|[walks, outhouse, cold, nig...|   Happy|[0.7844615636679989,0.13583...|  1.0|       0.0|\n",
            "|[hook, let, go, back, back,...|   Happy|[0.7842069134014039,0.04172...|  1.0|       0.0|\n",
            "+------------------------------+--------+------------------------------+-----+----------+\n",
            "only showing top 10 rows\n",
            "\n"
          ]
        }
      ],
      "source": [
        "lr = LogisticRegression(maxIter=20, regParam=0.3, elasticNetParam=0)\n",
        "lrModel = lr.fit(trainingData)\n",
        "\n",
        "predictions = lrModel.transform(testData)\n",
        "\n",
        "predictions.filter(predictions['prediction'] == 0).select(\"filtered\", \"category\",\"probability\",\"label\",\"prediction\")\\\n",
        ".orderBy(\"probability\", ascending=False).show(n = 10, truncate = 30)"
      ]
    },
    {
      "cell_type": "code",
      "execution_count": 24,
      "id": "e462ab2c-96b5-4692-9aa0-4c7649281731",
      "metadata": {
        "colab": {
          "base_uri": "https://localhost:8080/"
        },
        "id": "e462ab2c-96b5-4692-9aa0-4c7649281731",
        "outputId": "f3cd83e2-afc7-4d01-9552-c4aeacc91aec"
      },
      "outputs": [
        {
          "name": "stdout",
          "output_type": "stream",
          "text": [
            "+------------------------------+--------+------------------------------+-----+----------+\n",
            "|                      filtered|category|                   probability|label|prediction|\n",
            "+------------------------------+--------+------------------------------+-----+----------+\n",
            "|[never, drank, nectar, kept...|     Sad|[0.4547050276888205,0.46174...|  2.0|       1.0|\n",
            "|[well, feel, like, old, hob...|   Happy|[0.44546393158999753,0.4668...|  1.0|       1.0|\n",
            "|[produced, hudson, mohawke,...|   Angry|[0.4356675709841977,0.45315...|  0.0|       1.0|\n",
            "|[still, got, lot, learn, le...|   Angry|[0.41815509711235554,0.4823...|  0.0|       1.0|\n",
            "|[today, crooked, highway, t...|   Happy|[0.41503317045828897,0.4312...|  1.0|       1.0|\n",
            "|[sundown, dazzling, day, go...|   Angry|[0.4139393992721715,0.42676...|  0.0|       1.0|\n",
            "|[shore, lake, great, upstat...|   Happy|[0.4110545566764927,0.47357...|  1.0|       1.0|\n",
            "|[think, changed, think, sen...|   Angry|[0.4085386799917778,0.43847...|  0.0|       1.0|\n",
            "|[bret, jemaine, wandering, ...|   Angry|[0.40773776396623385,0.4143...|  0.0|       1.0|\n",
            "|[language, frost, lobs, dea...|   Angry|[0.4058014049961284,0.45034...|  0.0|       1.0|\n",
            "+------------------------------+--------+------------------------------+-----+----------+\n",
            "only showing top 10 rows\n",
            "\n"
          ]
        }
      ],
      "source": [
        "predictions.filter(predictions['prediction'] == 1).select(\"filtered\", \"category\",\"probability\",\"label\",\"prediction\")\\\n",
        ".orderBy(\"probability\", ascending=False).show(n = 10, truncate = 30)"
      ]
    },
    {
      "cell_type": "code",
      "execution_count": 25,
      "id": "0d484bb6-a4a0-4141-97fd-e9bd78d05065",
      "metadata": {
        "colab": {
          "base_uri": "https://localhost:8080/"
        },
        "id": "0d484bb6-a4a0-4141-97fd-e9bd78d05065",
        "outputId": "fa6b6f14-9044-49b8-bbb0-0e027d5d0a6f"
      },
      "outputs": [
        {
          "name": "stdout",
          "output_type": "stream",
          "text": [
            "0.3841184178462623\n"
          ]
        }
      ],
      "source": [
        "from pyspark.ml.evaluation import MulticlassClassificationEvaluator\n",
        "evaluator = MulticlassClassificationEvaluator(predictionCol=\"prediction\")\n",
        "lrAccuracy = evaluator.evaluate(predictions)\n",
        "print(lrAccuracy)"
      ]
    },
    {
      "cell_type": "markdown",
      "id": "06fd4cc0-a4d1-49a7-90ef-65744bc6adc7",
      "metadata": {
        "id": "06fd4cc0-a4d1-49a7-90ef-65744bc6adc7"
      },
      "source": [
        "## ROC curve\n",
        "https://spark.apache.org/docs/latest/ml-classification-regression.html#multinomial-logistic-regression\n",
        "\n",
        "https://spark.apache.org/docs/2.3.0/api/java/org/apache/spark/ml/classification/LogisticRegressionTrainingSummary.html"
      ]
    },
    {
      "cell_type": "code",
      "execution_count": 26,
      "id": "ed300d86-9e22-4f06-8c82-da5bf2d82d2a",
      "metadata": {
        "colab": {
          "base_uri": "https://localhost:8080/"
        },
        "id": "ed300d86-9e22-4f06-8c82-da5bf2d82d2a",
        "outputId": "a1876003-a222-4800-d3c0-a2df9525a2b5"
      },
      "outputs": [
        {
          "name": "stdout",
          "output_type": "stream",
          "text": [
            "\n",
            "False positive rate by label:\n",
            "label 0: 0.3699500296434319\n",
            "label 1: 0.24416017797552836\n",
            "label 2: 0.07983751846381093\n",
            "label 3: 0.001073409267100006\n",
            "\n",
            "True positive rate by label:\n",
            "label 0: 0.7076396452466158\n",
            "label 1: 0.56657223796034\n",
            "label 2: 0.39135066041755434\n",
            "label 3: 0.07440273037542662\n",
            "\n",
            "Precision by label:\n",
            "label 0: 0.5100942126514132\n",
            "label 1: 0.5101227482863064\n",
            "label 2: 0.6295407813570939\n",
            "label 3: 0.8582677165354331\n",
            "\n",
            "Recall by label:\n",
            "label 0: 0.7076396452466158\n",
            "label 1: 0.56657223796034\n",
            "label 2: 0.39135066041755434\n",
            "label 3: 0.07440273037542662\n",
            "\n",
            "F-measure by label:\n",
            "label 0: 0.59284364205175\n",
            "label 1: 0.5368677124402316\n",
            "label 2: 0.48265895953757226\n",
            "label 3: 0.13693467336683418\n",
            "\n",
            "Accuracy: 0.5316441811999562\n",
            "\n",
            "FPR: 0.2266653165498273\n",
            "\n",
            "TPR: 0.5316441811999562\n",
            "\n",
            "F-measure: 0.5105103312427773\n",
            "\n",
            "Precision: 0.5688261171134309\n",
            "\n",
            "Recall: 0.5316441811999562\n"
          ]
        }
      ],
      "source": [
        "trainingSummary = lrModel.summary\n",
        "\n",
        "# for multiclass, we can inspect metrics on a per-label basis\n",
        "print(\"\\nFalse positive rate by label:\")\n",
        "for i, rate in enumerate(trainingSummary.falsePositiveRateByLabel):\n",
        "    print(\"label %d: %s\" % (i, rate))\n",
        "\n",
        "print(\"\\nTrue positive rate by label:\")\n",
        "for i, rate in enumerate(trainingSummary.truePositiveRateByLabel):\n",
        "    print(\"label %d: %s\" % (i, rate))\n",
        "\n",
        "print(\"\\nPrecision by label:\")\n",
        "for i, prec in enumerate(trainingSummary.precisionByLabel):\n",
        "    print(\"label %d: %s\" % (i, prec))\n",
        "\n",
        "print(\"\\nRecall by label:\")\n",
        "for i, rec in enumerate(trainingSummary.recallByLabel):\n",
        "    print(\"label %d: %s\" % (i, rec))\n",
        "\n",
        "print(\"\\nF-measure by label:\")\n",
        "for i, f in enumerate(trainingSummary.fMeasureByLabel()):\n",
        "    print(\"label %d: %s\" % (i, f))\n",
        "\n",
        "accuracy = trainingSummary.accuracy\n",
        "falsePositiveRate = trainingSummary.weightedFalsePositiveRate\n",
        "truePositiveRate = trainingSummary.weightedTruePositiveRate\n",
        "fMeasure = trainingSummary.weightedFMeasure()\n",
        "precision = trainingSummary.weightedPrecision\n",
        "recall = trainingSummary.weightedRecall\n",
        "print(\"\\nAccuracy: %s\\n\\nFPR: %s\\n\\nTPR: %s\\n\\nF-measure: %s\\n\\nPrecision: %s\\n\\nRecall: %s\"\n",
        "      % (accuracy, falsePositiveRate, truePositiveRate, fMeasure, precision, recall))"
      ]
    },
    {
      "cell_type": "markdown",
      "id": "caff1e2f-504b-440b-b911-b2c1891f1b02",
      "metadata": {
        "id": "caff1e2f-504b-440b-b911-b2c1891f1b02"
      },
      "source": [
        "## Logistic Regression using TF-IDF Features"
      ]
    },
    {
      "cell_type": "code",
      "execution_count": 27,
      "id": "ba947012-b3be-47f2-a655-24f916b30409",
      "metadata": {
        "colab": {
          "base_uri": "https://localhost:8080/"
        },
        "id": "ba947012-b3be-47f2-a655-24f916b30409",
        "outputId": "82ab38c4-fa4b-43b0-f6a1-4befa98eb85b"
      },
      "outputs": [
        {
          "name": "stdout",
          "output_type": "stream",
          "text": [
            "+--------+------------------------------+-----+----------+\n",
            "|category|                   probability|label|prediction|\n",
            "+--------+------------------------------+-----+----------+\n",
            "|   Angry|[0.9999999324239114,1.63463...|  0.0|       0.0|\n",
            "| Relaxed|[0.9836629112177724,0.00202...|  3.0|       0.0|\n",
            "|   Angry|[0.9702342613050158,0.00497...|  0.0|       0.0|\n",
            "|   Happy|[0.9460180762755637,0.03676...|  1.0|       0.0|\n",
            "|   Happy|[0.9381898734837107,0.01019...|  1.0|       0.0|\n",
            "|     Sad|[0.9363316141983217,0.03109...|  2.0|       0.0|\n",
            "|     Sad|[0.9356523603185324,0.02694...|  2.0|       0.0|\n",
            "|   Angry|[0.9344038879965207,0.02503...|  0.0|       0.0|\n",
            "|   Happy|[0.9090740540049982,0.07435...|  1.0|       0.0|\n",
            "|     Sad|[0.8996252490286942,0.06735...|  2.0|       0.0|\n",
            "+--------+------------------------------+-----+----------+\n",
            "only showing top 10 rows\n",
            "\n"
          ]
        }
      ],
      "source": [
        "from pyspark.ml.feature import HashingTF, IDF\n",
        "\n",
        "hashingTF = HashingTF(inputCol=\"filtered\", outputCol=\"rawFeatures\", numFeatures=3000)\n",
        "idf = IDF(inputCol=\"rawFeatures\", outputCol=\"features\", minDocFreq=5) #minDocFreq: remove sparse terms\n",
        "pipeline = Pipeline(stages=[regexTokenizer, stopwordsRemover, hashingTF, idf, label_stringIdx])\n",
        "\n",
        "pipelineFit = pipeline.fit(innerJoin)\n",
        "dataset = pipelineFit.transform(innerJoin)\n",
        "\n",
        "(trainingData, testData) = dataset.randomSplit([0.7, 0.3], seed = 100)\n",
        "lr = LogisticRegression(maxIter=20, regParam=0.3, elasticNetParam=0)\n",
        "lrModel = lr.fit(trainingData)\n",
        "\n",
        "predictions = lrModel.transform(testData)\n",
        "\n",
        "predictions.filter(predictions['prediction'] == 0) \\\n",
        "    .select(\"category\",\"probability\",\"label\",\"prediction\") \\\n",
        "    .orderBy(\"probability\", ascending=False) \\\n",
        "    .show(n = 10, truncate = 30)"
      ]
    },
    {
      "cell_type": "code",
      "execution_count": 28,
      "id": "46464208-2c53-4b97-bb8d-c08a782cd3bd",
      "metadata": {
        "colab": {
          "base_uri": "https://localhost:8080/"
        },
        "id": "46464208-2c53-4b97-bb8d-c08a782cd3bd",
        "outputId": "b86b4cad-548a-4ae5-f858-77f77e514a8b"
      },
      "outputs": [
        {
          "data": {
            "text/plain": [
              "0.3929649948669445"
            ]
          },
          "execution_count": 28,
          "metadata": {},
          "output_type": "execute_result"
        }
      ],
      "source": [
        "evaluator = MulticlassClassificationEvaluator(predictionCol=\"prediction\")\n",
        "evaluator.evaluate(predictions)"
      ]
    },
    {
      "cell_type": "code",
      "execution_count": 29,
      "id": "WvQKkWBHWZjp",
      "metadata": {
        "id": "WvQKkWBHWZjp"
      },
      "outputs": [],
      "source": [
        "from pyspark.sql.functions import row_number,lit\n",
        "categoriess = {'1.0':'Happy', '0.0':'Angry', '3.0':'Relaxed', '2.0':'Sad'}\n",
        "w = Window().orderBy(lit('A'))"
      ]
    },
    {
      "cell_type": "code",
      "execution_count": 30,
      "id": "LBeKC80c0Xl7",
      "metadata": {
        "colab": {
          "base_uri": "https://localhost:8080/"
        },
        "id": "LBeKC80c0Xl7",
        "outputId": "0366f185-2361-4153-d51b-93a929e8e740"
      },
      "outputs": [
        {
          "name": "stdout",
          "output_type": "stream",
          "text": [
            "+----+------+---------------+--------------------+--------+---------------------+\n",
            "|  id|artist|          title|              lyrics|category|p_Logistic_Regression|\n",
            "+----+------+---------------+--------------------+--------+---------------------+\n",
            "|2262|Eminem|        Bad Guy|Part 1: Produced ...|   Happy|                  Sad|\n",
            "|2263|Eminem|Rhyme or Reason|[Intro: Sample + ...|   Angry|                Angry|\n",
            "|2264|Eminem| So Much Better|[Intro]\\nYou fuck...|   Angry|                  Sad|\n",
            "|2265|Eminem|           Stan|[Produced by DJ M...|   Happy|                Angry|\n",
            "|2266|Eminem|      The Sauce|[Intro]\\nIt's all...| Relaxed|                Angry|\n",
            "|2267|Eminem|         Tonite|[Produced by Mr. ...|   Happy|                Angry|\n",
            "+----+------+---------------+--------------------+--------+---------------------+\n",
            "\n"
          ]
        }
      ],
      "source": [
        "predictions = predictions.withColumn('id', row_number().over(w))\n",
        "\n",
        "classificationResults = predictions.select(\"id\", \"artist\", \"title\", \"lyrics\", \"category\", \"prediction\")\n",
        "classificationResults = classificationResults.withColumn(\"prediction\", classificationResults[\"prediction\"].cast(StringType()))\\\n",
        "                      .replace(to_replace=categoriess, subset=['prediction'])\\\n",
        "                      .withColumnRenamed(\"prediction\", \"p_Logistic_Regression\")\n",
        "\n",
        "#classificationResults = classificationResults.join(predictions, [\"id\"])\n",
        "classificationResults.filter(classificationResults['artist'] == 'Eminem').show()\n"
      ]
    },
    {
      "cell_type": "markdown",
      "id": "e892123e-4eee-4c17-ad24-d01befb7ac56",
      "metadata": {
        "id": "e892123e-4eee-4c17-ad24-d01befb7ac56"
      },
      "source": [
        "## Naive Bayes"
      ]
    },
    {
      "cell_type": "code",
      "execution_count": 31,
      "id": "610fc418-0563-440d-bf9d-87a84f707e67",
      "metadata": {
        "colab": {
          "base_uri": "https://localhost:8080/"
        },
        "id": "610fc418-0563-440d-bf9d-87a84f707e67",
        "outputId": "d595d908-554b-4302-de44-e02595dabb9f"
      },
      "outputs": [
        {
          "name": "stdout",
          "output_type": "stream",
          "text": [
            "+------------------------+------------------------+--------+--------------------------------------------------+-----+----------+\n",
            "|                   title|                  artist|category|                                       probability|label|prediction|\n",
            "+------------------------+------------------------+--------+--------------------------------------------------+-----+----------+\n",
            "|Bouncing Around the Room|                   Phish|   Angry|[1.0,1.0743274907381887E-16,7.26803033666939E-5...|  0.0|       0.0|\n",
            "|          Laredo Tornado|Electric Light Orchestra|   Angry|[1.0,7.07751055759193E-17,2.871102246465088E-19...|  0.0|       0.0|\n",
            "|  Brighter Than Sunshine|                Aqualung|   Angry|[1.0,6.65718909664867E-17,1.0596836415405972E-3...|  0.0|       0.0|\n",
            "|             Tatted Lace|             Alela Diane|   Happy|[1.0,1.8487009211484072E-17,1.0303896426173514E...|  1.0|       0.0|\n",
            "|                   Sorry|               The-Dream|   Happy|[1.0,1.1698893900820905E-17,1.3807411072602376E...|  1.0|       0.0|\n",
            "|  Wishing You Would Stay|           The Tea Party|     Sad|[1.0,1.150438784119177E-17,4.203061090354592E-2...|  2.0|       0.0|\n",
            "|                   Sunny|             James Brown|     Sad|[1.0,5.6919458585222845E-18,3.605342234413737E-...|  2.0|       0.0|\n",
            "|               Satellite|                   Jewel|     Sad|[1.0,2.856191238655802E-18,8.367159243348213E-1...|  2.0|       0.0|\n",
            "|              Undertaker|                 M. Ward|   Angry|[1.0,2.078627358117329E-18,5.185221547878614E-1...|  0.0|       0.0|\n",
            "|               Estranged|           Guns N' Roses|   Angry|[1.0,1.820893395591598E-18,6.4534710563591E-18,...|  0.0|       0.0|\n",
            "+------------------------+------------------------+--------+--------------------------------------------------+-----+----------+\n",
            "only showing top 10 rows\n",
            "\n"
          ]
        }
      ],
      "source": [
        "from pyspark.ml.classification import NaiveBayes\n",
        "nb = NaiveBayes(smoothing=1)\n",
        "nbModel = nb.fit(trainingData)\n",
        "predictions = nbModel.transform(testData)\n",
        "predictions.filter(predictions['prediction'] == 0) \\\n",
        "    .select(\"title\",\"artist\", \"category\",\"probability\",\"label\",\"prediction\") \\\n",
        "    .orderBy(\"probability\", ascending=False) \\\n",
        "    .show(n = 10, truncate = 50)"
      ]
    },
    {
      "cell_type": "code",
      "execution_count": 32,
      "id": "c58fd21c-66fb-4894-aae2-9aad83314f93",
      "metadata": {
        "colab": {
          "base_uri": "https://localhost:8080/"
        },
        "id": "c58fd21c-66fb-4894-aae2-9aad83314f93",
        "outputId": "d68db666-e015-4cee-8018-79c33c3b5626"
      },
      "outputs": [
        {
          "name": "stdout",
          "output_type": "stream",
          "text": [
            "0.4100831693736976\n"
          ]
        }
      ],
      "source": [
        "evaluator = MulticlassClassificationEvaluator(predictionCol=\"prediction\")\n",
        "nbAccuracy = evaluator.evaluate(predictions)\n",
        "print(nbAccuracy)"
      ]
    },
    {
      "cell_type": "code",
      "execution_count": 33,
      "id": "OIAXlVClRs8K",
      "metadata": {
        "colab": {
          "base_uri": "https://localhost:8080/"
        },
        "id": "OIAXlVClRs8K",
        "outputId": "733d5655-f7ce-4865-c6a1-381280043706"
      },
      "outputs": [
        {
          "name": "stdout",
          "output_type": "stream",
          "text": [
            "+----+------+---------------+--------------------+--------+---------------------+-------------+\n",
            "|  id|artist|          title|              lyrics|category|p_Logistic_Regression|p_Naive_Bayes|\n",
            "+----+------+---------------+--------------------+--------+---------------------+-------------+\n",
            "|2262|Eminem|        Bad Guy|Part 1: Produced ...|   Happy|                  Sad|          Sad|\n",
            "|2263|Eminem|Rhyme or Reason|[Intro: Sample + ...|   Angry|                Angry|      Relaxed|\n",
            "|2264|Eminem| So Much Better|[Intro]\\nYou fuck...|   Angry|                  Sad|      Relaxed|\n",
            "|2265|Eminem|           Stan|[Produced by DJ M...|   Happy|                Angry|        Angry|\n",
            "|2266|Eminem|      The Sauce|[Intro]\\nIt's all...| Relaxed|                Angry|      Relaxed|\n",
            "|2267|Eminem|         Tonite|[Produced by Mr. ...|   Happy|                Angry|      Relaxed|\n",
            "+----+------+---------------+--------------------+--------+---------------------+-------------+\n",
            "\n"
          ]
        }
      ],
      "source": [
        "predictions = predictions.withColumn('id', row_number().over(w))\n",
        "\n",
        "tmp = predictions.select(\"id\", \"prediction\")\n",
        "classificationResults = classificationResults.join(tmp, [\"id\"], )\n",
        "classificationResults = classificationResults.withColumn(\"prediction\", classificationResults[\"prediction\"].cast(StringType()))\\\n",
        "                      .replace(to_replace=categoriess, subset=['prediction'])\\\n",
        "                      .withColumnRenamed(\"prediction\", \"p_Naive_Bayes\")\n",
        "\n",
        "classificationResults.filter(predictions['artist'] == 'Eminem').show()"
      ]
    },
    {
      "cell_type": "markdown",
      "id": "636bd2e4-2f5d-4cde-bcee-567e96396419",
      "metadata": {
        "id": "636bd2e4-2f5d-4cde-bcee-567e96396419"
      },
      "source": [
        "## DecisionTreeClassifier"
      ]
    },
    {
      "cell_type": "code",
      "execution_count": 34,
      "id": "d888056c-610b-4e3f-a710-0410011da8c3",
      "metadata": {
        "colab": {
          "base_uri": "https://localhost:8080/"
        },
        "id": "d888056c-610b-4e3f-a710-0410011da8c3",
        "outputId": "cfe4485e-18d0-437f-ace6-743e8af3a078"
      },
      "outputs": [
        {
          "name": "stdout",
          "output_type": "stream",
          "text": [
            "+----------------+----------------+--------+------------------------------+-----+----------+\n",
            "|           title|          artist|category|                   probability|label|prediction|\n",
            "+----------------+----------------+--------+------------------------------+-----+----------+\n",
            "|  Amaze Disgrace|               3|   Angry|[0.4924326319675157,0.21447...|  0.0|       0.0|\n",
            "|Abandon All Hope|      Aesop Rock|   Happy|[0.4924326319675157,0.21447...|  1.0|       0.0|\n",
            "|    All Mixed Up|             311|   Angry|[0.4924326319675157,0.21447...|  0.0|       0.0|\n",
            "|  Electric Twist|   A Fine Frenzy|   Angry|[0.4924326319675157,0.21447...|  0.0|       0.0|\n",
            "|     Hey Darling|     Ace of Base| Relaxed|[0.4924326319675157,0.21447...|  3.0|       0.0|\n",
            "|             Pet|A Perfect Circle| Relaxed|[0.4924326319675157,0.21447...|  3.0|       0.0|\n",
            "|      Postmortem|            1349| Relaxed|[0.4924326319675157,0.21447...|  3.0|       0.0|\n",
            "|           Smile|             AFI|   Happy|[0.4924326319675157,0.21447...|  1.0|       0.0|\n",
            "|   Double Vision|           3OH!3|     Sad|[0.4924326319675157,0.21447...|  2.0|       0.0|\n",
            "| Yürf Rendenmein|             AFI| Relaxed|[0.4924326319675157,0.21447...|  3.0|       0.0|\n",
            "+----------------+----------------+--------+------------------------------+-----+----------+\n",
            "only showing top 10 rows\n",
            "\n"
          ]
        }
      ],
      "source": [
        "from pyspark.ml.classification import DecisionTreeClassifier\n",
        "dt = DecisionTreeClassifier(featuresCol = 'features', labelCol = 'label', maxDepth = 3)\n",
        "dtModel = dt.fit(trainingData)\n",
        "predictions = dtModel.transform(testData)\n",
        "predictions.filter(predictions['prediction'] == 0) \\\n",
        "    .select(\"title\",\"artist\",\"category\",\"probability\",\"label\",\"prediction\") \\\n",
        "    .orderBy(\"probability\", ascending=False) \\\n",
        "    .show(n = 10, truncate = 30)"
      ]
    },
    {
      "cell_type": "code",
      "execution_count": 35,
      "id": "7dcfb0f9-29d8-4efb-848a-e44ac2276ffa",
      "metadata": {
        "colab": {
          "base_uri": "https://localhost:8080/"
        },
        "id": "7dcfb0f9-29d8-4efb-848a-e44ac2276ffa",
        "outputId": "d96748fd-edcc-4765-f287-7e348f527c8c"
      },
      "outputs": [
        {
          "name": "stdout",
          "output_type": "stream",
          "text": [
            "0.330970952654936\n"
          ]
        }
      ],
      "source": [
        "evaluator = MulticlassClassificationEvaluator(predictionCol=\"prediction\")\n",
        "dtAccuracy = evaluator.evaluate(predictions)\n",
        "print(dtAccuracy)"
      ]
    },
    {
      "cell_type": "code",
      "execution_count": 36,
      "id": "SoXPAlR6S8tH",
      "metadata": {
        "colab": {
          "base_uri": "https://localhost:8080/"
        },
        "id": "SoXPAlR6S8tH",
        "outputId": "efba63a4-2edb-447b-c392-2cc3ca6ef743"
      },
      "outputs": [
        {
          "name": "stdout",
          "output_type": "stream",
          "text": [
            "+----+------+---------------+--------------------+--------+---------------------+-------------+---------------+\n",
            "|  id|artist|          title|              lyrics|category|p_Logistic_Regression|p_Naive_Bayes|p_Decision_Tree|\n",
            "+----+------+---------------+--------------------+--------+---------------------+-------------+---------------+\n",
            "|2262|Eminem|        Bad Guy|Part 1: Produced ...|   Happy|                  Sad|          Sad|          Angry|\n",
            "|2263|Eminem|Rhyme or Reason|[Intro: Sample + ...|   Angry|                Angry|      Relaxed|            Sad|\n",
            "|2264|Eminem| So Much Better|[Intro]\\nYou fuck...|   Angry|                  Sad|      Relaxed|            Sad|\n",
            "|2265|Eminem|           Stan|[Produced by DJ M...|   Happy|                Angry|        Angry|          Angry|\n",
            "|2266|Eminem|      The Sauce|[Intro]\\nIt's all...| Relaxed|                Angry|      Relaxed|          Angry|\n",
            "|2267|Eminem|         Tonite|[Produced by Mr. ...|   Happy|                Angry|      Relaxed|            Sad|\n",
            "+----+------+---------------+--------------------+--------+---------------------+-------------+---------------+\n",
            "\n"
          ]
        }
      ],
      "source": [
        "predictions = predictions.withColumn('id', row_number().over(w))\n",
        "\n",
        "tmp = predictions.select(\"id\", \"prediction\")\n",
        "classificationResults = classificationResults.join(tmp, [\"id\"], )\n",
        "classificationResults = classificationResults.withColumn(\"prediction\", classificationResults[\"prediction\"].cast(StringType()))\\\n",
        "                      .replace(to_replace=categoriess, subset=['prediction'])\\\n",
        "                      .withColumnRenamed(\"prediction\", \"p_Decision_Tree\")\n",
        "\n",
        "classificationResults.filter(predictions['artist'] == 'Eminem').show()"
      ]
    },
    {
      "cell_type": "markdown",
      "id": "07d61773-fcba-41b7-ae7e-fa4a57bd90a8",
      "metadata": {
        "id": "07d61773-fcba-41b7-ae7e-fa4a57bd90a8"
      },
      "source": [
        "## Random Forest"
      ]
    },
    {
      "cell_type": "code",
      "execution_count": 37,
      "id": "89e77b12-f0d1-430c-8b4b-e1ff5a2b5d6b",
      "metadata": {
        "colab": {
          "base_uri": "https://localhost:8080/"
        },
        "id": "89e77b12-f0d1-430c-8b4b-e1ff5a2b5d6b",
        "outputId": "0c7a4b02-77c8-4299-f662-511da5584692"
      },
      "outputs": [
        {
          "name": "stdout",
          "output_type": "stream",
          "text": [
            "+------------------------------+--------+------------------------------+-----+----------+\n",
            "|                      filtered|category|                   probability|label|prediction|\n",
            "+------------------------------+--------+------------------------------+-----+----------+\n",
            "|[lost, lakes, shapes, body,...|   Angry|[0.47985174366815764,0.2639...|  0.0|       0.0|\n",
            "|[see, view, way, trailing, ...|   Happy|[0.4787799144818327,0.26163...|  1.0|       0.0|\n",
            "|[black, flies, windowsill, ...|   Angry|[0.47795582327083197,0.2553...|  0.0|       0.0|\n",
            "|[fogs, silent, deadly, ghos...|   Angry|[0.4779047203866837,0.26051...|  0.0|       0.0|\n",
            "|[comes, rainstorm, get, rub...|   Angry|[0.477792236109591,0.257977...|  0.0|       0.0|\n",
            "|[ryan, miller, adam, gardne...|   Angry|[0.47777016348622026,0.2521...|  0.0|       0.0|\n",
            "|[oh, say, shook, lost, summ...|   Angry|[0.4776267682258459,0.25800...|  0.0|       0.0|\n",
            "|[love, summer, gone, eyes, ...|   Angry|[0.47743560549478914,0.2630...|  0.0|       0.0|\n",
            "|[years, creep, slowly, lore...|   Angry|[0.4772187447390253,0.26282...|  0.0|       0.0|\n",
            "|[middle, summer, sleeping, ...|   Happy|[0.47698623890158115,0.2634...|  1.0|       0.0|\n",
            "+------------------------------+--------+------------------------------+-----+----------+\n",
            "only showing top 10 rows\n",
            "\n"
          ]
        }
      ],
      "source": [
        "from pyspark.ml.classification import RandomForestClassifier\n",
        "rf = RandomForestClassifier(labelCol=\"label\", \\\n",
        "                            featuresCol=\"features\", \\\n",
        "                            numTrees = 100, \\\n",
        "                            maxDepth = 4, \\\n",
        "                            maxBins = 32)\n",
        "# Train model with Training Data\n",
        "rfModel = rf.fit(trainingData)\n",
        "predictions = rfModel.transform(testData)\n",
        "predictions.filter(predictions['prediction'] == 0) \\\n",
        "    .select(\"filtered\",\"category\",\"probability\",\"label\",\"prediction\") \\\n",
        "    .orderBy(\"probability\", ascending=False) \\\n",
        "    .show(n = 10, truncate = 30)"
      ]
    },
    {
      "cell_type": "code",
      "execution_count": 38,
      "id": "c25bc498-d8c9-4fdb-b711-5ef1731b367d",
      "metadata": {
        "colab": {
          "base_uri": "https://localhost:8080/"
        },
        "id": "c25bc498-d8c9-4fdb-b711-5ef1731b367d",
        "outputId": "1ab52764-5856-4bc3-c7dc-f1c78f8285a8"
      },
      "outputs": [
        {
          "name": "stdout",
          "output_type": "stream",
          "text": [
            "0.30228073087273916\n"
          ]
        }
      ],
      "source": [
        "evaluator = MulticlassClassificationEvaluator(predictionCol=\"prediction\")\n",
        "rfAccuracy = evaluator.evaluate(predictions)\n",
        "print(rfAccuracy)"
      ]
    },
    {
      "cell_type": "code",
      "execution_count": 39,
      "id": "k1-8f64yS0e0",
      "metadata": {
        "colab": {
          "base_uri": "https://localhost:8080/"
        },
        "id": "k1-8f64yS0e0",
        "outputId": "8f918d8c-2392-4e03-8eae-d2a0fbbe6f97"
      },
      "outputs": [
        {
          "name": "stdout",
          "output_type": "stream",
          "text": [
            "+----+------+---------------+--------------------+--------+---------------------+-------------+---------------+---------------+\n",
            "|  id|artist|          title|              lyrics|category|p_Logistic_Regression|p_Naive_Bayes|p_Decision_Tree|p_Random_Forest|\n",
            "+----+------+---------------+--------------------+--------+---------------------+-------------+---------------+---------------+\n",
            "|2262|Eminem|        Bad Guy|Part 1: Produced ...|   Happy|                  Sad|          Sad|          Angry|          Angry|\n",
            "|2263|Eminem|Rhyme or Reason|[Intro: Sample + ...|   Angry|                Angry|      Relaxed|            Sad|          Angry|\n",
            "|2264|Eminem| So Much Better|[Intro]\\nYou fuck...|   Angry|                  Sad|      Relaxed|            Sad|          Angry|\n",
            "|2265|Eminem|           Stan|[Produced by DJ M...|   Happy|                Angry|        Angry|          Angry|          Angry|\n",
            "|2266|Eminem|      The Sauce|[Intro]\\nIt's all...| Relaxed|                Angry|      Relaxed|          Angry|          Angry|\n",
            "|2267|Eminem|         Tonite|[Produced by Mr. ...|   Happy|                Angry|      Relaxed|            Sad|          Angry|\n",
            "+----+------+---------------+--------------------+--------+---------------------+-------------+---------------+---------------+\n",
            "\n"
          ]
        }
      ],
      "source": [
        "predictions = predictions.withColumn('id', row_number().over(w))\n",
        "\n",
        "tmp = predictions.select(\"id\", \"prediction\")\n",
        "classificationResults = classificationResults.join(tmp, [\"id\"], )\n",
        "classificationResults = classificationResults.withColumn(\"prediction\", classificationResults[\"prediction\"].cast(StringType()))\\\n",
        "                      .replace(to_replace=categoriess, subset=['prediction'])\\\n",
        "                      .withColumnRenamed(\"prediction\", \"p_Random_Forest\")\n",
        "\n",
        "classificationResults.filter(predictions['artist'] == 'Eminem').show()"
      ]
    },
    {
      "cell_type": "markdown",
      "id": "562d895b-ebc1-41a7-8a96-9abaa9d2d3ac",
      "metadata": {
        "id": "562d895b-ebc1-41a7-8a96-9abaa9d2d3ac"
      },
      "source": [
        "## OnevsRest classifer"
      ]
    },
    {
      "cell_type": "code",
      "execution_count": 40,
      "id": "791f3b84-0a07-48ec-b673-32c0ff92b9b7",
      "metadata": {
        "colab": {
          "base_uri": "https://localhost:8080/"
        },
        "id": "791f3b84-0a07-48ec-b673-32c0ff92b9b7",
        "outputId": "66a394b3-ad21-4bcb-e4db-a177f37262f4"
      },
      "outputs": [
        {
          "name": "stdout",
          "output_type": "stream",
          "text": [
            "+------------------------------+--------+-----+----------+\n",
            "|                      filtered|category|label|prediction|\n",
            "+------------------------------+--------+-----+----------+\n",
            "|[think, help, wonder, yeste...|   Happy|  1.0|       0.0|\n",
            "|[saw, came, evening, sighs,...|   Angry|  0.0|       0.0|\n",
            "|[another, page, history, an...|   Angry|  0.0|       0.0|\n",
            "|[remember, dessert, places,...|   Happy|  1.0|       0.0|\n",
            "|[history, bluest, grace, fa...|   Angry|  0.0|       0.0|\n",
            "|[digging, deeper, mind, get...|   Angry|  0.0|       0.0|\n",
            "|[buck, drew, gustafson, aug...|   Happy|  1.0|       0.0|\n",
            "|[well, cold, water, cold, s...|   Angry|  0.0|       0.0|\n",
            "|[desert, landscape, continu...| Relaxed|  3.0|       0.0|\n",
            "|[sure, suns, gonna, shine, ...|   Happy|  1.0|       0.0|\n",
            "+------------------------------+--------+-----+----------+\n",
            "only showing top 10 rows\n",
            "\n"
          ]
        }
      ],
      "source": [
        "from pyspark.ml.classification import LogisticRegression, OneVsRest\n",
        "\n",
        "lr = LogisticRegression(maxIter=20, regParam=0.3, elasticNetParam=0)\n",
        "\n",
        "ovr = OneVsRest(classifier=lr)\n",
        "\n",
        "ovrModel = ovr.fit(trainingData)\n",
        "\n",
        "# score the model on test data.\n",
        "predictions = ovrModel.transform(testData)\n",
        "\n",
        "predictions.filter(predictions['prediction'] == 0) \\\n",
        "    .select(\"filtered\",\"category\",\"label\",\"prediction\") \\\n",
        "    .show(n = 10, truncate = 30)"
      ]
    },
    {
      "cell_type": "code",
      "execution_count": 41,
      "id": "cb7a2e14-0734-4ace-a9c9-b708ef8dc275",
      "metadata": {
        "colab": {
          "base_uri": "https://localhost:8080/"
        },
        "id": "cb7a2e14-0734-4ace-a9c9-b708ef8dc275",
        "outputId": "ace0026d-ebcb-42be-b9fc-f47be3844895"
      },
      "outputs": [
        {
          "name": "stdout",
          "output_type": "stream",
          "text": [
            "0.37483801705761133\n"
          ]
        }
      ],
      "source": [
        "evaluator = MulticlassClassificationEvaluator(predictionCol=\"prediction\")\n",
        "ovrAccuracy = evaluator.evaluate(predictions)\n",
        "print(ovrAccuracy)"
      ]
    },
    {
      "cell_type": "code",
      "execution_count": 42,
      "id": "qipjdxVJEL8o",
      "metadata": {
        "colab": {
          "base_uri": "https://localhost:8080/"
        },
        "id": "qipjdxVJEL8o",
        "outputId": "c5437d64-9eaa-4a94-b0d1-0fb33bd65c1d"
      },
      "outputs": [
        {
          "name": "stdout",
          "output_type": "stream",
          "text": [
            "+----+------+---------------+--------------------+--------+---------------------+-------------+---------------+---------------+-------------+\n",
            "|  id|artist|          title|              lyrics|category|p_Logistic_Regression|p_Naive_Bayes|p_Decision_Tree|p_Random_Forest|p_One_vs_Rest|\n",
            "+----+------+---------------+--------------------+--------+---------------------+-------------+---------------+---------------+-------------+\n",
            "|2262|Eminem|        Bad Guy|Part 1: Produced ...|   Happy|                  Sad|          Sad|          Angry|          Angry|          Sad|\n",
            "|2263|Eminem|Rhyme or Reason|[Intro: Sample + ...|   Angry|                Angry|      Relaxed|            Sad|          Angry|        Angry|\n",
            "|2264|Eminem| So Much Better|[Intro]\\nYou fuck...|   Angry|                  Sad|      Relaxed|            Sad|          Angry|          Sad|\n",
            "|2265|Eminem|           Stan|[Produced by DJ M...|   Happy|                Angry|        Angry|          Angry|          Angry|        Angry|\n",
            "|2266|Eminem|      The Sauce|[Intro]\\nIt's all...| Relaxed|                Angry|      Relaxed|          Angry|          Angry|        Angry|\n",
            "|2267|Eminem|         Tonite|[Produced by Mr. ...|   Happy|                Angry|      Relaxed|            Sad|          Angry|        Angry|\n",
            "+----+------+---------------+--------------------+--------+---------------------+-------------+---------------+---------------+-------------+\n",
            "\n"
          ]
        }
      ],
      "source": [
        "predictions = predictions.withColumn('id', row_number().over(w))\n",
        "\n",
        "tmp = predictions.select(\"id\", \"prediction\")\n",
        "classificationResults = classificationResults.join(tmp, [\"id\"], )\n",
        "classificationResults = classificationResults.withColumn(\"prediction\", classificationResults[\"prediction\"].cast(StringType()))\\\n",
        "                      .replace(to_replace=categoriess, subset=['prediction'])\\\n",
        "                      .withColumnRenamed(\"prediction\", \"p_One_vs_Rest\")\n",
        "\n",
        "classificationResults.filter(predictions['artist'] == 'Eminem').show()"
      ]
    },
    {
      "cell_type": "markdown",
      "id": "82ca4712-3e25-47be-84aa-c0ae1598c6c3",
      "metadata": {
        "id": "82ca4712-3e25-47be-84aa-c0ae1598c6c3"
      },
      "source": [
        "## Visualization"
      ]
    },
    {
      "cell_type": "code",
      "execution_count": 43,
      "id": "5a755f5b-2880-496f-9660-58d5935f7331",
      "metadata": {
        "id": "5a755f5b-2880-496f-9660-58d5935f7331"
      },
      "outputs": [],
      "source": [
        "import matplotlib.pyplot as plt\n",
        "import numpy as np\n",
        "model = ['Logistic regression', 'Naive Bayes', 'Random Forest', 'OneVsRest']\n",
        "accuracy = [lrAccuracy,nbAccuracy,rfAccuracy, ovrAccuracy]"
      ]
    },
    {
      "cell_type": "code",
      "execution_count": 44,
      "id": "47be5f86-f78a-4326-8386-e74fae4e7058",
      "metadata": {
        "colab": {
          "base_uri": "https://localhost:8080/",
          "height": 535
        },
        "id": "47be5f86-f78a-4326-8386-e74fae4e7058",
        "outputId": "c8deb8be-60cb-4a6e-e6be-10e50b09d3f5"
      },
      "outputs": [
        {
          "data": {
            "image/png": "[encoded data removed]",
            "text/plain": [
              "<Figure size 640x480 with 1 Axes>"
            ]
          },
          "metadata": {},
          "output_type": "display_data"
        }
      ],
      "source": [
        "def plot_bar_x():\n",
        "    # this is for plotting purpose\n",
        "    index = np.arange(len(model))\n",
        "    plt.bar(index, accuracy)\n",
        "    plt.xlabel('models', fontsize=10)\n",
        "    plt.ylabel('prediction accuracy', fontsize=10)\n",
        "    plt.xticks(index, model, fontsize=10, rotation=30)\n",
        "    plt.title('Accuracy of each model')\n",
        "    plt.show()\n",
        "\n",
        "plot_bar_x()"
      ]
    },
    {
      "cell_type": "code",
      "execution_count": 45,
      "id": "ucLdXWKJEUPj",
      "metadata": {
        "colab": {
          "base_uri": "https://localhost:8080/"
        },
        "id": "ucLdXWKJEUPj",
        "outputId": "d8c17305-b17b-4563-e749-b58d8eb440b4"
      },
      "outputs": [
        {
          "name": "stdout",
          "output_type": "stream",
          "text": [
            "+----+------+---------------+--------------------+--------+---------------------+-------------+---------------+---------------+-------------+\n",
            "|  id|artist|          title|              lyrics|category|p_Logistic_Regression|p_Naive_Bayes|p_Decision_Tree|p_Random_Forest|p_One_vs_Rest|\n",
            "+----+------+---------------+--------------------+--------+---------------------+-------------+---------------+---------------+-------------+\n",
            "|2262|Eminem|        Bad Guy|Part 1: Produced ...|   Happy|                  Sad|          Sad|          Angry|          Angry|          Sad|\n",
            "|2263|Eminem|Rhyme or Reason|[Intro: Sample + ...|   Angry|                Angry|      Relaxed|            Sad|          Angry|        Angry|\n",
            "|2264|Eminem| So Much Better|[Intro]\\nYou fuck...|   Angry|                  Sad|      Relaxed|            Sad|          Angry|          Sad|\n",
            "|2265|Eminem|           Stan|[Produced by DJ M...|   Happy|                Angry|        Angry|          Angry|          Angry|        Angry|\n",
            "|2266|Eminem|      The Sauce|[Intro]\\nIt's all...| Relaxed|                Angry|      Relaxed|          Angry|          Angry|        Angry|\n",
            "|2267|Eminem|         Tonite|[Produced by Mr. ...|   Happy|                Angry|      Relaxed|            Sad|          Angry|        Angry|\n",
            "+----+------+---------------+--------------------+--------+---------------------+-------------+---------------+---------------+-------------+\n",
            "\n"
          ]
        }
      ],
      "source": [
        "classificationResults.where(col('artist').like(\"E%\")).show(5000)"
      ]
    }
  ],
  "metadata": {
    "colab": {
      "provenance": []
    },
    "kernelspec": {
      "display_name": "Python 3 (ipykernel)",
      "language": "python",
      "name": "python3"
    },
    "language_info": {
      "codemirror_mode": {
        "name": "ipython",
        "version": 3
      },
      "file_extension": ".py",
      "mimetype": "text/x-python",
      "name": "python",
      "nbconvert_exporter": "python",
      "pygments_lexer": "ipython3",
      "version": "3.10.12"
    }
  },
  "nbformat": 4,
  "nbformat_minor": 5
}
